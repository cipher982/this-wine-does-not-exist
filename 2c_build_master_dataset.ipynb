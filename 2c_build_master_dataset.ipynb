{
 "cells": [
  {
   "cell_type": "code",
   "execution_count": 1,
   "metadata": {
    "ExecuteTime": {
     "end_time": "2020-10-01T19:26:51.568031Z",
     "start_time": "2020-10-01T19:26:51.038035Z"
    }
   },
   "outputs": [],
   "source": [
    "import pandas as pd\n",
    "import bs4\n",
    "import glob\n",
    "import re\n",
    "import sys\n",
    "import tqdm\n",
    "\n",
    "from ferment_wine import ferment_wine"
   ]
  },
  {
   "cell_type": "code",
   "execution_count": 2,
   "metadata": {
    "ExecuteTime": {
     "end_time": "2020-10-01T19:26:51.614532Z",
     "start_time": "2020-10-01T19:26:51.598032Z"
    }
   },
   "outputs": [],
   "source": [
    "DATA_DIR = 'E:/wine_pages/'"
   ]
  },
  {
   "cell_type": "code",
   "execution_count": 3,
   "metadata": {
    "ExecuteTime": {
     "end_time": "2020-08-26T23:10:11.237853Z",
     "start_time": "2020-08-26T23:10:10.600877Z"
    }
   },
   "outputs": [
    {
     "data": {
      "text/html": [
       "<div>\n",
       "<style scoped>\n",
       "    .dataframe tbody tr th:only-of-type {\n",
       "        vertical-align: middle;\n",
       "    }\n",
       "\n",
       "    .dataframe tbody tr th {\n",
       "        vertical-align: top;\n",
       "    }\n",
       "\n",
       "    .dataframe thead th {\n",
       "        text-align: right;\n",
       "    }\n",
       "</style>\n",
       "<table border=\"1\" class=\"dataframe\">\n",
       "  <thead>\n",
       "    <tr style=\"text-align: right;\">\n",
       "      <th></th>\n",
       "      <th>url</th>\n",
       "      <th>response_code</th>\n",
       "    </tr>\n",
       "  </thead>\n",
       "  <tbody>\n",
       "    <tr>\n",
       "      <th>0</th>\n",
       "      <td>/product/Dom-Perignon-Lenny-Kravitz-Limited-Ed...</td>\n",
       "      <td>200</td>\n",
       "    </tr>\n",
       "    <tr>\n",
       "      <th>1</th>\n",
       "      <td>/product/Louis-Roederer-Cristal-Brut-with-Two-...</td>\n",
       "      <td>200</td>\n",
       "    </tr>\n",
       "    <tr>\n",
       "      <th>2</th>\n",
       "      <td>/product/Laurent-Perrier-Cuvee-Rose/10521</td>\n",
       "      <td>200</td>\n",
       "    </tr>\n",
       "    <tr>\n",
       "      <th>3</th>\n",
       "      <td>/product/Piper-Heidsieck-Cuvee-Brut-in-Travel-...</td>\n",
       "      <td>200</td>\n",
       "    </tr>\n",
       "    <tr>\n",
       "      <th>4</th>\n",
       "      <td>/product/Clarendon-Hills-Astralis-Syrah-2011/5...</td>\n",
       "      <td>200</td>\n",
       "    </tr>\n",
       "  </tbody>\n",
       "</table>\n",
       "</div>"
      ],
      "text/plain": [
       "                                                 url response_code\n",
       "0  /product/Dom-Perignon-Lenny-Kravitz-Limited-Ed...           200\n",
       "1  /product/Louis-Roederer-Cristal-Brut-with-Two-...           200\n",
       "2          /product/Laurent-Perrier-Cuvee-Rose/10521           200\n",
       "3  /product/Piper-Heidsieck-Cuvee-Brut-in-Travel-...           200\n",
       "4  /product/Clarendon-Hills-Astralis-Syrah-2011/5...           200"
      ]
     },
     "execution_count": 3,
     "metadata": {},
     "output_type": "execute_result"
    }
   ],
   "source": [
    "scraping_log = pd.read_csv(DATA_DIR+'log.txt', header=None, sep='\\t')\n",
    "scraping_log['response_code'] = scraping_log[1].str.split('<ResponseCode>:', expand=True)[1]\n",
    "scraping_log['url'] = scraping_log[0].str.split('<URL>:', expand=True)[1]\n",
    "scraping_log = scraping_log[['url','response_code']]\n",
    "\n",
    "scraping_log.head()"
   ]
  },
  {
   "cell_type": "code",
   "execution_count": 4,
   "metadata": {
    "ExecuteTime": {
     "end_time": "2020-08-26T23:10:11.993311Z",
     "start_time": "2020-08-26T23:10:11.977281Z"
    }
   },
   "outputs": [
    {
     "data": {
      "text/plain": [
       "200    130218\n",
       "404        80\n",
       "503        43\n",
       "502         6\n",
       "500         1\n",
       "Name: response_code, dtype: int64"
      ]
     },
     "execution_count": 4,
     "metadata": {},
     "output_type": "execute_result"
    }
   ],
   "source": [
    "scraping_log['response_code'].value_counts()"
   ]
  },
  {
   "cell_type": "code",
   "execution_count": 17,
   "metadata": {
    "ExecuteTime": {
     "end_time": "2020-08-26T23:20:19.032675Z",
     "start_time": "2020-08-26T23:20:18.405675Z"
    }
   },
   "outputs": [
    {
     "name": "stdout",
     "output_type": "stream",
     "text": [
      "Total 200 status pages found: 125,950\n"
     ]
    }
   ],
   "source": [
    "file_paths = glob.glob(DATA_DIR+'200*html')\n",
    "print(f\"Total 200 status pages found: {len(file_paths):,}\")"
   ]
  },
  {
   "cell_type": "code",
   "execution_count": 18,
   "metadata": {
    "ExecuteTime": {
     "end_time": "2020-08-27T00:40:13.571797Z",
     "start_time": "2020-08-26T23:20:19.810725Z"
    }
   },
   "outputs": [],
   "source": [
    "import multiprocessing as mp\n",
    "\n",
    "p = mp.Pool(processes=16)\n",
    "df_list = p.map(ferment_wine, file_paths)"
   ]
  },
  {
   "cell_type": "code",
   "execution_count": null,
   "metadata": {
    "ExecuteTime": {
     "end_time": "2020-08-27T02:42:26.900539Z",
     "start_time": "2020-08-27T02:40:57.221Z"
    }
   },
   "outputs": [],
   "source": [
    "errs = wine_df[wine_df['category_1'].isnull()]\n",
    "print(errs.shape)"
   ]
  },
  {
   "cell_type": "code",
   "execution_count": 23,
   "metadata": {
    "ExecuteTime": {
     "end_time": "2020-08-27T02:42:32.648060Z",
     "start_time": "2020-08-27T02:42:32.542029Z"
    }
   },
   "outputs": [
    {
     "data": {
      "text/plain": [
       "name               0\n",
       "description        0\n",
       "price              0\n",
       "category_1         0\n",
       "category_2         0\n",
       "origin             0\n",
       "wine_size_value    0\n",
       "wine_size_units    0\n",
       "wine_abv           0\n",
       "dtype: int64"
      ]
     },
     "execution_count": 23,
     "metadata": {},
     "output_type": "execute_result"
    }
   ],
   "source": [
    "wine_df.isnull().sum()"
   ]
  },
  {
   "cell_type": "code",
   "execution_count": null,
   "metadata": {
    "ExecuteTime": {
     "end_time": "2020-08-27T02:42:58.896030Z",
     "start_time": "2020-08-27T02:42:46.124Z"
    }
   },
   "outputs": [],
   "source": [
    "wine_df.sample(50)"
   ]
  },
  {
   "cell_type": "code",
   "execution_count": 22,
   "metadata": {
    "ExecuteTime": {
     "end_time": "2020-08-27T02:40:12.796000Z",
     "start_time": "2020-08-27T02:39:58.109003Z"
    }
   },
   "outputs": [
    {
     "name": "stdout",
     "output_type": "stream",
     "text": [
      "(123516, 9)\n"
     ]
    }
   ],
   "source": [
    "wine_df = pd.concat(df_list)\n",
    "print(wine_df.shape)\n",
    "\n",
    "wine_df.to_pickle('data/best_wine_df_ever.pickle.gzip', compression='gzip')"
   ]
  },
  {
   "cell_type": "markdown",
   "metadata": {},
   "source": [
    "# Scratch"
   ]
  },
  {
   "cell_type": "code",
   "execution_count": 14,
   "metadata": {
    "ExecuteTime": {
     "end_time": "2020-08-26T16:46:18.691418Z",
     "start_time": "2020-08-26T16:46:18.687457Z"
    }
   },
   "outputs": [
    {
     "name": "stdout",
     "output_type": "stream",
     "text": [
      "('E:/wine_pages\\\\200_∕product∕1000-Stories-Bourbon-Barrel-Aged-Batch-Blue-Carignan-2016∕431257.html', 'Traceback (most recent call last):\\n  File \"C:\\\\Users\\\\david\\\\Documents\\\\github\\\\this-wine-does-not-exist\\\\ferment_wine.py\", line 63, in ferment_wine\\n    wine_df.append(wine_row)\\nNameError: name \\'wine_df\\' is not defined\\n')\n"
     ]
    }
   ],
   "source": [
    "print(bad_wines[0])"
   ]
  },
  {
   "cell_type": "code",
   "execution_count": 139,
   "metadata": {
    "ExecuteTime": {
     "end_time": "2020-08-26T01:43:22.274719Z",
     "start_time": "2020-08-26T01:43:22.256719Z"
    }
   },
   "outputs": [
    {
     "data": {
      "text/plain": [
       "'90+ Point Cabernet & Godiva Limited Edition Holiday Chocolates'"
      ]
     },
     "execution_count": 139,
     "metadata": {},
     "output_type": "execute_result"
    }
   ],
   "source": [
    "wine_name = soup.find('h1',attrs={'itemprop':'name'}).text\n",
    "wine_name"
   ]
  },
  {
   "cell_type": "code",
   "execution_count": 133,
   "metadata": {
    "ExecuteTime": {
     "end_time": "2020-08-26T01:37:54.287406Z",
     "start_time": "2020-08-26T01:37:54.257404Z"
    }
   },
   "outputs": [
    {
     "name": "stdout",
     "output_type": "stream",
     "text": [
      "<div class=\"viewMoreModule_text\"><p>Irresistible all over, the rich and fruity Baileyana Firepeak Pinot Noir is paired with this holiday designed gift box from Godiva that is filled with an exceptional assortment of truffles including fabulous flavors, such as Salted Caramel, Roasted Almond, Christmas Cookie, Cranberry, and more.</p><br/><b>Wine Gift Includes:</b><ul><li><b>Baileyana Firepeak Pinot Noir</b><br/>Aromas of bright cherry, blackberry, rose petal, and hints of spice burst from the glass of this bright and nicely balanced Pinot Noir. Flavors of dark fruit, blueberry, mocha, and cola flavors along with soft supple tannins create a beautiful finish.</li><li><b>Godiva Truffles Seasonal Gift Box, 12 pc.</b><br/>Godiva's gorgeous green Godiva Holiday Truffles Gift Box boasts a beautiful Christmas tree illustration created by Swedish-born artist and designer Lotta Kühlhorn. Inside, the chocolate assortment includes 12 delectable Belgian chocolate truffles in fabulous flavors, such as Salted Caramel, Roasted Almond, Christmas Cookie, Cranberry, and more of Godiva's gourmet chocolate truffle flavors. 8.2 oz\n",
      "Godiva’s 2019 Holiday Collection is designed by Lotta Kühlhorn, a Swedish-born illustrator and designer. Lotta is known for the bold patterns and vibrant color she uses to create beautiful, patterned designs.</li></ul><p>Due to the popularity of this gift, wines or vintages sometimes sell out. Should this happen, we will always substitute with wines of equal or greater value. Pursuant to state laws in New York, gifts that contain both food and wine will be sent in two separate packages.</p></div>\n",
      "\n",
      " Irresistible all over, the rich and fruity Baileyana Firepeak Pinot Noir is paired with this holiday designed gift box from Godiva that is filled with an exceptional assortment of truffles including fabulous flavors, such as Salted Caramel, Roasted Almond, Christmas Cookie, Cranberry, and more.\n",
      "Due to the popularity of this gift, wines or vintages sometimes sell out. Should this happen, we will always substitute with wines of equal or greater value. Pursuant to state laws in New York, gifts that contain both food and wine will be sent in two separate packages.\n"
     ]
    }
   ],
   "source": [
    "wine_description = soup.find('div', attrs={'class':'viewMoreModule_text'})\n",
    "print(wine_description)\n",
    "if len(wine_description.find_all('p')) > 0:\n",
    "  fixed_description = '\\n'.join(str(tag.text) for tag in wine_description.find_all('p'))\n",
    "else:\n",
    "  fixed_description = wine_description.text\n",
    "print(\"\\n\",fixed_description)"
   ]
  },
  {
   "cell_type": "code",
   "execution_count": 130,
   "metadata": {
    "ExecuteTime": {
     "end_time": "2020-08-26T01:33:45.116332Z",
     "start_time": "2020-08-26T01:33:45.077332Z"
    }
   },
   "outputs": [
    {
     "name": "stdout",
     "output_type": "stream",
     "text": [
      "18.99\n"
     ]
    }
   ],
   "source": [
    "wine_price = soup.find('div', attrs={'class','productPrice'})\n",
    "if wine_price is None:\n",
    "  wine_price = soup.find('meta', attrs={'itemprop':'price'})['content']\n",
    "else:\n",
    "  wine_price = wine_price.find('meta', {'itemprop':'price'})['content']\n",
    "print(wine_price)"
   ]
  },
  {
   "cell_type": "code",
   "execution_count": 129,
   "metadata": {
    "ExecuteTime": {
     "end_time": "2020-08-26T01:29:57.226137Z",
     "start_time": "2020-08-26T01:29:57.217137Z"
    }
   },
   "outputs": [
    {
     "data": {
      "text/plain": [
       "'18.99'"
      ]
     },
     "execution_count": 129,
     "metadata": {},
     "output_type": "execute_result"
    }
   ],
   "source": [
    "soup.find('meta', attrs={'itemprop':'price'})['content']"
   ]
  },
  {
   "cell_type": "code",
   "execution_count": 125,
   "metadata": {
    "ExecuteTime": {
     "end_time": "2020-08-26T01:26:22.719752Z",
     "start_time": "2020-08-26T01:26:22.692753Z"
    }
   },
   "outputs": [],
   "source": [
    "soup.find('div', attrs={'class','productPrice'})"
   ]
  },
  {
   "cell_type": "code",
   "execution_count": 100,
   "metadata": {
    "ExecuteTime": {
     "end_time": "2020-08-25T23:48:54.177040Z",
     "start_time": "2020-08-25T23:48:54.158016Z"
    }
   },
   "outputs": [
    {
     "name": "stdout",
     "output_type": "stream",
     "text": [
      "White Wine\n"
     ]
    }
   ],
   "source": [
    "wine_category_1 = soup.find(\"ul\", attrs={\"class\":\"prodAttr\"}).find(\"li\")['title']\n",
    "print(wine_category_1)"
   ]
  },
  {
   "cell_type": "code",
   "execution_count": 101,
   "metadata": {
    "ExecuteTime": {
     "end_time": "2020-08-25T23:49:05.078801Z",
     "start_time": "2020-08-25T23:49:05.060801Z"
    }
   },
   "outputs": [
    {
     "name": "stdout",
     "output_type": "stream",
     "text": [
      "Pinot Gris/Grigio\n"
     ]
    }
   ],
   "source": [
    "wine_category_2 = soup.find(\"span\", {\"class\":\"prodItemInfo_varietal\"}).text\n",
    "print(wine_category_2)"
   ]
  },
  {
   "cell_type": "code",
   "execution_count": 102,
   "metadata": {
    "ExecuteTime": {
     "end_time": "2020-08-25T23:49:16.150109Z",
     "start_time": "2020-08-25T23:49:16.142107Z"
    }
   },
   "outputs": [
    {
     "name": "stdout",
     "output_type": "stream",
     "text": [
      " from Veneto, Italy\n"
     ]
    }
   ],
   "source": [
    "wine_origin = soup.find(\"span\", {\"class\":\"prodItemInfo_originText\"}).text\n",
    "print(wine_origin)"
   ]
  },
  {
   "cell_type": "code",
   "execution_count": 103,
   "metadata": {
    "ExecuteTime": {
     "end_time": "2020-08-25T23:49:32.039630Z",
     "start_time": "2020-08-25T23:49:32.017605Z"
    }
   },
   "outputs": [
    {
     "name": "stdout",
     "output_type": "stream",
     "text": [
      "750\n"
     ]
    }
   ],
   "source": [
    "wine_size_value = soup.find(\"span\", attrs={\"class\":\"prodAlcoholVolume_text\"}).text\n",
    "print(wine_size_value)"
   ]
  },
  {
   "cell_type": "code",
   "execution_count": 106,
   "metadata": {
    "ExecuteTime": {
     "end_time": "2020-08-25T23:49:58.976568Z",
     "start_time": "2020-08-25T23:49:58.955568Z"
    }
   },
   "outputs": [
    {
     "name": "stdout",
     "output_type": "stream",
     "text": [
      "ML\n"
     ]
    }
   ],
   "source": [
    "wine_size_units = re.findall(\"[a-zA-Z]+\", soup.find(\"span\", attrs={\"class\":\"prodAlcoholVolume\"}).text)[0]\n",
    "print(wine_size_units)"
   ]
  },
  {
   "cell_type": "code",
   "execution_count": 107,
   "metadata": {
    "ExecuteTime": {
     "end_time": "2020-08-25T23:50:19.444636Z",
     "start_time": "2020-08-25T23:50:19.434636Z"
    }
   },
   "outputs": [
    {
     "name": "stdout",
     "output_type": "stream",
     "text": [
      "12.5\n"
     ]
    }
   ],
   "source": [
    "wine_abv = soup.find(\"span\", attrs={\"class\":\"prodAlcoholPercent_percent\"}).text\n",
    "print(wine_abv)"
   ]
  },
  {
   "cell_type": "markdown",
   "metadata": {
    "ExecuteTime": {
     "end_time": "2020-08-25T18:50:32.860008Z",
     "start_time": "2020-08-25T18:50:32.853009Z"
    }
   },
   "source": [
    "---------------------"
   ]
  },
  {
   "cell_type": "markdown",
   "metadata": {},
   "source": [
    "# OLD"
   ]
  },
  {
   "cell_type": "code",
   "execution_count": 4,
   "metadata": {
    "ExecuteTime": {
     "end_time": "2020-08-20T17:20:39.100224Z",
     "start_time": "2020-08-20T17:20:37.156751Z"
    }
   },
   "outputs": [
    {
     "name": "stdout",
     "output_type": "stream",
     "text": [
      "(125787, 7)\n"
     ]
    }
   ],
   "source": [
    "raw_df = pd.read_pickle('data/scraped/scraped_with_decs.pickle.gzip', compression='gzip')\n",
    "print(raw_df.shape)"
   ]
  },
  {
   "cell_type": "code",
   "execution_count": 102,
   "metadata": {
    "ExecuteTime": {
     "end_time": "2020-08-20T18:35:30.334443Z",
     "start_time": "2020-08-20T18:35:30.316443Z"
    }
   },
   "outputs": [
    {
     "data": {
      "text/html": [
       "<div>\n",
       "<style scoped>\n",
       "    .dataframe tbody tr th:only-of-type {\n",
       "        vertical-align: middle;\n",
       "    }\n",
       "\n",
       "    .dataframe tbody tr th {\n",
       "        vertical-align: top;\n",
       "    }\n",
       "\n",
       "    .dataframe thead th {\n",
       "        text-align: right;\n",
       "    }\n",
       "</style>\n",
       "<table border=\"1\" class=\"dataframe\">\n",
       "  <thead>\n",
       "    <tr style=\"text-align: right;\">\n",
       "      <th></th>\n",
       "      <th>name</th>\n",
       "      <th>image_path</th>\n",
       "      <th>price</th>\n",
       "      <th>url</th>\n",
       "      <th>raw_html</th>\n",
       "      <th>URL_name</th>\n",
       "      <th>description</th>\n",
       "    </tr>\n",
       "  </thead>\n",
       "  <tbody>\n",
       "    <tr>\n",
       "      <th>0</th>\n",
       "      <td>Dom Perignon Lenny Kravitz Limited Edition wit...</td>\n",
       "      <td>/product/images/fl_progressive/lmgmud1xsenlouw...</td>\n",
       "      <td>199.97</td>\n",
       "      <td>/product/Dom-Perignon-Lenny-Kravitz-Limited-Ed...</td>\n",
       "      <td>&lt;div class=\"prodItem_wrap\"&gt;\\n&lt;div class=\"prodI...</td>\n",
       "      <td>/product/Dom-Perignon-Lenny-Kravitz-Limited-Ed...</td>\n",
       "      <td>Dom Pérignon Vintage 2008 has been distinguish...</td>\n",
       "    </tr>\n",
       "    <tr>\n",
       "      <th>1</th>\n",
       "      <td>Louis Roederer Cristal Brut with Two Flutes an...</td>\n",
       "      <td>/product/images/fl_progressive/iqec7e0nf6mzyof...</td>\n",
       "      <td>329.99</td>\n",
       "      <td>/product/Louis-Roederer-Cristal-Brut-with-Two-...</td>\n",
       "      <td>&lt;div class=\"prodItem_wrap\"&gt;\\n&lt;div class=\"prodI...</td>\n",
       "      <td>/product/Louis-Roederer-Cristal-Brut-with-Two-...</td>\n",
       "      <td>Gift pack containing one bottle of 2008 Louis ...</td>\n",
       "    </tr>\n",
       "    <tr>\n",
       "      <th>2</th>\n",
       "      <td>Laurent-Perrier Cuvee Rose</td>\n",
       "      <td>/product/images/fl_progressive/10521.jpg</td>\n",
       "      <td>79.99</td>\n",
       "      <td>/product/Laurent-Perrier-Cuvee-Rose/10521</td>\n",
       "      <td>&lt;div class=\"prodItem_wrap\"&gt;\\n&lt;div class=\"prodI...</td>\n",
       "      <td>/product/Laurent-Perrier-Cuvee-Rose/10521</td>\n",
       "      <td>The Cuvée Rosé from Laurent-Perrier is the mos...</td>\n",
       "    </tr>\n",
       "  </tbody>\n",
       "</table>\n",
       "</div>"
      ],
      "text/plain": [
       "                                                name  \\\n",
       "0  Dom Perignon Lenny Kravitz Limited Edition wit...   \n",
       "1  Louis Roederer Cristal Brut with Two Flutes an...   \n",
       "2                         Laurent-Perrier Cuvee Rose   \n",
       "\n",
       "                                          image_path   price  \\\n",
       "0  /product/images/fl_progressive/lmgmud1xsenlouw...  199.97   \n",
       "1  /product/images/fl_progressive/iqec7e0nf6mzyof...  329.99   \n",
       "2           /product/images/fl_progressive/10521.jpg   79.99   \n",
       "\n",
       "                                                 url  \\\n",
       "0  /product/Dom-Perignon-Lenny-Kravitz-Limited-Ed...   \n",
       "1  /product/Louis-Roederer-Cristal-Brut-with-Two-...   \n",
       "2          /product/Laurent-Perrier-Cuvee-Rose/10521   \n",
       "\n",
       "                                            raw_html  \\\n",
       "0  <div class=\"prodItem_wrap\">\\n<div class=\"prodI...   \n",
       "1  <div class=\"prodItem_wrap\">\\n<div class=\"prodI...   \n",
       "2  <div class=\"prodItem_wrap\">\\n<div class=\"prodI...   \n",
       "\n",
       "                                            URL_name  \\\n",
       "0  /product/Dom-Perignon-Lenny-Kravitz-Limited-Ed...   \n",
       "1  /product/Louis-Roederer-Cristal-Brut-with-Two-...   \n",
       "2          /product/Laurent-Perrier-Cuvee-Rose/10521   \n",
       "\n",
       "                                         description  \n",
       "0  Dom Pérignon Vintage 2008 has been distinguish...  \n",
       "1  Gift pack containing one bottle of 2008 Louis ...  \n",
       "2  The Cuvée Rosé from Laurent-Perrier is the mos...  "
      ]
     },
     "execution_count": 102,
     "metadata": {},
     "output_type": "execute_result"
    }
   ],
   "source": [
    "raw_df.head(3)"
   ]
  },
  {
   "cell_type": "code",
   "execution_count": 7,
   "metadata": {
    "ExecuteTime": {
     "end_time": "2020-08-20T17:21:29.616786Z",
     "start_time": "2020-08-20T17:21:29.600786Z"
    }
   },
   "outputs": [],
   "source": [
    "master_df = raw_df.copy()"
   ]
  },
  {
   "cell_type": "code",
   "execution_count": 36,
   "metadata": {
    "ExecuteTime": {
     "end_time": "2020-08-20T17:37:09.839418Z",
     "start_time": "2020-08-20T17:37:09.813418Z"
    }
   },
   "outputs": [],
   "source": [
    "for ix,row in master_df.iterrows():\n",
    "  raw_html = row['raw_html']\n",
    "  soup = bs4.BeautifulSoup(raw_html)\n",
    "  if ix == 2:\n",
    "    break"
   ]
  },
  {
   "cell_type": "code",
   "execution_count": 63,
   "metadata": {
    "ExecuteTime": {
     "end_time": "2020-08-20T17:43:55.297769Z",
     "start_time": "2020-08-20T17:43:55.282767Z"
    }
   },
   "outputs": [
    {
     "name": "stdout",
     "output_type": "stream",
     "text": [
      "Sparkling & Champagne\n"
     ]
    }
   ],
   "source": [
    "wine_category_1 = soup.find(\"ul\", attrs={\"class\":\"prodAttr\"}).find(\"li\")['title']\n",
    "print(wine_category_1)"
   ]
  },
  {
   "cell_type": "code",
   "execution_count": 64,
   "metadata": {
    "ExecuteTime": {
     "end_time": "2020-08-20T17:43:55.640110Z",
     "start_time": "2020-08-20T17:43:55.633109Z"
    }
   },
   "outputs": [
    {
     "name": "stdout",
     "output_type": "stream",
     "text": [
      "Rosé Sparkling Wine\n"
     ]
    }
   ],
   "source": [
    "wine_category_2 = soup.find(\"span\", {\"class\":\"prodItemInfo_varietal\"}).text\n",
    "print(wine_category_2)"
   ]
  },
  {
   "cell_type": "code",
   "execution_count": 65,
   "metadata": {
    "ExecuteTime": {
     "end_time": "2020-08-20T17:43:58.263204Z",
     "start_time": "2020-08-20T17:43:58.244687Z"
    }
   },
   "outputs": [
    {
     "name": "stdout",
     "output_type": "stream",
     "text": [
      "Champagne, France\n"
     ]
    }
   ],
   "source": [
    "wine_origin = soup.find(\"span\", {\"class\":\"prodItemInfo_originText\"}).text\n",
    "print(wine_origin)"
   ]
  },
  {
   "cell_type": "code",
   "execution_count": 118,
   "metadata": {
    "ExecuteTime": {
     "end_time": "2020-08-20T18:41:00.659382Z",
     "start_time": "2020-08-20T18:41:00.640970Z"
    }
   },
   "outputs": [
    {
     "name": "stdout",
     "output_type": "stream",
     "text": [
      "750\n"
     ]
    }
   ],
   "source": [
    "wine_size_value = soup.find(\"span\", attrs={\"class\":\"prodAlcoholVolume_text\"}).text\n",
    "print(wine_size_value)"
   ]
  },
  {
   "cell_type": "code",
   "execution_count": 123,
   "metadata": {
    "ExecuteTime": {
     "end_time": "2020-08-20T18:42:29.737557Z",
     "start_time": "2020-08-20T18:42:29.719558Z"
    }
   },
   "outputs": [
    {
     "name": "stdout",
     "output_type": "stream",
     "text": [
      "ML\n"
     ]
    }
   ],
   "source": [
    "wine_size_units = re.findall(\"[a-zA-Z]+\", soup.find(\"span\", attrs={\"class\":\"prodAlcoholVolume\"}).text)[0]\n",
    "print(wine_size_units)"
   ]
  },
  {
   "cell_type": "code",
   "execution_count": 125,
   "metadata": {
    "ExecuteTime": {
     "end_time": "2020-08-20T18:43:11.270501Z",
     "start_time": "2020-08-20T18:43:11.257500Z"
    }
   },
   "outputs": [
    {
     "name": "stdout",
     "output_type": "stream",
     "text": [
      "12\n"
     ]
    }
   ],
   "source": [
    "wine_abv = soup.find(\"span\", attrs={\"class\":\"prodAlcoholPercent_percent\"}).text\n",
    "print(wine_abv)"
   ]
  },
  {
   "cell_type": "code",
   "execution_count": 93,
   "metadata": {
    "ExecuteTime": {
     "end_time": "2020-08-20T18:23:22.374529Z",
     "start_time": "2020-08-20T18:23:22.362529Z"
    }
   },
   "outputs": [
    {
     "data": {
      "text/plain": [
       "<div class=\"prodAlcoholPercent\" data-view1_32=\"true\">\n",
       "<div class=\"prodAlcoholPercent_content\">\n",
       "<span class=\"prodAlcoholVolume\">\n",
       "<span class=\"prodAlcoholVolume_text\">750</span>ML /\n",
       "        </span>\n",
       "<span class=\"prodAlcoholPercent_inner\">\n",
       "<span class=\"prodAlcoholPercent_percent\">12</span>% ABV\n",
       "        </span>\n",
       "</div>\n",
       "</div>"
      ]
     },
     "execution_count": 93,
     "metadata": {},
     "output_type": "execute_result"
    }
   ],
   "source": [
    "soup.find(\"span\", attrs={\"class\":\"prodAlcoholPercent_percent\"}).text\n"
   ]
  },
  {
   "cell_type": "code",
   "execution_count": 117,
   "metadata": {
    "ExecuteTime": {
     "end_time": "2020-08-20T18:40:10.332537Z",
     "start_time": "2020-08-20T18:40:10.317514Z"
    }
   },
   "outputs": [
    {
     "data": {
      "text/plain": [
       "['ML']"
      ]
     },
     "execution_count": 117,
     "metadata": {},
     "output_type": "execute_result"
    }
   ],
   "source": [
    "import re\n",
    "\n",
    "re.findall(\"[a-zA-Z]+\", soup.find(\"span\", attrs={\"class\":\"prodAlcoholVolume\"}).text)"
   ]
  },
  {
   "cell_type": "code",
   "execution_count": 110,
   "metadata": {
    "ExecuteTime": {
     "end_time": "2020-08-20T18:37:08.788473Z",
     "start_time": "2020-08-20T18:37:08.776473Z"
    }
   },
   "outputs": [
    {
     "data": {
      "text/plain": [
       "'750'"
      ]
     },
     "execution_count": 110,
     "metadata": {},
     "output_type": "execute_result"
    }
   ],
   "source": [
    "soup.find(\"span\", attrs={\"class\":\"prodAlcoholVolume_text\"}).text"
   ]
  },
  {
   "cell_type": "code",
   "execution_count": 108,
   "metadata": {
    "ExecuteTime": {
     "end_time": "2020-08-25T23:50:42.235767Z",
     "start_time": "2020-08-25T23:50:42.223766Z"
    }
   },
   "outputs": [
    {
     "data": {
      "text/plain": [
       "'750ML /'"
      ]
     },
     "execution_count": 108,
     "metadata": {},
     "output_type": "execute_result"
    }
   ],
   "source": [
    "soup.find(\"span\", attrs={\"class\":\"prodAlcoholVolume\"}).text.strip()"
   ]
  },
  {
   "cell_type": "code",
   "execution_count": null,
   "metadata": {},
   "outputs": [],
   "source": []
  },
  {
   "cell_type": "code",
   "execution_count": 94,
   "metadata": {
    "ExecuteTime": {
     "end_time": "2020-08-20T18:26:19.603308Z",
     "start_time": "2020-08-20T18:26:18.776276Z"
    }
   },
   "outputs": [],
   "source": [
    "url = \"https://www.wine.com/product/laurent-perrier-cuvee-rose/10521\"\n",
    "html = requests.get(url)"
   ]
  },
  {
   "cell_type": "code",
   "execution_count": 101,
   "metadata": {
    "ExecuteTime": {
     "end_time": "2020-08-20T18:27:38.263241Z",
     "start_time": "2020-08-20T18:27:38.258242Z"
    }
   },
   "outputs": [
    {
     "data": {
      "text/plain": [
       "'<Response [200]>'"
      ]
     },
     "execution_count": 101,
     "metadata": {},
     "output_type": "execute_result"
    }
   ],
   "source": [
    "str(html)"
   ]
  },
  {
   "cell_type": "code",
   "execution_count": 82,
   "metadata": {
    "ExecuteTime": {
     "end_time": "2020-08-20T17:54:26.992930Z",
     "start_time": "2020-08-20T17:54:23.237742Z"
    }
   },
   "outputs": [],
   "source": [
    "import requests\n",
    "\n",
    "url = \"https://www.wine.com/product/laurent-perrier-cuvee-rose/10521\"\n",
    "html = requests.get(url).content\n",
    "\n",
    "soup = bs4.BeautifulSoup(html, \"html.parser\")"
   ]
  },
  {
   "cell_type": "code",
   "execution_count": 83,
   "metadata": {
    "ExecuteTime": {
     "end_time": "2020-08-20T17:54:27.101930Z",
     "start_time": "2020-08-20T17:54:27.086930Z"
    }
   },
   "outputs": [
    {
     "data": {
      "text/plain": [
       "<div class=\"prodAlcoholPercent\" data-view1_32=\"true\">\n",
       "<div class=\"prodAlcoholPercent_content\">\n",
       "<span class=\"prodAlcoholVolume\">\n",
       "<span class=\"prodAlcoholVolume_text\">750</span>ML /\n",
       "        </span>\n",
       "<span class=\"prodAlcoholPercent_inner\">\n",
       "<span class=\"prodAlcoholPercent_percent\">12</span>% ABV\n",
       "        </span>\n",
       "</div>\n",
       "</div>"
      ]
     },
     "execution_count": 83,
     "metadata": {},
     "output_type": "execute_result"
    }
   ],
   "source": [
    "soup.find(\"div\", attrs={\"class\":\"prodAlcoholPercent\"})"
   ]
  },
  {
   "cell_type": "code",
   "execution_count": 85,
   "metadata": {
    "ExecuteTime": {
     "end_time": "2020-08-20T18:13:08.125749Z",
     "start_time": "2020-08-20T18:13:06.303854Z"
    },
    "scrolled": true
   },
   "outputs": [
    {
     "data": {
      "text/html": [
       "<div>\n",
       "<style scoped>\n",
       "    .dataframe tbody tr th:only-of-type {\n",
       "        vertical-align: middle;\n",
       "    }\n",
       "\n",
       "    .dataframe tbody tr th {\n",
       "        vertical-align: top;\n",
       "    }\n",
       "\n",
       "    .dataframe thead th {\n",
       "        text-align: right;\n",
       "    }\n",
       "</style>\n",
       "<table border=\"1\" class=\"dataframe\">\n",
       "  <thead>\n",
       "    <tr style=\"text-align: right;\">\n",
       "      <th></th>\n",
       "      <th>name</th>\n",
       "      <th>image_path</th>\n",
       "      <th>price</th>\n",
       "      <th>url</th>\n",
       "      <th>raw_html</th>\n",
       "    </tr>\n",
       "  </thead>\n",
       "  <tbody>\n",
       "    <tr>\n",
       "      <th>0</th>\n",
       "      <td>Dom Perignon Lenny Kravitz Limited Edition wit...</td>\n",
       "      <td>/product/images/fl_progressive/lmgmud1xsenlouw...</td>\n",
       "      <td>199.97</td>\n",
       "      <td>/product/Dom-Perignon-Lenny-Kravitz-Limited-Ed...</td>\n",
       "      <td>&lt;div class=\"prodItem_wrap\"&gt;\\n&lt;div class=\"prodI...</td>\n",
       "    </tr>\n",
       "    <tr>\n",
       "      <th>1</th>\n",
       "      <td>Louis Roederer Cristal Brut with Two Flutes an...</td>\n",
       "      <td>/product/images/fl_progressive/iqec7e0nf6mzyof...</td>\n",
       "      <td>329.99</td>\n",
       "      <td>/product/Louis-Roederer-Cristal-Brut-with-Two-...</td>\n",
       "      <td>&lt;div class=\"prodItem_wrap\"&gt;\\n&lt;div class=\"prodI...</td>\n",
       "    </tr>\n",
       "    <tr>\n",
       "      <th>2</th>\n",
       "      <td>Laurent-Perrier Cuvee Rose</td>\n",
       "      <td>/product/images/fl_progressive/10521.jpg</td>\n",
       "      <td>79.99</td>\n",
       "      <td>/product/Laurent-Perrier-Cuvee-Rose/10521</td>\n",
       "      <td>&lt;div class=\"prodItem_wrap\"&gt;\\n&lt;div class=\"prodI...</td>\n",
       "    </tr>\n",
       "    <tr>\n",
       "      <th>3</th>\n",
       "      <td>Piper-Heidsieck Cuvee Brut in Travel Case with...</td>\n",
       "      <td>/product/images/fl_progressive/aqi87aqobd3zc56...</td>\n",
       "      <td>79.99</td>\n",
       "      <td>/product/Piper-Heidsieck-Cuvee-Brut-in-Travel-...</td>\n",
       "      <td>&lt;div class=\"prodItem_wrap\"&gt;\\n&lt;div class=\"prodI...</td>\n",
       "    </tr>\n",
       "  </tbody>\n",
       "</table>\n",
       "</div>"
      ],
      "text/plain": [
       "                                                name  \\\n",
       "0  Dom Perignon Lenny Kravitz Limited Edition wit...   \n",
       "1  Louis Roederer Cristal Brut with Two Flutes an...   \n",
       "2                         Laurent-Perrier Cuvee Rose   \n",
       "3  Piper-Heidsieck Cuvee Brut in Travel Case with...   \n",
       "\n",
       "                                          image_path   price  \\\n",
       "0  /product/images/fl_progressive/lmgmud1xsenlouw...  199.97   \n",
       "1  /product/images/fl_progressive/iqec7e0nf6mzyof...  329.99   \n",
       "2           /product/images/fl_progressive/10521.jpg   79.99   \n",
       "3  /product/images/fl_progressive/aqi87aqobd3zc56...   79.99   \n",
       "\n",
       "                                                 url  \\\n",
       "0  /product/Dom-Perignon-Lenny-Kravitz-Limited-Ed...   \n",
       "1  /product/Louis-Roederer-Cristal-Brut-with-Two-...   \n",
       "2          /product/Laurent-Perrier-Cuvee-Rose/10521   \n",
       "3  /product/Piper-Heidsieck-Cuvee-Brut-in-Travel-...   \n",
       "\n",
       "                                            raw_html  \n",
       "0  <div class=\"prodItem_wrap\">\\n<div class=\"prodI...  \n",
       "1  <div class=\"prodItem_wrap\">\\n<div class=\"prodI...  \n",
       "2  <div class=\"prodItem_wrap\">\\n<div class=\"prodI...  \n",
       "3  <div class=\"prodItem_wrap\">\\n<div class=\"prodI...  "
      ]
     },
     "execution_count": 85,
     "metadata": {},
     "output_type": "execute_result"
    }
   ],
   "source": [
    "old_scrape = pd.read_pickle('data/scraped/scrape.pickle.gz', compression='gzip')\n",
    "old_scrape.head(4)"
   ]
  },
  {
   "cell_type": "code",
   "execution_count": 92,
   "metadata": {
    "ExecuteTime": {
     "end_time": "2020-08-20T18:14:43.147788Z",
     "start_time": "2020-08-20T18:14:43.125788Z"
    }
   },
   "outputs": [
    {
     "data": {
      "text/plain": [
       "'/product/Laurent-Perrier-Cuvee-Rose/10521'"
      ]
     },
     "execution_count": 92,
     "metadata": {},
     "output_type": "execute_result"
    }
   ],
   "source": [
    "old_scrape.iloc[2,:]['url']"
   ]
  },
  {
   "cell_type": "code",
   "execution_count": 91,
   "metadata": {
    "ExecuteTime": {
     "end_time": "2020-08-20T18:13:50.007361Z",
     "start_time": "2020-08-20T18:13:49.954360Z"
    },
    "scrolled": true
   },
   "outputs": [
    {
     "data": {
      "text/plain": [
       "<html><body><div class=\"prodItem_wrap\">\n",
       "<div class=\"prodItemImage\" data-view1_19_1_1_2=\"true\">\n",
       "<a class=\"prodItemImage_link\" href=\"/product/Laurent-Perrier-Cuvee-Rose/10521\" tabindex=\"-1\"><picture class=\"prodItemImage_image\" style=\"background-image: url(/product/images/w_160,h_160,c_fit,q_auto:good,fl_progressive/10521.jpg)\"><source class=\"prodItemImage_image-phone\" media=\"(max-width: 767px)\" srcset=\"/product/images/w_105,h_105,c_fit,q_auto:good,fl_progressive/10521.jpg 1x, /product/images/w_105,h_105,dpr_2.0,c_fit,q_auto:good,fl_progressive/10521.jpg 2x\"><source class=\"prodItemImage_image-tablet\" media=\"(min-width: 768px)\" srcset=\"/product/images/w_160,h_160,c_fit,q_auto:good,fl_progressive/10521.jpg 1x, /product/images/w_160,h_160,dpr_2.0,c_fit,q_auto:good,fl_progressive/10521.jpg 2x\"><img alt=\"Laurent-Perrier Cuvee Rose Front Label\" class=\"prodItemImage_image-default\" itemprop=\"image\" src=\"/product/images/fl_progressive/10521.jpg\"/></source></source></picture></a>\n",
       "</div><div class=\"prodItemInfo\">\n",
       "<a class=\"prodItemInfo_link\" href=\"/product/laurent-perrier-cuvee-rose/10521\" itemprop=\"mainEntityOfPage\"><span class=\"prodItemInfo_name\" itemprop=\"name\" title=\"Laurent-Perrier Cuvee Rose\">Laurent-Perrier Cuvee Rose</span></a>\n",
       "<div class=\"prodItemInfo_body\">\n",
       "<div class=\"prodItemInfo_origin\">\n",
       "<span class=\"prodItemInfo_varietal\">Rosé Sparkling Wine</span> from <span class=\"prodItemInfo_originText\">Champagne, France</span>\n",
       "</div><ul class=\"wineRatings_list\" data-view1_19_1_1_3=\"true\"><li class=\"wineRatings_listItem\" title=\"Connoisseurs' Guide 96 point rating\"><span class=\"wineRatings_initials\">CG</span><span class=\"wineRatings_rating\">96</span></li><li class=\"wineRatings_listItem\" title=\"Tasting Panel 93 point rating\"><span class=\"wineRatings_initials\">TP</span><span class=\"wineRatings_rating\">93</span></li><li class=\"wineRatings_listItem\" title=\"Wine Spectator 93 point rating\"><span class=\"wineRatings_initials\">WS</span><span class=\"wineRatings_rating\">93</span></li><li class=\"wineRatings_listItem\" title=\"Wine &amp; Spirits 92 point rating\"><span class=\"wineRatings_initials\">W<span class=\"wineRatings_initialsAmpersand\">&amp;</span>S</span><span class=\"wineRatings_rating\">92</span></li><li class=\"wineRatings_listItem\" title=\"James Suckling 92 point rating\"><span class=\"wineRatings_initials\">JS</span><span class=\"wineRatings_rating\">92</span></li><li class=\"wineRatings_listItem\" title=\"Wine Enthusiast 91 point rating\"><span class=\"wineRatings_initials\">WE</span><span class=\"wineRatings_rating\">91</span></li></ul>\n",
       "<div class=\"prodItemInfo_rating\"><div class=\"averageRating\" data-view1_19_1_1_5=\"true\" itemprop=\"aggregateRating\" itemscope=\"itemscope\" itemtype=\"http://schema.org/AggregateRating\">\n",
       "<meta class=\"averageRating_bestRating\" content=\"5\" itemprop=\"bestRating\"/>\n",
       "<meta class=\"averageRating_worstRating\" content=\"1\" itemprop=\"worstRating\"/>\n",
       "<span class=\"averageRating_average\" itemprop=\"ratingValue\">4.6</span>\n",
       "<span class=\"averageRating_count\"><span class=\"averageRating_number\" itemprop=\"ratingCount\">185</span> Ratings</span>\n",
       "</div></div><ul class=\"prodAttr\" data-view1_19_1_1_7=\"true\"><li class=\"icon icon-champagne prodAttr_icon prodAttr_icon-champagne\" title=\"Sparkling &amp; Champagne\"></li></ul>\n",
       "</div><div class=\"productPrice\" data-view1_19_1_1_4=\"true\" itemprop=\"offers\" itemscope=\"\" itemtype=\"http://schema.org/Offer\">\n",
       "<meta content=\"USD\" itemprop=\"priceCurrency\"/>\n",
       "<meta content=\"79.99\" itemprop=\"price\"/>\n",
       "<span class=\"prodItemStock_soldOut js-is-hidden\">Currently Unavailable\n",
       "        <span class=\"prodItemStock_soldOut-smallText\">$79.99</span>\n",
       "</span>\n",
       "<div class=\"prodHasVintage js-is-hidden\">Try the\n",
       "        <a class=\"prodHasVintage_link\" href=\"#\"></a>\n",
       "<span class=\"prodItemStock_soldOut-vintagePriceWhole\"></span>\n",
       "<span class=\"prodItemStock_soldOut-vintagePriceFractional\"></span>\n",
       "</div>\n",
       "<div class=\"productPrice_price-reg has-strike\">\n",
       "<span class=\"productPrice_price-regWhole\">100</span>\n",
       "<span class=\"productPrice_price-regFractional\"></span>\n",
       "</div>\n",
       "<div class=\"productPrice_price-sale\">\n",
       "<span class=\"productPrice_price-saleWhole\">79</span>\n",
       "<span class=\"productPrice_price-saleFractional\">99</span>\n",
       "</div>\n",
       "<div class=\"productPrice_savings\">\n",
       "        Save <span class=\"productPrice_savings-amount\">$20.01</span>\n",
       "        (<span class=\"productPrice_savings-percentage\">20</span>%)\n",
       "    </div>\n",
       "</div>\n",
       "<div class=\"prodItemInfo_footer\">\n",
       "<div class=\"prodItemInfo_stock\"><div class=\"prodItemStock_status\" data-view1_19_1_1_6=\"true\">\n",
       "<div class=\"prodItemShipping\">Ships Tomorrow</div>\n",
       "<div class=\"prodItemLimit js-is-hidden\">\n",
       "        Limit <span class=\"prodItemLimit_count\">0</span> <span class=\"bottleText\">bottles</span> per customer\n",
       "    </div>\n",
       "<div class=\"prodItemIncrement js-is-hidden\">\n",
       "        Sold in increments of <span class=\"prodItemIncrement_count\">0</span>\n",
       "</div>\n",
       "</div><div class=\"prodItemStock\" data-view1_19_1_1_1=\"true\">\n",
       "<button class=\"prodItemStock_addCart\" data-pid=\"10521\" data-qty=\"1\" data-sku=\"STC944690_0\" data-unit=\"$79.99\">Add to Cart</button>\n",
       "<div class=\"prodItemStock_quantity\">\n",
       "<label class=\"sr-only prodItemStock_quantityLabel\" for=\"quantity-select-10521\">Quantity Select</label>\n",
       "<span class=\"prodItemStock_quantitySelectLength\">1</span>\n",
       "<select class=\"prodItemStock_quantitySelect\" data-type=\"number\" id=\"quantity-select-10521\"><option class=\"selectedDate\" disabled=\"disabled\" value=\"Ships Tomorrow\">Ships Tomorrow</option><option selected=\"selected\" value=\"1\">1</option><option value=\"2\">2</option><option value=\"3\">3</option><option value=\"4\">4</option><option value=\"5\">5</option><option value=\"6\">6</option><option value=\"7\">7</option><option value=\"8\">8</option><option value=\"9\">9</option><option value=\"10\">10</option><option value=\"11\">11</option><option value=\"12\">12</option><option value=\"13\">13</option><option value=\"14\">14</option><option value=\"15\">15</option><option value=\"16\">16</option><option value=\"17\">17</option><option value=\"18\">18</option><option value=\"19\">19</option><option value=\"20\">20</option><option value=\"21\">21</option><option value=\"22\">22</option><option value=\"23\">23</option><option value=\"24\">24</option><option value=\"25\">25</option><option value=\"26\">26</option><option value=\"27\">27</option><option value=\"28\">28</option><option value=\"29\">29</option><option value=\"30\">30</option><option value=\"31\">31</option><option value=\"32\">32</option><option value=\"33\">33</option><option value=\"34\">34</option><option value=\"35\">35</option><option value=\"36\">36</option><option value=\"37\">37</option><option value=\"38\">38</option><option value=\"39\">39</option><option value=\"40\">40</option><option value=\"41\">41</option><option value=\"42\">42</option><option value=\"43\">43</option><option class=\"selectedDate\" disabled=\"disabled\" value=\"Ships Wed, Feb 5\">Ships Wed, Feb 5</option><option value=\"44\">44</option><option value=\"45\">45</option><option value=\"46\">46</option><option value=\"47\">47</option><option value=\"48\">48</option><option value=\"49\">49</option><option value=\"50\">50</option><option value=\"51\">51</option><option value=\"52\">52</option><option value=\"53\">53</option><option value=\"54\">54</option><option value=\"55\">55</option><option value=\"56\">56</option><option value=\"57\">57</option><option value=\"58\">58</option><option value=\"59\">59</option><option value=\"60\">60</option><option value=\"61\">61</option><option value=\"62\">62</option><option value=\"63\">63</option><option value=\"64\">64</option><option value=\"65\">65</option><option value=\"66\">66</option><option value=\"67\">67</option><option value=\"68\">68</option><option value=\"69\">69</option><option value=\"70\">70</option><option value=\"71\">71</option><option value=\"72\">72</option><option value=\"73\">73</option><option value=\"74\">74</option><option value=\"75\">75</option><option value=\"76\">76</option><option value=\"77\">77</option><option value=\"78\">78</option><option value=\"79\">79</option><option value=\"80\">80</option><option value=\"81\">81</option><option value=\"82\">82</option><option value=\"83\">83</option><option value=\"84\">84</option><option value=\"85\">85</option><option value=\"86\">86</option><option value=\"87\">87</option><option value=\"88\">88</option><option value=\"89\">89</option><option value=\"90\">90</option><option value=\"91\">91</option><option value=\"92\">92</option><option value=\"93\">93</option><option value=\"94\">94</option><option value=\"95\">95</option><option value=\"96\">96</option><option value=\"97\">97</option><option value=\"98\">98</option><option value=\"99\">99</option><option value=\"100\">100</option><option value=\"101\">101</option><option value=\"102\">102</option><option value=\"103\">103</option><option value=\"104\">104</option><option value=\"105\">105</option><option value=\"106\">106</option><option value=\"107\">107</option><option value=\"108\">108</option><option value=\"109\">109</option><option value=\"110\">110</option><option value=\"111\">111</option><option value=\"112\">112</option><option value=\"113\">113</option><option value=\"114\">114</option><option value=\"115\">115</option><option value=\"116\">116</option><option value=\"117\">117</option><option value=\"118\">118</option><option value=\"119\">119</option><option value=\"120\">120</option></select>\n",
       "</div>\n",
       "<div class=\"prodItemStock_limitReached js-is-hidden\">Limit Reached</div>\n",
       "</div></div>\n",
       "</div>\n",
       "</div>\n",
       "<div class=\"myWineItem\">\n",
       "<div class=\"myWineItem_status\"></div>\n",
       "</div>\n",
       "</div></body></html>"
      ]
     },
     "execution_count": 91,
     "metadata": {},
     "output_type": "execute_result"
    }
   ],
   "source": [
    "bs4.BeautifulSoup(old_scrape.iloc[2,:]['raw_html'])"
   ]
  },
  {
   "cell_type": "code",
   "execution_count": 69,
   "metadata": {
    "ExecuteTime": {
     "end_time": "2020-08-20T17:45:34.855253Z",
     "start_time": "2020-08-20T17:45:34.823255Z"
    },
    "scrolled": true
   },
   "outputs": [
    {
     "data": {
      "text/plain": [
       "<html><body><div class=\"prodItem_wrap\">\n",
       "<div class=\"prodItemImage\" data-view1_19_1_1_2=\"true\">\n",
       "<a class=\"prodItemImage_link\" href=\"/product/Laurent-Perrier-Cuvee-Rose/10521\" tabindex=\"-1\"><picture class=\"prodItemImage_image\" style=\"background-image: url(/product/images/w_160,h_160,c_fit,q_auto:good,fl_progressive/10521.jpg)\"><source class=\"prodItemImage_image-phone\" media=\"(max-width: 767px)\" srcset=\"/product/images/w_105,h_105,c_fit,q_auto:good,fl_progressive/10521.jpg 1x, /product/images/w_105,h_105,dpr_2.0,c_fit,q_auto:good,fl_progressive/10521.jpg 2x\"><source class=\"prodItemImage_image-tablet\" media=\"(min-width: 768px)\" srcset=\"/product/images/w_160,h_160,c_fit,q_auto:good,fl_progressive/10521.jpg 1x, /product/images/w_160,h_160,dpr_2.0,c_fit,q_auto:good,fl_progressive/10521.jpg 2x\"><img alt=\"Laurent-Perrier Cuvee Rose Front Label\" class=\"prodItemImage_image-default\" itemprop=\"image\" src=\"/product/images/fl_progressive/10521.jpg\"/></source></source></picture></a>\n",
       "</div><div class=\"prodItemInfo\">\n",
       "<a class=\"prodItemInfo_link\" href=\"/product/laurent-perrier-cuvee-rose/10521\" itemprop=\"mainEntityOfPage\"><span class=\"prodItemInfo_name\" itemprop=\"name\" title=\"Laurent-Perrier Cuvee Rose\">Laurent-Perrier Cuvee Rose</span></a>\n",
       "<div class=\"prodItemInfo_body\">\n",
       "<div class=\"prodItemInfo_origin\">\n",
       "<span class=\"prodItemInfo_varietal\">Rosé Sparkling Wine</span> from <span class=\"prodItemInfo_originText\">Champagne, France</span>\n",
       "</div><ul class=\"wineRatings_list\" data-view1_19_1_1_3=\"true\"><li class=\"wineRatings_listItem\" title=\"Connoisseurs' Guide 96 point rating\"><span class=\"wineRatings_initials\">CG</span><span class=\"wineRatings_rating\">96</span></li><li class=\"wineRatings_listItem\" title=\"Tasting Panel 93 point rating\"><span class=\"wineRatings_initials\">TP</span><span class=\"wineRatings_rating\">93</span></li><li class=\"wineRatings_listItem\" title=\"Wine Spectator 93 point rating\"><span class=\"wineRatings_initials\">WS</span><span class=\"wineRatings_rating\">93</span></li><li class=\"wineRatings_listItem\" title=\"Wine &amp; Spirits 92 point rating\"><span class=\"wineRatings_initials\">W<span class=\"wineRatings_initialsAmpersand\">&amp;</span>S</span><span class=\"wineRatings_rating\">92</span></li><li class=\"wineRatings_listItem\" title=\"James Suckling 92 point rating\"><span class=\"wineRatings_initials\">JS</span><span class=\"wineRatings_rating\">92</span></li><li class=\"wineRatings_listItem\" title=\"Wine Enthusiast 91 point rating\"><span class=\"wineRatings_initials\">WE</span><span class=\"wineRatings_rating\">91</span></li></ul>\n",
       "<div class=\"prodItemInfo_rating\"><div class=\"averageRating\" data-view1_19_1_1_5=\"true\" itemprop=\"aggregateRating\" itemscope=\"itemscope\" itemtype=\"http://schema.org/AggregateRating\">\n",
       "<meta class=\"averageRating_bestRating\" content=\"5\" itemprop=\"bestRating\"/>\n",
       "<meta class=\"averageRating_worstRating\" content=\"1\" itemprop=\"worstRating\"/>\n",
       "<span class=\"averageRating_average\" itemprop=\"ratingValue\">4.6</span>\n",
       "<span class=\"averageRating_count\"><span class=\"averageRating_number\" itemprop=\"ratingCount\">185</span> Ratings</span>\n",
       "</div></div><ul class=\"prodAttr\" data-view1_19_1_1_7=\"true\"><li class=\"icon icon-champagne prodAttr_icon prodAttr_icon-champagne\" title=\"Sparkling &amp; Champagne\"></li></ul>\n",
       "</div><div class=\"productPrice\" data-view1_19_1_1_4=\"true\" itemprop=\"offers\" itemscope=\"\" itemtype=\"http://schema.org/Offer\">\n",
       "<meta content=\"USD\" itemprop=\"priceCurrency\"/>\n",
       "<meta content=\"79.99\" itemprop=\"price\"/>\n",
       "<span class=\"prodItemStock_soldOut js-is-hidden\">Currently Unavailable\n",
       "        <span class=\"prodItemStock_soldOut-smallText\">$79.99</span>\n",
       "</span>\n",
       "<div class=\"prodHasVintage js-is-hidden\">Try the\n",
       "        <a class=\"prodHasVintage_link\" href=\"#\"></a>\n",
       "<span class=\"prodItemStock_soldOut-vintagePriceWhole\"></span>\n",
       "<span class=\"prodItemStock_soldOut-vintagePriceFractional\"></span>\n",
       "</div>\n",
       "<div class=\"productPrice_price-reg has-strike\">\n",
       "<span class=\"productPrice_price-regWhole\">100</span>\n",
       "<span class=\"productPrice_price-regFractional\"></span>\n",
       "</div>\n",
       "<div class=\"productPrice_price-sale\">\n",
       "<span class=\"productPrice_price-saleWhole\">79</span>\n",
       "<span class=\"productPrice_price-saleFractional\">99</span>\n",
       "</div>\n",
       "<div class=\"productPrice_savings\">\n",
       "        Save <span class=\"productPrice_savings-amount\">$20.01</span>\n",
       "        (<span class=\"productPrice_savings-percentage\">20</span>%)\n",
       "    </div>\n",
       "</div>\n",
       "<div class=\"prodItemInfo_footer\">\n",
       "<div class=\"prodItemInfo_stock\"><div class=\"prodItemStock_status\" data-view1_19_1_1_6=\"true\">\n",
       "<div class=\"prodItemShipping\">Ships Tomorrow</div>\n",
       "<div class=\"prodItemLimit js-is-hidden\">\n",
       "        Limit <span class=\"prodItemLimit_count\">0</span> <span class=\"bottleText\">bottles</span> per customer\n",
       "    </div>\n",
       "<div class=\"prodItemIncrement js-is-hidden\">\n",
       "        Sold in increments of <span class=\"prodItemIncrement_count\">0</span>\n",
       "</div>\n",
       "</div><div class=\"prodItemStock\" data-view1_19_1_1_1=\"true\">\n",
       "<button class=\"prodItemStock_addCart\" data-pid=\"10521\" data-qty=\"1\" data-sku=\"STC944690_0\" data-unit=\"$79.99\">Add to Cart</button>\n",
       "<div class=\"prodItemStock_quantity\">\n",
       "<label class=\"sr-only prodItemStock_quantityLabel\" for=\"quantity-select-10521\">Quantity Select</label>\n",
       "<span class=\"prodItemStock_quantitySelectLength\">1</span>\n",
       "<select class=\"prodItemStock_quantitySelect\" data-type=\"number\" id=\"quantity-select-10521\"><option class=\"selectedDate\" disabled=\"disabled\" value=\"Ships Tomorrow\">Ships Tomorrow</option><option selected=\"selected\" value=\"1\">1</option><option value=\"2\">2</option><option value=\"3\">3</option><option value=\"4\">4</option><option value=\"5\">5</option><option value=\"6\">6</option><option value=\"7\">7</option><option value=\"8\">8</option><option value=\"9\">9</option><option value=\"10\">10</option><option value=\"11\">11</option><option value=\"12\">12</option><option value=\"13\">13</option><option value=\"14\">14</option><option value=\"15\">15</option><option value=\"16\">16</option><option value=\"17\">17</option><option value=\"18\">18</option><option value=\"19\">19</option><option value=\"20\">20</option><option value=\"21\">21</option><option value=\"22\">22</option><option value=\"23\">23</option><option value=\"24\">24</option><option value=\"25\">25</option><option value=\"26\">26</option><option value=\"27\">27</option><option value=\"28\">28</option><option value=\"29\">29</option><option value=\"30\">30</option><option value=\"31\">31</option><option value=\"32\">32</option><option value=\"33\">33</option><option value=\"34\">34</option><option value=\"35\">35</option><option value=\"36\">36</option><option value=\"37\">37</option><option value=\"38\">38</option><option value=\"39\">39</option><option value=\"40\">40</option><option value=\"41\">41</option><option value=\"42\">42</option><option value=\"43\">43</option><option class=\"selectedDate\" disabled=\"disabled\" value=\"Ships Wed, Feb 5\">Ships Wed, Feb 5</option><option value=\"44\">44</option><option value=\"45\">45</option><option value=\"46\">46</option><option value=\"47\">47</option><option value=\"48\">48</option><option value=\"49\">49</option><option value=\"50\">50</option><option value=\"51\">51</option><option value=\"52\">52</option><option value=\"53\">53</option><option value=\"54\">54</option><option value=\"55\">55</option><option value=\"56\">56</option><option value=\"57\">57</option><option value=\"58\">58</option><option value=\"59\">59</option><option value=\"60\">60</option><option value=\"61\">61</option><option value=\"62\">62</option><option value=\"63\">63</option><option value=\"64\">64</option><option value=\"65\">65</option><option value=\"66\">66</option><option value=\"67\">67</option><option value=\"68\">68</option><option value=\"69\">69</option><option value=\"70\">70</option><option value=\"71\">71</option><option value=\"72\">72</option><option value=\"73\">73</option><option value=\"74\">74</option><option value=\"75\">75</option><option value=\"76\">76</option><option value=\"77\">77</option><option value=\"78\">78</option><option value=\"79\">79</option><option value=\"80\">80</option><option value=\"81\">81</option><option value=\"82\">82</option><option value=\"83\">83</option><option value=\"84\">84</option><option value=\"85\">85</option><option value=\"86\">86</option><option value=\"87\">87</option><option value=\"88\">88</option><option value=\"89\">89</option><option value=\"90\">90</option><option value=\"91\">91</option><option value=\"92\">92</option><option value=\"93\">93</option><option value=\"94\">94</option><option value=\"95\">95</option><option value=\"96\">96</option><option value=\"97\">97</option><option value=\"98\">98</option><option value=\"99\">99</option><option value=\"100\">100</option><option value=\"101\">101</option><option value=\"102\">102</option><option value=\"103\">103</option><option value=\"104\">104</option><option value=\"105\">105</option><option value=\"106\">106</option><option value=\"107\">107</option><option value=\"108\">108</option><option value=\"109\">109</option><option value=\"110\">110</option><option value=\"111\">111</option><option value=\"112\">112</option><option value=\"113\">113</option><option value=\"114\">114</option><option value=\"115\">115</option><option value=\"116\">116</option><option value=\"117\">117</option><option value=\"118\">118</option><option value=\"119\">119</option><option value=\"120\">120</option></select>\n",
       "</div>\n",
       "<div class=\"prodItemStock_limitReached js-is-hidden\">Limit Reached</div>\n",
       "</div></div>\n",
       "</div>\n",
       "</div>\n",
       "<div class=\"myWineItem\">\n",
       "<div class=\"myWineItem_status\"></div>\n",
       "</div>\n",
       "</div></body></html>"
      ]
     },
     "execution_count": 69,
     "metadata": {},
     "output_type": "execute_result"
    }
   ],
   "source": [
    "soup"
   ]
  },
  {
   "cell_type": "code",
   "execution_count": null,
   "metadata": {},
   "outputs": [],
   "source": []
  }
 ],
 "metadata": {
  "kernelspec": {
   "display_name": "Python 3",
   "language": "python",
   "name": "python3"
  },
  "language_info": {
   "codemirror_mode": {
    "name": "ipython",
    "version": 3
   },
   "file_extension": ".py",
   "mimetype": "text/x-python",
   "name": "python",
   "nbconvert_exporter": "python",
   "pygments_lexer": "ipython3",
   "version": "3.8.5"
  },
  "notify_time": "5",
  "varInspector": {
   "cols": {
    "lenName": 16,
    "lenType": 16,
    "lenVar": 40
   },
   "kernels_config": {
    "python": {
     "delete_cmd_postfix": "",
     "delete_cmd_prefix": "del ",
     "library": "var_list.py",
     "varRefreshCmd": "print(var_dic_list())"
    },
    "r": {
     "delete_cmd_postfix": ") ",
     "delete_cmd_prefix": "rm(",
     "library": "var_list.r",
     "varRefreshCmd": "cat(var_dic_list()) "
    }
   },
   "types_to_exclude": [
    "module",
    "function",
    "builtin_function_or_method",
    "instance",
    "_Feature"
   ],
   "window_display": false
  }
 },
 "nbformat": 4,
 "nbformat_minor": 4
}
