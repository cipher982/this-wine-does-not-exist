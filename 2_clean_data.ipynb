{
 "cells": [
  {
   "cell_type": "code",
   "execution_count": 3,
   "metadata": {},
   "outputs": [
    {
     "name": "stderr",
     "output_type": "stream",
     "text": [
      "/Users/drose/anaconda/lib/python3.6/site-packages/h5py/__init__.py:34: FutureWarning: Conversion of the second argument of issubdtype from `float` to `np.floating` is deprecated. In future, it will be treated as `np.float64 == np.dtype(float).type`.\n",
      "  from ._conv import register_converters as _register_converters\n",
      "Using TensorFlow backend.\n"
     ]
    }
   ],
   "source": [
    "from requests import get\n",
    "from bs4 import BeautifulSoup\n",
    "import pandas as pd\n",
    "import numpy as np\n",
    "import tqdm\n",
    "\n",
    "import keras"
   ]
  },
  {
   "cell_type": "code",
   "execution_count": 4,
   "metadata": {},
   "outputs": [
    {
     "name": "stdout",
     "output_type": "stream",
     "text": [
      "df_raw:(15550, 5)\n"
     ]
    }
   ],
   "source": [
    "df_raw =pd.read_pickle('data/scrape_v2.pickle')\n",
    "print(\"df_raw:{}\".format(df_raw.shape))"
   ]
  },
  {
   "cell_type": "code",
   "execution_count": 5,
   "metadata": {},
   "outputs": [
    {
     "data": {
      "text/html": [
       "<div>\n",
       "<style scoped>\n",
       "    .dataframe tbody tr th:only-of-type {\n",
       "        vertical-align: middle;\n",
       "    }\n",
       "\n",
       "    .dataframe tbody tr th {\n",
       "        vertical-align: top;\n",
       "    }\n",
       "\n",
       "    .dataframe thead th {\n",
       "        text-align: right;\n",
       "    }\n",
       "</style>\n",
       "<table border=\"1\" class=\"dataframe\">\n",
       "  <thead>\n",
       "    <tr style=\"text-align: right;\">\n",
       "      <th></th>\n",
       "      <th>name</th>\n",
       "      <th>image_path</th>\n",
       "      <th>price</th>\n",
       "      <th>url</th>\n",
       "      <th>raw_html</th>\n",
       "    </tr>\n",
       "  </thead>\n",
       "  <tbody>\n",
       "    <tr>\n",
       "      <th>0</th>\n",
       "      <td>Hall Napa Valley Cabernet Sauvignon 2013</td>\n",
       "      <td>/product/images/fl_progressive/158457.jpg</td>\n",
       "      <td>54.99</td>\n",
       "      <td>/product/Hall-Napa-Valley-Cabernet-Sauvignon-2...</td>\n",
       "      <td>&lt;div class=\"prodItem_wrap\"&gt;\\n&lt;div class=\"prodI...</td>\n",
       "    </tr>\n",
       "    <tr>\n",
       "      <th>1</th>\n",
       "      <td>Rombauer Chardonnay 2017</td>\n",
       "      <td>/product/images/fl_progressive/wpxkrgx7onirby1...</td>\n",
       "      <td>36.99</td>\n",
       "      <td>/product/Rombauer-Chardonnay-2017/500778</td>\n",
       "      <td>&lt;div class=\"prodItem_wrap\"&gt;\\n&lt;div class=\"prodI...</td>\n",
       "    </tr>\n",
       "    <tr>\n",
       "      <th>2</th>\n",
       "      <td>Silver Oak Napa Valley Cabernet Sauvignon 2014</td>\n",
       "      <td>/product/images/fl_progressive/fog0sb2avopbbq0...</td>\n",
       "      <td>119.99</td>\n",
       "      <td>/product/Silver-Oak-Napa-Valley-Cabernet-Sauvi...</td>\n",
       "      <td>&lt;div class=\"prodItem_wrap\"&gt;\\n&lt;div class=\"prodI...</td>\n",
       "    </tr>\n",
       "    <tr>\n",
       "      <th>3</th>\n",
       "      <td>Chateau Cos d'Estournel (Futures Pre-Sale) 2016</td>\n",
       "      <td>/product/images/fl_progressive/202293.jpg</td>\n",
       "      <td>219.97</td>\n",
       "      <td>/product/Chateau-Cos-dEstournel-Futures-Pre-Sa...</td>\n",
       "      <td>&lt;div class=\"prodItem_wrap\"&gt;\\n&lt;div class=\"prodI...</td>\n",
       "    </tr>\n",
       "    <tr>\n",
       "      <th>4</th>\n",
       "      <td>Silver Oak Alexander Valley Cabernet Sauvignon...</td>\n",
       "      <td>/product/images/fl_progressive/gpgmugpbf3l6is2...</td>\n",
       "      <td>74.99</td>\n",
       "      <td>/product/Silver-Oak-Alexander-Valley-Cabernet-...</td>\n",
       "      <td>&lt;div class=\"prodItem_wrap\"&gt;\\n&lt;div class=\"prodI...</td>\n",
       "    </tr>\n",
       "  </tbody>\n",
       "</table>\n",
       "</div>"
      ],
      "text/plain": [
       "                                                name  \\\n",
       "0           Hall Napa Valley Cabernet Sauvignon 2013   \n",
       "1                           Rombauer Chardonnay 2017   \n",
       "2     Silver Oak Napa Valley Cabernet Sauvignon 2014   \n",
       "3    Chateau Cos d'Estournel (Futures Pre-Sale) 2016   \n",
       "4  Silver Oak Alexander Valley Cabernet Sauvignon...   \n",
       "\n",
       "                                          image_path   price  \\\n",
       "0          /product/images/fl_progressive/158457.jpg   54.99   \n",
       "1  /product/images/fl_progressive/wpxkrgx7onirby1...   36.99   \n",
       "2  /product/images/fl_progressive/fog0sb2avopbbq0...  119.99   \n",
       "3          /product/images/fl_progressive/202293.jpg  219.97   \n",
       "4  /product/images/fl_progressive/gpgmugpbf3l6is2...   74.99   \n",
       "\n",
       "                                                 url  \\\n",
       "0  /product/Hall-Napa-Valley-Cabernet-Sauvignon-2...   \n",
       "1           /product/Rombauer-Chardonnay-2017/500778   \n",
       "2  /product/Silver-Oak-Napa-Valley-Cabernet-Sauvi...   \n",
       "3  /product/Chateau-Cos-dEstournel-Futures-Pre-Sa...   \n",
       "4  /product/Silver-Oak-Alexander-Valley-Cabernet-...   \n",
       "\n",
       "                                            raw_html  \n",
       "0  <div class=\"prodItem_wrap\">\\n<div class=\"prodI...  \n",
       "1  <div class=\"prodItem_wrap\">\\n<div class=\"prodI...  \n",
       "2  <div class=\"prodItem_wrap\">\\n<div class=\"prodI...  \n",
       "3  <div class=\"prodItem_wrap\">\\n<div class=\"prodI...  \n",
       "4  <div class=\"prodItem_wrap\">\\n<div class=\"prodI...  "
      ]
     },
     "execution_count": 5,
     "metadata": {},
     "output_type": "execute_result"
    }
   ],
   "source": [
    "df_raw.head()"
   ]
  },
  {
   "cell_type": "code",
   "execution_count": 6,
   "metadata": {},
   "outputs": [],
   "source": [
    "df = df_raw.copy()\n",
    "\n",
    "df.reset_index(drop=True, inplace=True)"
   ]
  },
  {
   "cell_type": "code",
   "execution_count": 28,
   "metadata": {},
   "outputs": [
    {
     "name": "stderr",
     "output_type": "stream",
     "text": [
      "100%|██████████| 1/1 [00:01<00:00,  1.22s/it]\n"
     ]
    }
   ],
   "source": [
    "for i in tqdm.tqdm(range(15549,len(df))):\n",
    "    page_url = df.iloc[i,:]['url']\n",
    "    get_response = get('https://www.wine.com' + page_url)\n",
    "    if get_response.status_code != 200:\n",
    "        print(\"Stopped pulling data, found {} status code\".format(get_response.status_code))\n",
    "    page_content = BeautifulSoup(get_response.text,'lxml')\n",
    "    \n",
    "    # Write to file\n",
    "    with open('data/wine_pages/wine_{}.txt'.format(i), mode='wt', encoding='utf-8') as file:\n",
    "        file.write(str(page_content))\n"
   ]
  },
  {
   "cell_type": "code",
   "execution_count": 42,
   "metadata": {},
   "outputs": [],
   "source": [
    "import glob\n",
    "\n",
    "wine_pages = glob.glob('data/wine_pages/wine_*', recursive=True)\n",
    "wine_pages = np.sort(wine_pages)"
   ]
  },
  {
   "cell_type": "code",
   "execution_count": 48,
   "metadata": {},
   "outputs": [
    {
     "name": "stdout",
     "output_type": "stream",
     "text": [
      "data/wine_pages/wine_0.txt\n"
     ]
    }
   ],
   "source": [
    "for page in wine_pages:\n",
    "    print(page)\n",
    "    with open(page, \"rb\") as f:\n",
    "        wine = BeautifulSoup(f.read(), \"lxml\")\n",
    "    \n",
    "    \n",
    "    \n",
    "    break"
   ]
  },
  {
   "cell_type": "code",
   "execution_count": null,
   "metadata": {},
   "outputs": [],
   "source": []
  }
 ],
 "metadata": {
  "kernelspec": {
   "display_name": "Python 3",
   "language": "python",
   "name": "python3"
  },
  "language_info": {
   "codemirror_mode": {
    "name": "ipython",
    "version": 3
   },
   "file_extension": ".py",
   "mimetype": "text/x-python",
   "name": "python",
   "nbconvert_exporter": "python",
   "pygments_lexer": "ipython3",
   "version": "3.6.7"
  }
 },
 "nbformat": 4,
 "nbformat_minor": 2
}
