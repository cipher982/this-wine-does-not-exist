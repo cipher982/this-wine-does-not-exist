{
 "cells": [
  {
   "cell_type": "code",
   "execution_count": 1,
   "metadata": {},
   "outputs": [],
   "source": [
    "import numpy as np\n",
    "import pandas as pd"
   ]
  },
  {
   "cell_type": "code",
   "execution_count": 2,
   "metadata": {},
   "outputs": [
    {
     "data": {
      "text/html": [
       "<div>\n",
       "<style scoped>\n",
       "    .dataframe tbody tr th:only-of-type {\n",
       "        vertical-align: middle;\n",
       "    }\n",
       "\n",
       "    .dataframe tbody tr th {\n",
       "        vertical-align: top;\n",
       "    }\n",
       "\n",
       "    .dataframe thead th {\n",
       "        text-align: right;\n",
       "    }\n",
       "</style>\n",
       "<table border=\"1\" class=\"dataframe\">\n",
       "  <thead>\n",
       "    <tr style=\"text-align: right;\">\n",
       "      <th></th>\n",
       "      <th>name</th>\n",
       "      <th>image_path</th>\n",
       "      <th>price</th>\n",
       "      <th>url</th>\n",
       "      <th>raw_html</th>\n",
       "      <th>URL_name</th>\n",
       "      <th>description</th>\n",
       "    </tr>\n",
       "  </thead>\n",
       "  <tbody>\n",
       "    <tr>\n",
       "      <th>0</th>\n",
       "      <td>Dom Perignon Lenny Kravitz Limited Edition wit...</td>\n",
       "      <td>/product/images/fl_progressive/lmgmud1xsenlouw...</td>\n",
       "      <td>199.97</td>\n",
       "      <td>/product/Dom-Perignon-Lenny-Kravitz-Limited-Ed...</td>\n",
       "      <td>&lt;div class=\"prodItem_wrap\"&gt;\\n&lt;div class=\"prodI...</td>\n",
       "      <td>/product/Dom-Perignon-Lenny-Kravitz-Limited-Ed...</td>\n",
       "      <td>Dom Pérignon Vintage 2008 has been distinguish...</td>\n",
       "    </tr>\n",
       "    <tr>\n",
       "      <th>1</th>\n",
       "      <td>Louis Roederer Cristal Brut with Two Flutes an...</td>\n",
       "      <td>/product/images/fl_progressive/iqec7e0nf6mzyof...</td>\n",
       "      <td>329.99</td>\n",
       "      <td>/product/Louis-Roederer-Cristal-Brut-with-Two-...</td>\n",
       "      <td>&lt;div class=\"prodItem_wrap\"&gt;\\n&lt;div class=\"prodI...</td>\n",
       "      <td>/product/Louis-Roederer-Cristal-Brut-with-Two-...</td>\n",
       "      <td>Gift pack containing one bottle of 2008 Louis ...</td>\n",
       "    </tr>\n",
       "    <tr>\n",
       "      <th>2</th>\n",
       "      <td>Laurent-Perrier Cuvee Rose</td>\n",
       "      <td>/product/images/fl_progressive/10521.jpg</td>\n",
       "      <td>79.99</td>\n",
       "      <td>/product/Laurent-Perrier-Cuvee-Rose/10521</td>\n",
       "      <td>&lt;div class=\"prodItem_wrap\"&gt;\\n&lt;div class=\"prodI...</td>\n",
       "      <td>/product/Laurent-Perrier-Cuvee-Rose/10521</td>\n",
       "      <td>The Cuvée Rosé from Laurent-Perrier is the mos...</td>\n",
       "    </tr>\n",
       "    <tr>\n",
       "      <th>3</th>\n",
       "      <td>Piper-Heidsieck Cuvee Brut in Travel Case with...</td>\n",
       "      <td>/product/images/fl_progressive/aqi87aqobd3zc56...</td>\n",
       "      <td>79.99</td>\n",
       "      <td>/product/Piper-Heidsieck-Cuvee-Brut-in-Travel-...</td>\n",
       "      <td>&lt;div class=\"prodItem_wrap\"&gt;\\n&lt;div class=\"prodI...</td>\n",
       "      <td>/product/Piper-Heidsieck-Cuvee-Brut-in-Travel-...</td>\n",
       "      <td>#95 Wine Spectator Top 100 of 2019The Brut rep...</td>\n",
       "    </tr>\n",
       "    <tr>\n",
       "      <th>4</th>\n",
       "      <td>Clarendon Hills Astralis Syrah 2011</td>\n",
       "      <td>/product/images/fl_progressive/qajrqr4d6ttn2pf...</td>\n",
       "      <td>149.99</td>\n",
       "      <td>/product/Clarendon-Hills-Astralis-Syrah-2011/5...</td>\n",
       "      <td>&lt;div class=\"prodItem_wrap\"&gt;\\n&lt;div class=\"prodI...</td>\n",
       "      <td>/product/Clarendon-Hills-Astralis-Syrah-2011/5...</td>\n",
       "      <td>The pride of our portfolio, Clarendon Hills As...</td>\n",
       "    </tr>\n",
       "  </tbody>\n",
       "</table>\n",
       "</div>"
      ],
      "text/plain": [
       "                                                name  \\\n",
       "0  Dom Perignon Lenny Kravitz Limited Edition wit...   \n",
       "1  Louis Roederer Cristal Brut with Two Flutes an...   \n",
       "2                         Laurent-Perrier Cuvee Rose   \n",
       "3  Piper-Heidsieck Cuvee Brut in Travel Case with...   \n",
       "4                Clarendon Hills Astralis Syrah 2011   \n",
       "\n",
       "                                          image_path   price  \\\n",
       "0  /product/images/fl_progressive/lmgmud1xsenlouw...  199.97   \n",
       "1  /product/images/fl_progressive/iqec7e0nf6mzyof...  329.99   \n",
       "2           /product/images/fl_progressive/10521.jpg   79.99   \n",
       "3  /product/images/fl_progressive/aqi87aqobd3zc56...   79.99   \n",
       "4  /product/images/fl_progressive/qajrqr4d6ttn2pf...  149.99   \n",
       "\n",
       "                                                 url  \\\n",
       "0  /product/Dom-Perignon-Lenny-Kravitz-Limited-Ed...   \n",
       "1  /product/Louis-Roederer-Cristal-Brut-with-Two-...   \n",
       "2          /product/Laurent-Perrier-Cuvee-Rose/10521   \n",
       "3  /product/Piper-Heidsieck-Cuvee-Brut-in-Travel-...   \n",
       "4  /product/Clarendon-Hills-Astralis-Syrah-2011/5...   \n",
       "\n",
       "                                            raw_html  \\\n",
       "0  <div class=\"prodItem_wrap\">\\n<div class=\"prodI...   \n",
       "1  <div class=\"prodItem_wrap\">\\n<div class=\"prodI...   \n",
       "2  <div class=\"prodItem_wrap\">\\n<div class=\"prodI...   \n",
       "3  <div class=\"prodItem_wrap\">\\n<div class=\"prodI...   \n",
       "4  <div class=\"prodItem_wrap\">\\n<div class=\"prodI...   \n",
       "\n",
       "                                            URL_name  \\\n",
       "0  /product/Dom-Perignon-Lenny-Kravitz-Limited-Ed...   \n",
       "1  /product/Louis-Roederer-Cristal-Brut-with-Two-...   \n",
       "2          /product/Laurent-Perrier-Cuvee-Rose/10521   \n",
       "3  /product/Piper-Heidsieck-Cuvee-Brut-in-Travel-...   \n",
       "4  /product/Clarendon-Hills-Astralis-Syrah-2011/5...   \n",
       "\n",
       "                                         description  \n",
       "0  Dom Pérignon Vintage 2008 has been distinguish...  \n",
       "1  Gift pack containing one bottle of 2008 Louis ...  \n",
       "2  The Cuvée Rosé from Laurent-Perrier is the mos...  \n",
       "3  #95 Wine Spectator Top 100 of 2019The Brut rep...  \n",
       "4  The pride of our portfolio, Clarendon Hills As...  "
      ]
     },
     "execution_count": 2,
     "metadata": {},
     "output_type": "execute_result"
    }
   ],
   "source": [
    "scraped = pd.read_pickle('data/scraped/scraped_with_decs.pickle')\n",
    "scraped.head()"
   ]
  },
  {
   "cell_type": "code",
   "execution_count": 3,
   "metadata": {},
   "outputs": [],
   "source": [
    "name_desc_txt = scraped[['name','description']]"
   ]
  },
  {
   "cell_type": "code",
   "execution_count": 4,
   "metadata": {
    "scrolled": true
   },
   "outputs": [
    {
     "name": "stderr",
     "output_type": "stream",
     "text": [
      "c:\\users\\david\\documents\\github\\this-wine-does-not-exist\\.venv_w10\\lib\\site-packages\\ipykernel_launcher.py:1: SettingWithCopyWarning: \n",
      "A value is trying to be set on a copy of a slice from a DataFrame.\n",
      "Try using .loc[row_indexer,col_indexer] = value instead\n",
      "\n",
      "See the caveats in the documentation: https://pandas.pydata.org/pandas-docs/stable/user_guide/indexing.html#returning-a-view-versus-a-copy\n",
      "  \"\"\"Entry point for launching an IPython kernel.\n",
      "c:\\users\\david\\documents\\github\\this-wine-does-not-exist\\.venv_w10\\lib\\site-packages\\ipykernel_launcher.py:2: SettingWithCopyWarning: \n",
      "A value is trying to be set on a copy of a slice from a DataFrame.\n",
      "Try using .loc[row_indexer,col_indexer] = value instead\n",
      "\n",
      "See the caveats in the documentation: https://pandas.pydata.org/pandas-docs/stable/user_guide/indexing.html#returning-a-view-versus-a-copy\n",
      "  \n",
      "c:\\users\\david\\documents\\github\\this-wine-does-not-exist\\.venv_w10\\lib\\site-packages\\ipykernel_launcher.py:3: SettingWithCopyWarning: \n",
      "A value is trying to be set on a copy of a slice from a DataFrame.\n",
      "Try using .loc[row_indexer,col_indexer] = value instead\n",
      "\n",
      "See the caveats in the documentation: https://pandas.pydata.org/pandas-docs/stable/user_guide/indexing.html#returning-a-view-versus-a-copy\n",
      "  This is separate from the ipykernel package so we can avoid doing imports until\n",
      "c:\\users\\david\\documents\\github\\this-wine-does-not-exist\\.venv_w10\\lib\\site-packages\\ipykernel_launcher.py:4: SettingWithCopyWarning: \n",
      "A value is trying to be set on a copy of a slice from a DataFrame.\n",
      "Try using .loc[row_indexer,col_indexer] = value instead\n",
      "\n",
      "See the caveats in the documentation: https://pandas.pydata.org/pandas-docs/stable/user_guide/indexing.html#returning-a-view-versus-a-copy\n",
      "  after removing the cwd from sys.path.\n"
     ]
    }
   ],
   "source": [
    "name_desc_txt['start_token'] = \"<|startoftext|>\"\n",
    "name_desc_txt['end_token'] = \"<|endoftext|>\"\n",
    "name_desc_txt['prompt_token'] = \"[prompt]\"\n",
    "name_desc_txt['response_token'] = \"[response]\"\n",
    "\n",
    "name_desc_txt = name_desc_txt[[\n",
    "    'start_token', \n",
    "    'prompt_token', \n",
    "    'name', \n",
    "    'response_token', \n",
    "    'description'\n",
    "    ]]"
   ]
  },
  {
   "cell_type": "code",
   "execution_count": 5,
   "metadata": {},
   "outputs": [
    {
     "data": {
      "text/html": [
       "<div>\n",
       "<style scoped>\n",
       "    .dataframe tbody tr th:only-of-type {\n",
       "        vertical-align: middle;\n",
       "    }\n",
       "\n",
       "    .dataframe tbody tr th {\n",
       "        vertical-align: top;\n",
       "    }\n",
       "\n",
       "    .dataframe thead th {\n",
       "        text-align: right;\n",
       "    }\n",
       "</style>\n",
       "<table border=\"1\" class=\"dataframe\">\n",
       "  <thead>\n",
       "    <tr style=\"text-align: right;\">\n",
       "      <th></th>\n",
       "      <th>start_token</th>\n",
       "      <th>prompt_token</th>\n",
       "      <th>name</th>\n",
       "      <th>response_token</th>\n",
       "      <th>description</th>\n",
       "    </tr>\n",
       "  </thead>\n",
       "  <tbody>\n",
       "    <tr>\n",
       "      <th>0</th>\n",
       "      <td>&lt;|startoftext|&gt;</td>\n",
       "      <td>[prompt]</td>\n",
       "      <td>Dom Perignon Lenny Kravitz Limited Edition wit...</td>\n",
       "      <td>[response]</td>\n",
       "      <td>Dom Pérignon Vintage 2008 has been distinguish...</td>\n",
       "    </tr>\n",
       "    <tr>\n",
       "      <th>1</th>\n",
       "      <td>&lt;|startoftext|&gt;</td>\n",
       "      <td>[prompt]</td>\n",
       "      <td>Louis Roederer Cristal Brut with Two Flutes an...</td>\n",
       "      <td>[response]</td>\n",
       "      <td>Gift pack containing one bottle of 2008 Louis ...</td>\n",
       "    </tr>\n",
       "    <tr>\n",
       "      <th>2</th>\n",
       "      <td>&lt;|startoftext|&gt;</td>\n",
       "      <td>[prompt]</td>\n",
       "      <td>Laurent-Perrier Cuvee Rose</td>\n",
       "      <td>[response]</td>\n",
       "      <td>The Cuvée Rosé from Laurent-Perrier is the mos...</td>\n",
       "    </tr>\n",
       "    <tr>\n",
       "      <th>3</th>\n",
       "      <td>&lt;|startoftext|&gt;</td>\n",
       "      <td>[prompt]</td>\n",
       "      <td>Piper-Heidsieck Cuvee Brut in Travel Case with...</td>\n",
       "      <td>[response]</td>\n",
       "      <td>#95 Wine Spectator Top 100 of 2019The Brut rep...</td>\n",
       "    </tr>\n",
       "    <tr>\n",
       "      <th>4</th>\n",
       "      <td>&lt;|startoftext|&gt;</td>\n",
       "      <td>[prompt]</td>\n",
       "      <td>Clarendon Hills Astralis Syrah 2011</td>\n",
       "      <td>[response]</td>\n",
       "      <td>The pride of our portfolio, Clarendon Hills As...</td>\n",
       "    </tr>\n",
       "  </tbody>\n",
       "</table>\n",
       "</div>"
      ],
      "text/plain": [
       "       start_token prompt_token  \\\n",
       "0  <|startoftext|>     [prompt]   \n",
       "1  <|startoftext|>     [prompt]   \n",
       "2  <|startoftext|>     [prompt]   \n",
       "3  <|startoftext|>     [prompt]   \n",
       "4  <|startoftext|>     [prompt]   \n",
       "\n",
       "                                                name response_token  \\\n",
       "0  Dom Perignon Lenny Kravitz Limited Edition wit...     [response]   \n",
       "1  Louis Roederer Cristal Brut with Two Flutes an...     [response]   \n",
       "2                         Laurent-Perrier Cuvee Rose     [response]   \n",
       "3  Piper-Heidsieck Cuvee Brut in Travel Case with...     [response]   \n",
       "4                Clarendon Hills Astralis Syrah 2011     [response]   \n",
       "\n",
       "                                         description  \n",
       "0  Dom Pérignon Vintage 2008 has been distinguish...  \n",
       "1  Gift pack containing one bottle of 2008 Louis ...  \n",
       "2  The Cuvée Rosé from Laurent-Perrier is the mos...  \n",
       "3  #95 Wine Spectator Top 100 of 2019The Brut rep...  \n",
       "4  The pride of our portfolio, Clarendon Hills As...  "
      ]
     },
     "execution_count": 5,
     "metadata": {},
     "output_type": "execute_result"
    }
   ],
   "source": [
    "name_desc_txt.head()"
   ]
  },
  {
   "cell_type": "code",
   "execution_count": 7,
   "metadata": {},
   "outputs": [
    {
     "name": "stdout",
     "output_type": "stream",
     "text": [
      "Collecting scikit-learn\n",
      "  Downloading scikit_learn-0.23.2-cp37-cp37m-win_amd64.whl (6.8 MB)\n",
      "Requirement already satisfied: numpy>=1.13.3 in c:\\users\\david\\documents\\github\\this-wine-does-not-exist\\.venv_w10\\lib\\site-packages (from scikit-learn) (1.18.5)\n",
      "Collecting threadpoolctl>=2.0.0\n",
      "  Downloading threadpoolctl-2.1.0-py3-none-any.whl (12 kB)\n",
      "Requirement already satisfied: scipy>=0.19.1 in c:\\users\\david\\documents\\github\\this-wine-does-not-exist\\.venv_w10\\lib\\site-packages (from scikit-learn) (1.4.1)\n",
      "Collecting joblib>=0.11\n",
      "  Downloading joblib-0.16.0-py3-none-any.whl (300 kB)\n",
      "Installing collected packages: threadpoolctl, joblib, scikit-learn\n",
      "Successfully installed joblib-0.16.0 scikit-learn-0.23.2 threadpoolctl-2.1.0\n"
     ]
    }
   ],
   "source": [
    "!pip install scikit-learn"
   ]
  },
  {
   "cell_type": "code",
   "execution_count": 8,
   "metadata": {},
   "outputs": [
    {
     "name": "stdout",
     "output_type": "stream",
     "text": [
      "(100629, 5)\n",
      "(25158, 5)\n"
     ]
    }
   ],
   "source": [
    "from sklearn.model_selection import train_test_split\n",
    "\n",
    "train, test = train_test_split(name_desc_txt, test_size=0.2, random_state=0)\n",
    "print(train.shape)\n",
    "print(test.shape)"
   ]
  },
  {
   "cell_type": "code",
   "execution_count": 9,
   "metadata": {},
   "outputs": [],
   "source": [
    "name_desc_txt.to_csv(\n",
    "    \"data/scraped/name_desc_nlp_ready.txt\", \n",
    "    sep='\\t',\n",
    "    index=False,\n",
    "    header=None)\n",
    "\n",
    "train.to_csv(\n",
    "    \"data/scraped/name_desc_nlp_ready_train.txt\", \n",
    "    sep='\\t',\n",
    "    index=False,\n",
    "    header=None)\n",
    "\n",
    "test.to_csv(\n",
    "    \"data/scraped/name_desc_nlp_ready_test.txt\", \n",
    "    sep='\\t',\n",
    "    index=False,\n",
    "    header=None)"
   ]
  },
  {
   "cell_type": "code",
   "execution_count": null,
   "metadata": {},
   "outputs": [],
   "source": []
  }
 ],
 "metadata": {
  "kernelspec": {
   "display_name": "Python 3",
   "language": "python",
   "name": "python3"
  },
  "language_info": {
   "codemirror_mode": {
    "name": "ipython",
    "version": 3
   },
   "file_extension": ".py",
   "mimetype": "text/x-python",
   "name": "python",
   "nbconvert_exporter": "python",
   "pygments_lexer": "ipython3",
   "version": "3.6.10"
  }
 },
 "nbformat": 4,
 "nbformat_minor": 2
}
