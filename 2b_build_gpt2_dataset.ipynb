{
 "cells": [
  {
   "cell_type": "code",
   "execution_count": 2,
   "metadata": {
    "ExecuteTime": {
     "end_time": "2020-08-19T19:32:30.937149Z",
     "start_time": "2020-08-19T19:32:30.263084Z"
    }
   },
   "outputs": [],
   "source": [
    "import numpy as np\n",
    "import pandas as pd\n",
    "from sklearn.model_selection import train_test_split"
   ]
  },
  {
   "cell_type": "code",
   "execution_count": 3,
   "metadata": {
    "ExecuteTime": {
     "end_time": "2020-08-19T19:32:33.013504Z",
     "start_time": "2020-08-19T19:32:30.969143Z"
    }
   },
   "outputs": [
    {
     "data": {
      "text/html": [
       "<div>\n",
       "<style scoped>\n",
       "    .dataframe tbody tr th:only-of-type {\n",
       "        vertical-align: middle;\n",
       "    }\n",
       "\n",
       "    .dataframe tbody tr th {\n",
       "        vertical-align: top;\n",
       "    }\n",
       "\n",
       "    .dataframe thead th {\n",
       "        text-align: right;\n",
       "    }\n",
       "</style>\n",
       "<table border=\"1\" class=\"dataframe\">\n",
       "  <thead>\n",
       "    <tr style=\"text-align: right;\">\n",
       "      <th></th>\n",
       "      <th>name</th>\n",
       "      <th>image_path</th>\n",
       "      <th>price</th>\n",
       "      <th>url</th>\n",
       "      <th>raw_html</th>\n",
       "      <th>URL_name</th>\n",
       "      <th>description</th>\n",
       "    </tr>\n",
       "  </thead>\n",
       "  <tbody>\n",
       "    <tr>\n",
       "      <th>0</th>\n",
       "      <td>Dom Perignon Lenny Kravitz Limited Edition wit...</td>\n",
       "      <td>/product/images/fl_progressive/lmgmud1xsenlouw...</td>\n",
       "      <td>199.97</td>\n",
       "      <td>/product/Dom-Perignon-Lenny-Kravitz-Limited-Ed...</td>\n",
       "      <td>&lt;div class=\"prodItem_wrap\"&gt;\\n&lt;div class=\"prodI...</td>\n",
       "      <td>/product/Dom-Perignon-Lenny-Kravitz-Limited-Ed...</td>\n",
       "      <td>Dom Pérignon Vintage 2008 has been distinguish...</td>\n",
       "    </tr>\n",
       "    <tr>\n",
       "      <th>1</th>\n",
       "      <td>Louis Roederer Cristal Brut with Two Flutes an...</td>\n",
       "      <td>/product/images/fl_progressive/iqec7e0nf6mzyof...</td>\n",
       "      <td>329.99</td>\n",
       "      <td>/product/Louis-Roederer-Cristal-Brut-with-Two-...</td>\n",
       "      <td>&lt;div class=\"prodItem_wrap\"&gt;\\n&lt;div class=\"prodI...</td>\n",
       "      <td>/product/Louis-Roederer-Cristal-Brut-with-Two-...</td>\n",
       "      <td>Gift pack containing one bottle of 2008 Louis ...</td>\n",
       "    </tr>\n",
       "    <tr>\n",
       "      <th>2</th>\n",
       "      <td>Laurent-Perrier Cuvee Rose</td>\n",
       "      <td>/product/images/fl_progressive/10521.jpg</td>\n",
       "      <td>79.99</td>\n",
       "      <td>/product/Laurent-Perrier-Cuvee-Rose/10521</td>\n",
       "      <td>&lt;div class=\"prodItem_wrap\"&gt;\\n&lt;div class=\"prodI...</td>\n",
       "      <td>/product/Laurent-Perrier-Cuvee-Rose/10521</td>\n",
       "      <td>The Cuvée Rosé from Laurent-Perrier is the mos...</td>\n",
       "    </tr>\n",
       "  </tbody>\n",
       "</table>\n",
       "</div>"
      ],
      "text/plain": [
       "                                                name  \\\n",
       "0  Dom Perignon Lenny Kravitz Limited Edition wit...   \n",
       "1  Louis Roederer Cristal Brut with Two Flutes an...   \n",
       "2                         Laurent-Perrier Cuvee Rose   \n",
       "\n",
       "                                          image_path   price  \\\n",
       "0  /product/images/fl_progressive/lmgmud1xsenlouw...  199.97   \n",
       "1  /product/images/fl_progressive/iqec7e0nf6mzyof...  329.99   \n",
       "2           /product/images/fl_progressive/10521.jpg   79.99   \n",
       "\n",
       "                                                 url  \\\n",
       "0  /product/Dom-Perignon-Lenny-Kravitz-Limited-Ed...   \n",
       "1  /product/Louis-Roederer-Cristal-Brut-with-Two-...   \n",
       "2          /product/Laurent-Perrier-Cuvee-Rose/10521   \n",
       "\n",
       "                                            raw_html  \\\n",
       "0  <div class=\"prodItem_wrap\">\\n<div class=\"prodI...   \n",
       "1  <div class=\"prodItem_wrap\">\\n<div class=\"prodI...   \n",
       "2  <div class=\"prodItem_wrap\">\\n<div class=\"prodI...   \n",
       "\n",
       "                                            URL_name  \\\n",
       "0  /product/Dom-Perignon-Lenny-Kravitz-Limited-Ed...   \n",
       "1  /product/Louis-Roederer-Cristal-Brut-with-Two-...   \n",
       "2          /product/Laurent-Perrier-Cuvee-Rose/10521   \n",
       "\n",
       "                                         description  \n",
       "0  Dom Pérignon Vintage 2008 has been distinguish...  \n",
       "1  Gift pack containing one bottle of 2008 Louis ...  \n",
       "2  The Cuvée Rosé from Laurent-Perrier is the mos...  "
      ]
     },
     "execution_count": 3,
     "metadata": {},
     "output_type": "execute_result"
    }
   ],
   "source": [
    "scraped = pd.read_pickle('data/scraped/scraped_with_decs.pickle.gz', compression='gzip')\n",
    "scraped.head(3)"
   ]
  },
  {
   "cell_type": "code",
   "execution_count": 4,
   "metadata": {
    "ExecuteTime": {
     "end_time": "2020-08-19T19:32:33.060587Z",
     "start_time": "2020-08-19T19:32:33.045474Z"
    }
   },
   "outputs": [],
   "source": [
    "name_desc_txt = scraped[['name','description']]"
   ]
  },
  {
   "cell_type": "code",
   "execution_count": 9,
   "metadata": {
    "ExecuteTime": {
     "end_time": "2020-08-19T19:32:56.613234Z",
     "start_time": "2020-08-19T19:32:56.579695Z"
    },
    "scrolled": true
   },
   "outputs": [],
   "source": [
    "name_desc_txt['start_token'] = \"<|startoftext|>\"\n",
    "name_desc_txt['end_token'] = \"<|endoftext|>\"\n",
    "name_desc_txt['prompt_token'] = \"[prompt]\"\n",
    "name_desc_txt['response_token'] = \"[response]\"\n",
    "\n",
    "name_desc_txt = name_desc_txt[\n",
    "  [\n",
    "    'start_token', \n",
    "    'prompt_token', \n",
    "    'name', \n",
    "    'response_token', \n",
    "    'description',\n",
    "    'end_token'\n",
    "  ]\n",
    "]"
   ]
  },
  {
   "cell_type": "code",
   "execution_count": 10,
   "metadata": {
    "ExecuteTime": {
     "end_time": "2020-08-19T19:32:57.061739Z",
     "start_time": "2020-08-19T19:32:57.048715Z"
    }
   },
   "outputs": [
    {
     "data": {
      "text/html": [
       "<div>\n",
       "<style scoped>\n",
       "    .dataframe tbody tr th:only-of-type {\n",
       "        vertical-align: middle;\n",
       "    }\n",
       "\n",
       "    .dataframe tbody tr th {\n",
       "        vertical-align: top;\n",
       "    }\n",
       "\n",
       "    .dataframe thead th {\n",
       "        text-align: right;\n",
       "    }\n",
       "</style>\n",
       "<table border=\"1\" class=\"dataframe\">\n",
       "  <thead>\n",
       "    <tr style=\"text-align: right;\">\n",
       "      <th></th>\n",
       "      <th>start_token</th>\n",
       "      <th>prompt_token</th>\n",
       "      <th>name</th>\n",
       "      <th>response_token</th>\n",
       "      <th>description</th>\n",
       "      <th>end_token</th>\n",
       "    </tr>\n",
       "  </thead>\n",
       "  <tbody>\n",
       "    <tr>\n",
       "      <th>0</th>\n",
       "      <td>&lt;|startoftext|&gt;</td>\n",
       "      <td>[prompt]</td>\n",
       "      <td>Dom Perignon Lenny Kravitz Limited Edition wit...</td>\n",
       "      <td>[response]</td>\n",
       "      <td>Dom Pérignon Vintage 2008 has been distinguish...</td>\n",
       "      <td>&lt;|endoftext|&gt;</td>\n",
       "    </tr>\n",
       "    <tr>\n",
       "      <th>1</th>\n",
       "      <td>&lt;|startoftext|&gt;</td>\n",
       "      <td>[prompt]</td>\n",
       "      <td>Louis Roederer Cristal Brut with Two Flutes an...</td>\n",
       "      <td>[response]</td>\n",
       "      <td>Gift pack containing one bottle of 2008 Louis ...</td>\n",
       "      <td>&lt;|endoftext|&gt;</td>\n",
       "    </tr>\n",
       "    <tr>\n",
       "      <th>2</th>\n",
       "      <td>&lt;|startoftext|&gt;</td>\n",
       "      <td>[prompt]</td>\n",
       "      <td>Laurent-Perrier Cuvee Rose</td>\n",
       "      <td>[response]</td>\n",
       "      <td>The Cuvée Rosé from Laurent-Perrier is the mos...</td>\n",
       "      <td>&lt;|endoftext|&gt;</td>\n",
       "    </tr>\n",
       "    <tr>\n",
       "      <th>3</th>\n",
       "      <td>&lt;|startoftext|&gt;</td>\n",
       "      <td>[prompt]</td>\n",
       "      <td>Piper-Heidsieck Cuvee Brut in Travel Case with...</td>\n",
       "      <td>[response]</td>\n",
       "      <td>#95 Wine Spectator Top 100 of 2019The Brut rep...</td>\n",
       "      <td>&lt;|endoftext|&gt;</td>\n",
       "    </tr>\n",
       "    <tr>\n",
       "      <th>4</th>\n",
       "      <td>&lt;|startoftext|&gt;</td>\n",
       "      <td>[prompt]</td>\n",
       "      <td>Clarendon Hills Astralis Syrah 2011</td>\n",
       "      <td>[response]</td>\n",
       "      <td>The pride of our portfolio, Clarendon Hills As...</td>\n",
       "      <td>&lt;|endoftext|&gt;</td>\n",
       "    </tr>\n",
       "  </tbody>\n",
       "</table>\n",
       "</div>"
      ],
      "text/plain": [
       "       start_token prompt_token  \\\n",
       "0  <|startoftext|>     [prompt]   \n",
       "1  <|startoftext|>     [prompt]   \n",
       "2  <|startoftext|>     [prompt]   \n",
       "3  <|startoftext|>     [prompt]   \n",
       "4  <|startoftext|>     [prompt]   \n",
       "\n",
       "                                                name response_token  \\\n",
       "0  Dom Perignon Lenny Kravitz Limited Edition wit...     [response]   \n",
       "1  Louis Roederer Cristal Brut with Two Flutes an...     [response]   \n",
       "2                         Laurent-Perrier Cuvee Rose     [response]   \n",
       "3  Piper-Heidsieck Cuvee Brut in Travel Case with...     [response]   \n",
       "4                Clarendon Hills Astralis Syrah 2011     [response]   \n",
       "\n",
       "                                         description      end_token  \n",
       "0  Dom Pérignon Vintage 2008 has been distinguish...  <|endoftext|>  \n",
       "1  Gift pack containing one bottle of 2008 Louis ...  <|endoftext|>  \n",
       "2  The Cuvée Rosé from Laurent-Perrier is the mos...  <|endoftext|>  \n",
       "3  #95 Wine Spectator Top 100 of 2019The Brut rep...  <|endoftext|>  \n",
       "4  The pride of our portfolio, Clarendon Hills As...  <|endoftext|>  "
      ]
     },
     "execution_count": 10,
     "metadata": {},
     "output_type": "execute_result"
    }
   ],
   "source": [
    "name_desc_txt.head()"
   ]
  },
  {
   "cell_type": "code",
   "execution_count": null,
   "metadata": {},
   "outputs": [],
   "source": []
  },
  {
   "cell_type": "markdown",
   "metadata": {},
   "source": [
    "# Quality cleanup"
   ]
  },
  {
   "cell_type": "code",
   "execution_count": 22,
   "metadata": {
    "ExecuteTime": {
     "end_time": "2020-08-19T20:58:29.457662Z",
     "start_time": "2020-08-19T20:58:29.161660Z"
    }
   },
   "outputs": [
    {
     "name": "stdout",
     "output_type": "stream",
     "text": [
      "(125787, 6)\n",
      "(125482, 6)\n",
      "(125482, 6)\n"
     ]
    }
   ],
   "source": [
    "print(name_desc_txt.shape)\n",
    "name_desc_clean = name_desc_txt[~name_desc_txt['name'].str.lower().str.contains('gift')]\n",
    "print(name_desc_txt_clean.shape)\n",
    "name_desc_clean = name_desc_clean[~name_desc_clean['description'].str.lower().str.contains('gift')]\n",
    "print(name_desc_clean.shape)\n"
   ]
  },
  {
   "cell_type": "code",
   "execution_count": 23,
   "metadata": {
    "ExecuteTime": {
     "end_time": "2020-08-19T20:58:29.551684Z",
     "start_time": "2020-08-19T20:58:29.534662Z"
    }
   },
   "outputs": [
    {
     "data": {
      "text/html": [
       "<div>\n",
       "<style scoped>\n",
       "    .dataframe tbody tr th:only-of-type {\n",
       "        vertical-align: middle;\n",
       "    }\n",
       "\n",
       "    .dataframe tbody tr th {\n",
       "        vertical-align: top;\n",
       "    }\n",
       "\n",
       "    .dataframe thead th {\n",
       "        text-align: right;\n",
       "    }\n",
       "</style>\n",
       "<table border=\"1\" class=\"dataframe\">\n",
       "  <thead>\n",
       "    <tr style=\"text-align: right;\">\n",
       "      <th></th>\n",
       "      <th>start_token</th>\n",
       "      <th>prompt_token</th>\n",
       "      <th>name</th>\n",
       "      <th>response_token</th>\n",
       "      <th>description</th>\n",
       "      <th>end_token</th>\n",
       "    </tr>\n",
       "  </thead>\n",
       "  <tbody>\n",
       "    <tr>\n",
       "      <th>2</th>\n",
       "      <td>&lt;|startoftext|&gt;</td>\n",
       "      <td>[prompt]</td>\n",
       "      <td>Laurent-Perrier Cuvee Rose</td>\n",
       "      <td>[response]</td>\n",
       "      <td>The Cuvée Rosé from Laurent-Perrier is the mos...</td>\n",
       "      <td>&lt;|endoftext|&gt;</td>\n",
       "    </tr>\n",
       "    <tr>\n",
       "      <th>3</th>\n",
       "      <td>&lt;|startoftext|&gt;</td>\n",
       "      <td>[prompt]</td>\n",
       "      <td>Piper-Heidsieck Cuvee Brut in Travel Case with...</td>\n",
       "      <td>[response]</td>\n",
       "      <td>#95 Wine Spectator Top 100 of 2019The Brut rep...</td>\n",
       "      <td>&lt;|endoftext|&gt;</td>\n",
       "    </tr>\n",
       "    <tr>\n",
       "      <th>4</th>\n",
       "      <td>&lt;|startoftext|&gt;</td>\n",
       "      <td>[prompt]</td>\n",
       "      <td>Clarendon Hills Astralis Syrah 2011</td>\n",
       "      <td>[response]</td>\n",
       "      <td>The pride of our portfolio, Clarendon Hills As...</td>\n",
       "      <td>&lt;|endoftext|&gt;</td>\n",
       "    </tr>\n",
       "    <tr>\n",
       "      <th>5</th>\n",
       "      <td>&lt;|startoftext|&gt;</td>\n",
       "      <td>[prompt]</td>\n",
       "      <td>Yalumba Patchwork Shiraz 2014</td>\n",
       "      <td>[response]</td>\n",
       "      <td>This wine shows all the hallmarks of Barossa S...</td>\n",
       "      <td>&lt;|endoftext|&gt;</td>\n",
       "    </tr>\n",
       "    <tr>\n",
       "      <th>7</th>\n",
       "      <td>&lt;|startoftext|&gt;</td>\n",
       "      <td>[prompt]</td>\n",
       "      <td>Caymus Napa Valley Cabernet Sauvignon 2018</td>\n",
       "      <td>[response]</td>\n",
       "      <td>Caymus has a signature style that is dark in c...</td>\n",
       "      <td>&lt;|endoftext|&gt;</td>\n",
       "    </tr>\n",
       "  </tbody>\n",
       "</table>\n",
       "</div>"
      ],
      "text/plain": [
       "       start_token prompt_token  \\\n",
       "2  <|startoftext|>     [prompt]   \n",
       "3  <|startoftext|>     [prompt]   \n",
       "4  <|startoftext|>     [prompt]   \n",
       "5  <|startoftext|>     [prompt]   \n",
       "7  <|startoftext|>     [prompt]   \n",
       "\n",
       "                                                name response_token  \\\n",
       "2                         Laurent-Perrier Cuvee Rose     [response]   \n",
       "3  Piper-Heidsieck Cuvee Brut in Travel Case with...     [response]   \n",
       "4                Clarendon Hills Astralis Syrah 2011     [response]   \n",
       "5                      Yalumba Patchwork Shiraz 2014     [response]   \n",
       "7         Caymus Napa Valley Cabernet Sauvignon 2018     [response]   \n",
       "\n",
       "                                         description      end_token  \n",
       "2  The Cuvée Rosé from Laurent-Perrier is the mos...  <|endoftext|>  \n",
       "3  #95 Wine Spectator Top 100 of 2019The Brut rep...  <|endoftext|>  \n",
       "4  The pride of our portfolio, Clarendon Hills As...  <|endoftext|>  \n",
       "5  This wine shows all the hallmarks of Barossa S...  <|endoftext|>  \n",
       "7  Caymus has a signature style that is dark in c...  <|endoftext|>  "
      ]
     },
     "execution_count": 23,
     "metadata": {},
     "output_type": "execute_result"
    }
   ],
   "source": [
    "name_desc_clean.head()"
   ]
  },
  {
   "cell_type": "markdown",
   "metadata": {},
   "source": [
    "# Data split and save"
   ]
  },
  {
   "cell_type": "code",
   "execution_count": 24,
   "metadata": {
    "ExecuteTime": {
     "end_time": "2020-08-19T20:58:31.804807Z",
     "start_time": "2020-08-19T20:58:31.769699Z"
    }
   },
   "outputs": [
    {
     "name": "stdout",
     "output_type": "stream",
     "text": [
      "(100385, 6)\n",
      "(25097, 6)\n"
     ]
    }
   ],
   "source": [
    "train, test = train_test_split(name_desc_clean, test_size=0.2, random_state=0)\n",
    "print(train.shape)\n",
    "print(test.shape)"
   ]
  },
  {
   "cell_type": "code",
   "execution_count": 26,
   "metadata": {
    "ExecuteTime": {
     "end_time": "2020-08-19T21:03:27.707415Z",
     "start_time": "2020-08-19T21:03:25.750385Z"
    }
   },
   "outputs": [],
   "source": [
    "name_desc_clean.to_csv(\n",
    "    \"data/scraped/name_desc_nlp_ready.txt\", \n",
    "    sep='\\t',\n",
    "    index=False,\n",
    "    header=None)\n",
    "\n",
    "train.to_csv(\n",
    "    \"data/scraped/name_desc_nlp_ready_train.txt\", \n",
    "    sep='\\t',\n",
    "    index=False,\n",
    "    header=None)\n",
    "\n",
    "test.to_csv(\n",
    "    \"data/scraped/name_desc_nlp_ready_test.txt\", \n",
    "    sep='\\t',\n",
    "    index=False,\n",
    "    header=None)"
   ]
  },
  {
   "cell_type": "code",
   "execution_count": null,
   "metadata": {},
   "outputs": [],
   "source": []
  }
 ],
 "metadata": {
  "kernelspec": {
   "display_name": "Python 3",
   "language": "python",
   "name": "python3"
  },
  "language_info": {
   "codemirror_mode": {
    "name": "ipython",
    "version": 3
   },
   "file_extension": ".py",
   "mimetype": "text/x-python",
   "name": "python",
   "nbconvert_exporter": "python",
   "pygments_lexer": "ipython3",
   "version": "3.6.10"
  },
  "varInspector": {
   "cols": {
    "lenName": 16,
    "lenType": 16,
    "lenVar": 40
   },
   "kernels_config": {
    "python": {
     "delete_cmd_postfix": "",
     "delete_cmd_prefix": "del ",
     "library": "var_list.py",
     "varRefreshCmd": "print(var_dic_list())"
    },
    "r": {
     "delete_cmd_postfix": ") ",
     "delete_cmd_prefix": "rm(",
     "library": "var_list.r",
     "varRefreshCmd": "cat(var_dic_list()) "
    }
   },
   "types_to_exclude": [
    "module",
    "function",
    "builtin_function_or_method",
    "instance",
    "_Feature"
   ],
   "window_display": false
  }
 },
 "nbformat": 4,
 "nbformat_minor": 2
}
