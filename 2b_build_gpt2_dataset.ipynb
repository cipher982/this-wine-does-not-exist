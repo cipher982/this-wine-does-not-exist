{
 "cells": [
  {
   "cell_type": "code",
   "execution_count": 27,
   "metadata": {
    "ExecuteTime": {
     "end_time": "2020-08-18T23:02:44.917157Z",
     "start_time": "2020-08-18T23:02:44.904150Z"
    }
   },
   "outputs": [],
   "source": [
    "import numpy as np\n",
    "import pandas as pd\n",
    "from sklearn.model_selection import train_test_split"
   ]
  },
  {
   "cell_type": "code",
   "execution_count": 28,
   "metadata": {
    "ExecuteTime": {
     "end_time": "2020-08-18T23:02:47.501829Z",
     "start_time": "2020-08-18T23:02:45.548856Z"
    }
   },
   "outputs": [
    {
     "data": {
      "text/html": [
       "<div>\n",
       "<style scoped>\n",
       "    .dataframe tbody tr th:only-of-type {\n",
       "        vertical-align: middle;\n",
       "    }\n",
       "\n",
       "    .dataframe tbody tr th {\n",
       "        vertical-align: top;\n",
       "    }\n",
       "\n",
       "    .dataframe thead th {\n",
       "        text-align: right;\n",
       "    }\n",
       "</style>\n",
       "<table border=\"1\" class=\"dataframe\">\n",
       "  <thead>\n",
       "    <tr style=\"text-align: right;\">\n",
       "      <th></th>\n",
       "      <th>name</th>\n",
       "      <th>image_path</th>\n",
       "      <th>price</th>\n",
       "      <th>url</th>\n",
       "      <th>raw_html</th>\n",
       "      <th>URL_name</th>\n",
       "      <th>description</th>\n",
       "    </tr>\n",
       "  </thead>\n",
       "  <tbody>\n",
       "    <tr>\n",
       "      <th>0</th>\n",
       "      <td>Dom Perignon Lenny Kravitz Limited Edition wit...</td>\n",
       "      <td>/product/images/fl_progressive/lmgmud1xsenlouw...</td>\n",
       "      <td>199.97</td>\n",
       "      <td>/product/Dom-Perignon-Lenny-Kravitz-Limited-Ed...</td>\n",
       "      <td>&lt;div class=\"prodItem_wrap\"&gt;\\n&lt;div class=\"prodI...</td>\n",
       "      <td>/product/Dom-Perignon-Lenny-Kravitz-Limited-Ed...</td>\n",
       "      <td>Dom Pérignon Vintage 2008 has been distinguish...</td>\n",
       "    </tr>\n",
       "    <tr>\n",
       "      <th>1</th>\n",
       "      <td>Louis Roederer Cristal Brut with Two Flutes an...</td>\n",
       "      <td>/product/images/fl_progressive/iqec7e0nf6mzyof...</td>\n",
       "      <td>329.99</td>\n",
       "      <td>/product/Louis-Roederer-Cristal-Brut-with-Two-...</td>\n",
       "      <td>&lt;div class=\"prodItem_wrap\"&gt;\\n&lt;div class=\"prodI...</td>\n",
       "      <td>/product/Louis-Roederer-Cristal-Brut-with-Two-...</td>\n",
       "      <td>Gift pack containing one bottle of 2008 Louis ...</td>\n",
       "    </tr>\n",
       "    <tr>\n",
       "      <th>2</th>\n",
       "      <td>Laurent-Perrier Cuvee Rose</td>\n",
       "      <td>/product/images/fl_progressive/10521.jpg</td>\n",
       "      <td>79.99</td>\n",
       "      <td>/product/Laurent-Perrier-Cuvee-Rose/10521</td>\n",
       "      <td>&lt;div class=\"prodItem_wrap\"&gt;\\n&lt;div class=\"prodI...</td>\n",
       "      <td>/product/Laurent-Perrier-Cuvee-Rose/10521</td>\n",
       "      <td>The Cuvée Rosé from Laurent-Perrier is the mos...</td>\n",
       "    </tr>\n",
       "  </tbody>\n",
       "</table>\n",
       "</div>"
      ],
      "text/plain": [
       "                                                name  \\\n",
       "0  Dom Perignon Lenny Kravitz Limited Edition wit...   \n",
       "1  Louis Roederer Cristal Brut with Two Flutes an...   \n",
       "2                         Laurent-Perrier Cuvee Rose   \n",
       "\n",
       "                                          image_path   price  \\\n",
       "0  /product/images/fl_progressive/lmgmud1xsenlouw...  199.97   \n",
       "1  /product/images/fl_progressive/iqec7e0nf6mzyof...  329.99   \n",
       "2           /product/images/fl_progressive/10521.jpg   79.99   \n",
       "\n",
       "                                                 url  \\\n",
       "0  /product/Dom-Perignon-Lenny-Kravitz-Limited-Ed...   \n",
       "1  /product/Louis-Roederer-Cristal-Brut-with-Two-...   \n",
       "2          /product/Laurent-Perrier-Cuvee-Rose/10521   \n",
       "\n",
       "                                            raw_html  \\\n",
       "0  <div class=\"prodItem_wrap\">\\n<div class=\"prodI...   \n",
       "1  <div class=\"prodItem_wrap\">\\n<div class=\"prodI...   \n",
       "2  <div class=\"prodItem_wrap\">\\n<div class=\"prodI...   \n",
       "\n",
       "                                            URL_name  \\\n",
       "0  /product/Dom-Perignon-Lenny-Kravitz-Limited-Ed...   \n",
       "1  /product/Louis-Roederer-Cristal-Brut-with-Two-...   \n",
       "2          /product/Laurent-Perrier-Cuvee-Rose/10521   \n",
       "\n",
       "                                         description  \n",
       "0  Dom Pérignon Vintage 2008 has been distinguish...  \n",
       "1  Gift pack containing one bottle of 2008 Louis ...  \n",
       "2  The Cuvée Rosé from Laurent-Perrier is the mos...  "
      ]
     },
     "execution_count": 28,
     "metadata": {},
     "output_type": "execute_result"
    }
   ],
   "source": [
    "scraped = pd.read_pickle('data/scraped/scraped_with_decs.pickle.gz', compression='gzip')\n",
    "scraped.head(3)"
   ]
  },
  {
   "cell_type": "code",
   "execution_count": 19,
   "metadata": {
    "ExecuteTime": {
     "end_time": "2020-08-18T21:53:42.796935Z",
     "start_time": "2020-08-18T21:53:42.779966Z"
    }
   },
   "outputs": [],
   "source": [
    "name_desc_txt = scraped[['name','description']]"
   ]
  },
  {
   "cell_type": "code",
   "execution_count": 22,
   "metadata": {
    "ExecuteTime": {
     "end_time": "2020-08-18T21:54:35.111016Z",
     "start_time": "2020-08-18T21:54:35.070767Z"
    },
    "scrolled": true
   },
   "outputs": [],
   "source": [
    "name_desc_txt['start_token'] = \"<|startoftext|>\"\n",
    "name_desc_txt['end_token'] = \"<|endoftext|>\"\n",
    "name_desc_txt['prompt_token'] = \"[prompt]\"\n",
    "name_desc_txt['response_token'] = \"[response]\"\n",
    "\n",
    "name_desc_txt = name_desc_txt[\n",
    "  [\n",
    "    'start_token', \n",
    "    'prompt_token', \n",
    "    'name', \n",
    "    'response_token', \n",
    "    'description'\n",
    "  ]\n",
    "]"
   ]
  },
  {
   "cell_type": "code",
   "execution_count": 23,
   "metadata": {
    "ExecuteTime": {
     "end_time": "2020-08-18T21:54:35.622020Z",
     "start_time": "2020-08-18T21:54:35.604992Z"
    }
   },
   "outputs": [
    {
     "data": {
      "text/html": [
       "<div>\n",
       "<style scoped>\n",
       "    .dataframe tbody tr th:only-of-type {\n",
       "        vertical-align: middle;\n",
       "    }\n",
       "\n",
       "    .dataframe tbody tr th {\n",
       "        vertical-align: top;\n",
       "    }\n",
       "\n",
       "    .dataframe thead th {\n",
       "        text-align: right;\n",
       "    }\n",
       "</style>\n",
       "<table border=\"1\" class=\"dataframe\">\n",
       "  <thead>\n",
       "    <tr style=\"text-align: right;\">\n",
       "      <th></th>\n",
       "      <th>start_token</th>\n",
       "      <th>prompt_token</th>\n",
       "      <th>name</th>\n",
       "      <th>response_token</th>\n",
       "      <th>description</th>\n",
       "    </tr>\n",
       "  </thead>\n",
       "  <tbody>\n",
       "    <tr>\n",
       "      <th>0</th>\n",
       "      <td>&lt;|startoftext|&gt;</td>\n",
       "      <td>[prompt]</td>\n",
       "      <td>Dom Perignon Lenny Kravitz Limited Edition wit...</td>\n",
       "      <td>[response]</td>\n",
       "      <td>Dom Pérignon Vintage 2008 has been distinguish...</td>\n",
       "    </tr>\n",
       "    <tr>\n",
       "      <th>1</th>\n",
       "      <td>&lt;|startoftext|&gt;</td>\n",
       "      <td>[prompt]</td>\n",
       "      <td>Louis Roederer Cristal Brut with Two Flutes an...</td>\n",
       "      <td>[response]</td>\n",
       "      <td>Gift pack containing one bottle of 2008 Louis ...</td>\n",
       "    </tr>\n",
       "    <tr>\n",
       "      <th>2</th>\n",
       "      <td>&lt;|startoftext|&gt;</td>\n",
       "      <td>[prompt]</td>\n",
       "      <td>Laurent-Perrier Cuvee Rose</td>\n",
       "      <td>[response]</td>\n",
       "      <td>The Cuvée Rosé from Laurent-Perrier is the mos...</td>\n",
       "    </tr>\n",
       "    <tr>\n",
       "      <th>3</th>\n",
       "      <td>&lt;|startoftext|&gt;</td>\n",
       "      <td>[prompt]</td>\n",
       "      <td>Piper-Heidsieck Cuvee Brut in Travel Case with...</td>\n",
       "      <td>[response]</td>\n",
       "      <td>#95 Wine Spectator Top 100 of 2019The Brut rep...</td>\n",
       "    </tr>\n",
       "    <tr>\n",
       "      <th>4</th>\n",
       "      <td>&lt;|startoftext|&gt;</td>\n",
       "      <td>[prompt]</td>\n",
       "      <td>Clarendon Hills Astralis Syrah 2011</td>\n",
       "      <td>[response]</td>\n",
       "      <td>The pride of our portfolio, Clarendon Hills As...</td>\n",
       "    </tr>\n",
       "  </tbody>\n",
       "</table>\n",
       "</div>"
      ],
      "text/plain": [
       "       start_token prompt_token  \\\n",
       "0  <|startoftext|>     [prompt]   \n",
       "1  <|startoftext|>     [prompt]   \n",
       "2  <|startoftext|>     [prompt]   \n",
       "3  <|startoftext|>     [prompt]   \n",
       "4  <|startoftext|>     [prompt]   \n",
       "\n",
       "                                                name response_token  \\\n",
       "0  Dom Perignon Lenny Kravitz Limited Edition wit...     [response]   \n",
       "1  Louis Roederer Cristal Brut with Two Flutes an...     [response]   \n",
       "2                         Laurent-Perrier Cuvee Rose     [response]   \n",
       "3  Piper-Heidsieck Cuvee Brut in Travel Case with...     [response]   \n",
       "4                Clarendon Hills Astralis Syrah 2011     [response]   \n",
       "\n",
       "                                         description  \n",
       "0  Dom Pérignon Vintage 2008 has been distinguish...  \n",
       "1  Gift pack containing one bottle of 2008 Louis ...  \n",
       "2  The Cuvée Rosé from Laurent-Perrier is the mos...  \n",
       "3  #95 Wine Spectator Top 100 of 2019The Brut rep...  \n",
       "4  The pride of our portfolio, Clarendon Hills As...  "
      ]
     },
     "execution_count": 23,
     "metadata": {},
     "output_type": "execute_result"
    }
   ],
   "source": [
    "name_desc_txt.head()"
   ]
  },
  {
   "cell_type": "code",
   "execution_count": 26,
   "metadata": {
    "ExecuteTime": {
     "end_time": "2020-08-18T22:55:34.448363Z",
     "start_time": "2020-08-18T22:55:34.436328Z"
    }
   },
   "outputs": [
    {
     "data": {
      "text/html": [
       "<div>\n",
       "<style scoped>\n",
       "    .dataframe tbody tr th:only-of-type {\n",
       "        vertical-align: middle;\n",
       "    }\n",
       "\n",
       "    .dataframe tbody tr th {\n",
       "        vertical-align: top;\n",
       "    }\n",
       "\n",
       "    .dataframe thead th {\n",
       "        text-align: right;\n",
       "    }\n",
       "</style>\n",
       "<table border=\"1\" class=\"dataframe\">\n",
       "  <thead>\n",
       "    <tr style=\"text-align: right;\">\n",
       "      <th></th>\n",
       "      <th>start_token</th>\n",
       "      <th>prompt_token</th>\n",
       "      <th>name</th>\n",
       "      <th>response_token</th>\n",
       "      <th>description</th>\n",
       "    </tr>\n",
       "  </thead>\n",
       "  <tbody>\n",
       "    <tr>\n",
       "      <th>0</th>\n",
       "      <td>&lt;|startoftext|&gt;</td>\n",
       "      <td>[prompt]</td>\n",
       "      <td>Dom Perignon Lenny Kravitz Limited Edition wit...</td>\n",
       "      <td>[response]</td>\n",
       "      <td>Dom Pérignon Vintage 2008 has been distinguish...</td>\n",
       "    </tr>\n",
       "    <tr>\n",
       "      <th>1</th>\n",
       "      <td>&lt;|startoftext|&gt;</td>\n",
       "      <td>[prompt]</td>\n",
       "      <td>Louis Roederer Cristal Brut with Two Flutes an...</td>\n",
       "      <td>[response]</td>\n",
       "      <td>Gift pack containing one bottle of 2008 Louis ...</td>\n",
       "    </tr>\n",
       "    <tr>\n",
       "      <th>2</th>\n",
       "      <td>&lt;|startoftext|&gt;</td>\n",
       "      <td>[prompt]</td>\n",
       "      <td>Laurent-Perrier Cuvee Rose</td>\n",
       "      <td>[response]</td>\n",
       "      <td>The Cuvée Rosé from Laurent-Perrier is the mos...</td>\n",
       "    </tr>\n",
       "    <tr>\n",
       "      <th>3</th>\n",
       "      <td>&lt;|startoftext|&gt;</td>\n",
       "      <td>[prompt]</td>\n",
       "      <td>Piper-Heidsieck Cuvee Brut in Travel Case with...</td>\n",
       "      <td>[response]</td>\n",
       "      <td>#95 Wine Spectator Top 100 of 2019The Brut rep...</td>\n",
       "    </tr>\n",
       "    <tr>\n",
       "      <th>4</th>\n",
       "      <td>&lt;|startoftext|&gt;</td>\n",
       "      <td>[prompt]</td>\n",
       "      <td>Clarendon Hills Astralis Syrah 2011</td>\n",
       "      <td>[response]</td>\n",
       "      <td>The pride of our portfolio, Clarendon Hills As...</td>\n",
       "    </tr>\n",
       "    <tr>\n",
       "      <th>...</th>\n",
       "      <td>...</td>\n",
       "      <td>...</td>\n",
       "      <td>...</td>\n",
       "      <td>...</td>\n",
       "      <td>...</td>\n",
       "    </tr>\n",
       "    <tr>\n",
       "      <th>125782</th>\n",
       "      <td>&lt;|startoftext|&gt;</td>\n",
       "      <td>[prompt]</td>\n",
       "      <td>Whitehall Lane Tre Leoni 2014</td>\n",
       "      <td>[response]</td>\n",
       "      <td>This ferociously fun blend has depth, balance ...</td>\n",
       "    </tr>\n",
       "    <tr>\n",
       "      <th>125783</th>\n",
       "      <td>&lt;|startoftext|&gt;</td>\n",
       "      <td>[prompt]</td>\n",
       "      <td>Terrabianca Campaccio 2004</td>\n",
       "      <td>[response]</td>\n",
       "      <td>\"The 2004 Campaccio (70% Sangiovese, 30% Caber...</td>\n",
       "    </tr>\n",
       "    <tr>\n",
       "      <th>125784</th>\n",
       "      <td>&lt;|startoftext|&gt;</td>\n",
       "      <td>[prompt]</td>\n",
       "      <td>Jean-Louis Chave Hermitage (1.5 Liter Magnum) ...</td>\n",
       "      <td>[response]</td>\n",
       "      <td></td>\n",
       "    </tr>\n",
       "    <tr>\n",
       "      <th>125785</th>\n",
       "      <td>&lt;|startoftext|&gt;</td>\n",
       "      <td>[prompt]</td>\n",
       "      <td>Piper-Heidsieck Cuvee Brut (3.0 Liter Bottle -...</td>\n",
       "      <td>[response]</td>\n",
       "      <td>#95 Wine Spectator Top 100 of 2019The Brut NV ...</td>\n",
       "    </tr>\n",
       "    <tr>\n",
       "      <th>125786</th>\n",
       "      <td>&lt;|startoftext|&gt;</td>\n",
       "      <td>[prompt]</td>\n",
       "      <td>Turley Estate Cabernet Sauvignon 2012</td>\n",
       "      <td>[response]</td>\n",
       "      <td>Certified organic, Napa Valley single vineyard...</td>\n",
       "    </tr>\n",
       "  </tbody>\n",
       "</table>\n",
       "<p>125787 rows × 5 columns</p>\n",
       "</div>"
      ],
      "text/plain": [
       "            start_token prompt_token  \\\n",
       "0       <|startoftext|>     [prompt]   \n",
       "1       <|startoftext|>     [prompt]   \n",
       "2       <|startoftext|>     [prompt]   \n",
       "3       <|startoftext|>     [prompt]   \n",
       "4       <|startoftext|>     [prompt]   \n",
       "...                 ...          ...   \n",
       "125782  <|startoftext|>     [prompt]   \n",
       "125783  <|startoftext|>     [prompt]   \n",
       "125784  <|startoftext|>     [prompt]   \n",
       "125785  <|startoftext|>     [prompt]   \n",
       "125786  <|startoftext|>     [prompt]   \n",
       "\n",
       "                                                     name response_token  \\\n",
       "0       Dom Perignon Lenny Kravitz Limited Edition wit...     [response]   \n",
       "1       Louis Roederer Cristal Brut with Two Flutes an...     [response]   \n",
       "2                              Laurent-Perrier Cuvee Rose     [response]   \n",
       "3       Piper-Heidsieck Cuvee Brut in Travel Case with...     [response]   \n",
       "4                     Clarendon Hills Astralis Syrah 2011     [response]   \n",
       "...                                                   ...            ...   \n",
       "125782                      Whitehall Lane Tre Leoni 2014     [response]   \n",
       "125783                         Terrabianca Campaccio 2004     [response]   \n",
       "125784  Jean-Louis Chave Hermitage (1.5 Liter Magnum) ...     [response]   \n",
       "125785  Piper-Heidsieck Cuvee Brut (3.0 Liter Bottle -...     [response]   \n",
       "125786              Turley Estate Cabernet Sauvignon 2012     [response]   \n",
       "\n",
       "                                              description  \n",
       "0       Dom Pérignon Vintage 2008 has been distinguish...  \n",
       "1       Gift pack containing one bottle of 2008 Louis ...  \n",
       "2       The Cuvée Rosé from Laurent-Perrier is the mos...  \n",
       "3       #95 Wine Spectator Top 100 of 2019The Brut rep...  \n",
       "4       The pride of our portfolio, Clarendon Hills As...  \n",
       "...                                                   ...  \n",
       "125782  This ferociously fun blend has depth, balance ...  \n",
       "125783  \"The 2004 Campaccio (70% Sangiovese, 30% Caber...  \n",
       "125784                                                     \n",
       "125785  #95 Wine Spectator Top 100 of 2019The Brut NV ...  \n",
       "125786  Certified organic, Napa Valley single vineyard...  \n",
       "\n",
       "[125787 rows x 5 columns]"
      ]
     },
     "execution_count": 26,
     "metadata": {},
     "output_type": "execute_result"
    }
   ],
   "source": [
    "name_desc_txt"
   ]
  },
  {
   "cell_type": "code",
   "execution_count": 24,
   "metadata": {
    "ExecuteTime": {
     "end_time": "2020-08-18T21:54:38.867725Z",
     "start_time": "2020-08-18T21:54:38.845726Z"
    }
   },
   "outputs": [
    {
     "name": "stdout",
     "output_type": "stream",
     "text": [
      "(100629, 5)\n",
      "(25158, 5)\n"
     ]
    }
   ],
   "source": [
    "train, test = train_test_split(name_desc_txt, test_size=0.2, random_state=0)\n",
    "print(train.shape)\n",
    "print(test.shape)"
   ]
  },
  {
   "cell_type": "code",
   "execution_count": 25,
   "metadata": {
    "ExecuteTime": {
     "end_time": "2020-08-18T21:54:42.975302Z",
     "start_time": "2020-08-18T21:54:41.057298Z"
    }
   },
   "outputs": [],
   "source": [
    "name_desc_txt.to_csv(\n",
    "    \"data/scraped/name_desc_nlp_ready.txt\", \n",
    "    sep='\\t',\n",
    "    index=False,\n",
    "    header=None)\n",
    "\n",
    "train.to_csv(\n",
    "    \"data/scraped/name_desc_nlp_ready_train.txt\", \n",
    "    sep='\\t',\n",
    "    index=False,\n",
    "    header=None)\n",
    "\n",
    "test.to_csv(\n",
    "    \"data/scraped/name_desc_nlp_ready_test.txt\", \n",
    "    sep='\\t',\n",
    "    index=False,\n",
    "    header=None)"
   ]
  },
  {
   "cell_type": "code",
   "execution_count": null,
   "metadata": {},
   "outputs": [],
   "source": []
  }
 ],
 "metadata": {
  "kernelspec": {
   "display_name": "Python 3",
   "language": "python",
   "name": "python3"
  },
  "language_info": {
   "codemirror_mode": {
    "name": "ipython",
    "version": 3
   },
   "file_extension": ".py",
   "mimetype": "text/x-python",
   "name": "python",
   "nbconvert_exporter": "python",
   "pygments_lexer": "ipython3",
   "version": "3.6.10"
  },
  "varInspector": {
   "cols": {
    "lenName": 16,
    "lenType": 16,
    "lenVar": 40
   },
   "kernels_config": {
    "python": {
     "delete_cmd_postfix": "",
     "delete_cmd_prefix": "del ",
     "library": "var_list.py",
     "varRefreshCmd": "print(var_dic_list())"
    },
    "r": {
     "delete_cmd_postfix": ") ",
     "delete_cmd_prefix": "rm(",
     "library": "var_list.r",
     "varRefreshCmd": "cat(var_dic_list()) "
    }
   },
   "types_to_exclude": [
    "module",
    "function",
    "builtin_function_or_method",
    "instance",
    "_Feature"
   ],
   "window_display": false
  }
 },
 "nbformat": 4,
 "nbformat_minor": 2
}
