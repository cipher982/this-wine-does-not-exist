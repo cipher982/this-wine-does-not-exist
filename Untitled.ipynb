{
 "cells": [
  {
   "cell_type": "code",
   "execution_count": 1,
   "metadata": {},
   "outputs": [],
   "source": [
    "import pandas as pd"
   ]
  },
  {
   "cell_type": "code",
   "execution_count": 2,
   "metadata": {},
   "outputs": [],
   "source": [
    "df = pd.read_csv('data/outputs/DESC_v1_2.csv', sep='|')"
   ]
  },
  {
   "cell_type": "code",
   "execution_count": 3,
   "metadata": {},
   "outputs": [
    {
     "data": {
      "text/plain": [
       "(1275, 2)"
      ]
     },
     "execution_count": 3,
     "metadata": {},
     "output_type": "execute_result"
    }
   ],
   "source": [
    "df.shape"
   ]
  },
  {
   "cell_type": "code",
   "execution_count": 4,
   "metadata": {},
   "outputs": [
    {
     "data": {
      "text/html": [
       "<div>\n",
       "<style scoped>\n",
       "    .dataframe tbody tr th:only-of-type {\n",
       "        vertical-align: middle;\n",
       "    }\n",
       "\n",
       "    .dataframe tbody tr th {\n",
       "        vertical-align: top;\n",
       "    }\n",
       "\n",
       "    .dataframe thead th {\n",
       "        text-align: right;\n",
       "    }\n",
       "</style>\n",
       "<table border=\"1\" class=\"dataframe\">\n",
       "  <thead>\n",
       "    <tr style=\"text-align: right;\">\n",
       "      <th></th>\n",
       "      <th>name</th>\n",
       "      <th>description</th>\n",
       "    </tr>\n",
       "  </thead>\n",
       "  <tbody>\n",
       "    <tr>\n",
       "      <th>0</th>\n",
       "      <td>Joseph Carr Reveliste Cinsault 2013</td>\n",
       "      <td>\\n\\nRaisage a trip back in time at the Frank F...</td>\n",
       "    </tr>\n",
       "    <tr>\n",
       "      <th>1</th>\n",
       "      <td>Carol Shelton Roche TBredi 2016</td>\n",
       "      <td>\\nAromatics of this wine transporm nine expre...</td>\n",
       "    </tr>\n",
       "    <tr>\n",
       "      <th>2</th>\n",
       "      <td>Finca Bolgheri Pinot Grigio 2018</td>\n",
       "      <td>This makes this opened scents, small whitehal...</td>\n",
       "    </tr>\n",
       "    <tr>\n",
       "      <th>3</th>\n",
       "      <td>Domaine de Cristict Chardonnay 2016</td>\n",
       "      <td>\\nDigest boasts an intensity, or gift W   This...</td>\n",
       "    </tr>\n",
       "    <tr>\n",
       "      <th>4</th>\n",
       "      <td>Domaine Dujac Fils &amp;amp; Pere Chambolle Rouge ...</td>\n",
       "      <td>On the nose, aromas of grapefruit, lime and a...</td>\n",
       "    </tr>\n",
       "  </tbody>\n",
       "</table>\n",
       "</div>"
      ],
      "text/plain": [
       "                                                name  \\\n",
       "0               Joseph Carr Reveliste Cinsault 2013    \n",
       "1                   Carol Shelton Roche TBredi 2016    \n",
       "2                  Finca Bolgheri Pinot Grigio 2018    \n",
       "3               Domaine de Cristict Chardonnay 2016    \n",
       "4  Domaine Dujac Fils &amp; Pere Chambolle Rouge ...   \n",
       "\n",
       "                                         description  \n",
       "0  \\n\\nRaisage a trip back in time at the Frank F...  \n",
       "1   \\nAromatics of this wine transporm nine expre...  \n",
       "2   This makes this opened scents, small whitehal...  \n",
       "3  \\nDigest boasts an intensity, or gift W   This...  \n",
       "4   On the nose, aromas of grapefruit, lime and a...  "
      ]
     },
     "execution_count": 4,
     "metadata": {},
     "output_type": "execute_result"
    }
   ],
   "source": [
    "df.head()"
   ]
  },
  {
   "cell_type": "code",
   "execution_count": 15,
   "metadata": {},
   "outputs": [
    {
     "name": "stdout",
     "output_type": "stream",
     "text": [
      "Hugel Riesling 2017 \n",
      "\n",
      " This wine is confirms of green apple, honeydew, white flower  Flavors of candied raspberry and blackberry - that adds wonderful color  Intensely fresh and mineral  The palate is smooth and clean pronounced  The nose offers complex notes of vanilla, black cherry, and currants  On the palate, powerful and well-balanced plums, exotic notes, as well as strawberries, currant ripened late tannins and a rich mouthfeel \n",
      "The 2013 Mount Hermon Wine Company has been a family owned and independently operated winery.\n"
     ]
    }
   ],
   "source": [
    "import random\n",
    "\n",
    "wine_ix = random.randint(0,len(df))\n",
    "print(str(df.iloc[wine_ix,:]['name']) + \"\\n\\n\" + str(df.iloc[wine_ix,:]['description']))\n",
    "\n"
   ]
  },
  {
   "cell_type": "code",
   "execution_count": null,
   "metadata": {},
   "outputs": [],
   "source": []
  }
 ],
 "metadata": {
  "kernelspec": {
   "display_name": "Python 3",
   "language": "python",
   "name": "python3"
  },
  "language_info": {
   "codemirror_mode": {
    "name": "ipython",
    "version": 3
   },
   "file_extension": ".py",
   "mimetype": "text/x-python",
   "name": "python",
   "nbconvert_exporter": "python",
   "pygments_lexer": "ipython3",
   "version": "3.6.7"
  }
 },
 "nbformat": 4,
 "nbformat_minor": 2
}
