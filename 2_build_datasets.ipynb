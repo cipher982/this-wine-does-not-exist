{
 "cells": [
  {
   "cell_type": "code",
   "execution_count": 5,
   "metadata": {},
   "outputs": [],
   "source": [
    "import pandas as pd\n",
    "import numpy as np\n",
    "import glob\n",
    "from tqdm import tqdm\n",
    "from bs4 import BeautifulSoup\n",
    "import lxml"
   ]
  },
  {
   "cell_type": "code",
   "execution_count": 6,
   "metadata": {},
   "outputs": [],
   "source": [
    "df_scraped = pd.read_pickle('data/pickles/scrape.pickle')\n",
    "\n",
    "# Read in the downloaded filenames\n",
    "wine_pages = glob.glob('data/wine_pages/wine_*', recursive=True)\n",
    "wine_pages = np.sort(wine_pages)"
   ]
  },
  {
   "cell_type": "code",
   "execution_count": 28,
   "metadata": {},
   "outputs": [
    {
     "data": {
      "text/html": [
       "<div>\n",
       "<style scoped>\n",
       "    .dataframe tbody tr th:only-of-type {\n",
       "        vertical-align: middle;\n",
       "    }\n",
       "\n",
       "    .dataframe tbody tr th {\n",
       "        vertical-align: top;\n",
       "    }\n",
       "\n",
       "    .dataframe thead th {\n",
       "        text-align: right;\n",
       "    }\n",
       "</style>\n",
       "<table border=\"1\" class=\"dataframe\">\n",
       "  <thead>\n",
       "    <tr style=\"text-align: right;\">\n",
       "      <th></th>\n",
       "      <th>name</th>\n",
       "      <th>image_path</th>\n",
       "      <th>price</th>\n",
       "      <th>url</th>\n",
       "      <th>raw_html</th>\n",
       "    </tr>\n",
       "  </thead>\n",
       "  <tbody>\n",
       "    <tr>\n",
       "      <th>0</th>\n",
       "      <td>Hall Napa Valley Cabernet Sauvignon 2013</td>\n",
       "      <td>/product/images/fl_progressive/158457.jpg</td>\n",
       "      <td>54.99</td>\n",
       "      <td>/product/Hall-Napa-Valley-Cabernet-Sauvignon-2...</td>\n",
       "      <td>&lt;div class=\"prodItem_wrap\"&gt;\\n&lt;div class=\"prodI...</td>\n",
       "    </tr>\n",
       "    <tr>\n",
       "      <th>1</th>\n",
       "      <td>Rombauer Chardonnay 2017</td>\n",
       "      <td>/product/images/fl_progressive/wpxkrgx7onirby1...</td>\n",
       "      <td>36.99</td>\n",
       "      <td>/product/Rombauer-Chardonnay-2017/500778</td>\n",
       "      <td>&lt;div class=\"prodItem_wrap\"&gt;\\n&lt;div class=\"prodI...</td>\n",
       "    </tr>\n",
       "    <tr>\n",
       "      <th>2</th>\n",
       "      <td>Silver Oak Napa Valley Cabernet Sauvignon 2014</td>\n",
       "      <td>/product/images/fl_progressive/fog0sb2avopbbq0...</td>\n",
       "      <td>119.99</td>\n",
       "      <td>/product/Silver-Oak-Napa-Valley-Cabernet-Sauvi...</td>\n",
       "      <td>&lt;div class=\"prodItem_wrap\"&gt;\\n&lt;div class=\"prodI...</td>\n",
       "    </tr>\n",
       "    <tr>\n",
       "      <th>3</th>\n",
       "      <td>Chateau Cos d'Estournel (Futures Pre-Sale) 2016</td>\n",
       "      <td>/product/images/fl_progressive/202293.jpg</td>\n",
       "      <td>219.97</td>\n",
       "      <td>/product/Chateau-Cos-dEstournel-Futures-Pre-Sa...</td>\n",
       "      <td>&lt;div class=\"prodItem_wrap\"&gt;\\n&lt;div class=\"prodI...</td>\n",
       "    </tr>\n",
       "    <tr>\n",
       "      <th>4</th>\n",
       "      <td>Silver Oak Alexander Valley Cabernet Sauvignon...</td>\n",
       "      <td>/product/images/fl_progressive/gpgmugpbf3l6is2...</td>\n",
       "      <td>74.99</td>\n",
       "      <td>/product/Silver-Oak-Alexander-Valley-Cabernet-...</td>\n",
       "      <td>&lt;div class=\"prodItem_wrap\"&gt;\\n&lt;div class=\"prodI...</td>\n",
       "    </tr>\n",
       "  </tbody>\n",
       "</table>\n",
       "</div>"
      ],
      "text/plain": [
       "                                                name  \\\n",
       "0           Hall Napa Valley Cabernet Sauvignon 2013   \n",
       "1                           Rombauer Chardonnay 2017   \n",
       "2     Silver Oak Napa Valley Cabernet Sauvignon 2014   \n",
       "3    Chateau Cos d'Estournel (Futures Pre-Sale) 2016   \n",
       "4  Silver Oak Alexander Valley Cabernet Sauvignon...   \n",
       "\n",
       "                                          image_path   price  \\\n",
       "0          /product/images/fl_progressive/158457.jpg   54.99   \n",
       "1  /product/images/fl_progressive/wpxkrgx7onirby1...   36.99   \n",
       "2  /product/images/fl_progressive/fog0sb2avopbbq0...  119.99   \n",
       "3          /product/images/fl_progressive/202293.jpg  219.97   \n",
       "4  /product/images/fl_progressive/gpgmugpbf3l6is2...   74.99   \n",
       "\n",
       "                                                 url  \\\n",
       "0  /product/Hall-Napa-Valley-Cabernet-Sauvignon-2...   \n",
       "1           /product/Rombauer-Chardonnay-2017/500778   \n",
       "2  /product/Silver-Oak-Napa-Valley-Cabernet-Sauvi...   \n",
       "3  /product/Chateau-Cos-dEstournel-Futures-Pre-Sa...   \n",
       "4  /product/Silver-Oak-Alexander-Valley-Cabernet-...   \n",
       "\n",
       "                                            raw_html  \n",
       "0  <div class=\"prodItem_wrap\">\\n<div class=\"prodI...  \n",
       "1  <div class=\"prodItem_wrap\">\\n<div class=\"prodI...  \n",
       "2  <div class=\"prodItem_wrap\">\\n<div class=\"prodI...  \n",
       "3  <div class=\"prodItem_wrap\">\\n<div class=\"prodI...  \n",
       "4  <div class=\"prodItem_wrap\">\\n<div class=\"prodI...  "
      ]
     },
     "execution_count": 28,
     "metadata": {},
     "output_type": "execute_result"
    }
   ],
   "source": [
    "df_scraped.head()"
   ]
  },
  {
   "cell_type": "code",
   "execution_count": null,
   "metadata": {},
   "outputs": [],
   "source": [
    "# Read, decode, and save wine descriptions & names\n",
    "names = []\n",
    "descriptions = []\n",
    "for page in tqdm(wine_pages):\n",
    "    #print(page)\n",
    "    with open(page, \"rb\") as f:\n",
    "        #wine = BeautifulSoup(f.read(), parse_only=)\n",
    "        wine = f.read().decode('utf-8')\n",
    "    try:  \n",
    "        names.append(wine.split('><title>')[1].split('|')[0])\n",
    "    except IndexError:\n",
    "        continue\n",
    "    try:\n",
    "        descriptions.append(wine.split('<div class=\"viewMoreModule_text\"><p>')[1].split('<')[0])\n",
    "    except IndexError:\n",
    "        descriptions.append(wine.split('<div class=\"viewMoreModule_text\">')[1].split('<')[0])\n",
    "        \n",
    "pd.to_pickle((names,descriptions), path='data/descriptions.pickle')"
   ]
  },
  {
   "cell_type": "code",
   "execution_count": 52,
   "metadata": {},
   "outputs": [
    {
     "name": "stderr",
     "output_type": "stream",
     "text": [
      "100%|██████████████████████████████████████████████████████████████████████████████████████████████████████| 15549/15549 [00:18<00:00, 855.01it/s]\n"
     ]
    }
   ],
   "source": [
    "# Extract Name, Description, and Price information from data\n",
    "# Some of this is redundant, but it works \n",
    "counter = 0\n",
    "list1 = []\n",
    "list2 = []\n",
    "list3 = []\n",
    "for name in tqdm(descriptions[0]):\n",
    "    price = df_scraped[df_scraped['name'] == name.strip()]['price'].values\n",
    "    desc = descriptions[1][counter]\n",
    "    list1.append(name.strip())\n",
    "    list2.append(price)\n",
    "    list3.append(desc)\n",
    "    counter += 1\n",
    "    \n",
    "pd.DataFrame({'name'        : list1,\n",
    "              'price'       : list2,\n",
    "              'description' : list3})\\\n",
    "    .to_csv('data/outputs/name_price_desc.csv', index=False, sep='|')"
   ]
  }
 ],
 "metadata": {
  "kernelspec": {
   "display_name": "Python 3",
   "language": "python",
   "name": "python3"
  },
  "language_info": {
   "codemirror_mode": {
    "name": "ipython",
    "version": 3
   },
   "file_extension": ".py",
   "mimetype": "text/x-python",
   "name": "python",
   "nbconvert_exporter": "python",
   "pygments_lexer": "ipython3",
   "version": "3.6.7"
  }
 },
 "nbformat": 4,
 "nbformat_minor": 2
}
