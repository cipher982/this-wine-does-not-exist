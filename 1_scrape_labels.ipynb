{
 "cells": [
  {
   "cell_type": "code",
   "execution_count": 1,
   "metadata": {
    "ExecuteTime": {
     "end_time": "2021-02-20T23:20:50.302461Z",
     "start_time": "2021-02-20T23:20:49.757146Z"
    }
   },
   "outputs": [],
   "source": [
    "import urllib.request\n",
    "import pandas as pd\n",
    "from tqdm import tqdm\n",
    "from time import sleep"
   ]
  },
  {
   "cell_type": "code",
   "execution_count": 2,
   "metadata": {
    "ExecuteTime": {
     "end_time": "2021-02-20T23:20:50.645461Z",
     "start_time": "2021-02-20T23:20:50.333463Z"
    }
   },
   "outputs": [],
   "source": [
    "wine_df = pd.read_pickle('data/best_wine_df_ever.pickle.gzip', compression='gzip')"
   ]
  },
  {
   "cell_type": "code",
   "execution_count": 3,
   "metadata": {
    "ExecuteTime": {
     "end_time": "2021-02-20T23:20:50.692461Z",
     "start_time": "2021-02-20T23:20:50.677462Z"
    }
   },
   "outputs": [
    {
     "data": {
      "text/html": [
       "<div>\n",
       "<style scoped>\n",
       "    .dataframe tbody tr th:only-of-type {\n",
       "        vertical-align: middle;\n",
       "    }\n",
       "\n",
       "    .dataframe tbody tr th {\n",
       "        vertical-align: top;\n",
       "    }\n",
       "\n",
       "    .dataframe thead th {\n",
       "        text-align: right;\n",
       "    }\n",
       "</style>\n",
       "<table border=\"1\" class=\"dataframe\">\n",
       "  <thead>\n",
       "    <tr style=\"text-align: right;\">\n",
       "      <th></th>\n",
       "      <th>name</th>\n",
       "      <th>description</th>\n",
       "      <th>price</th>\n",
       "      <th>category_1</th>\n",
       "      <th>category_2</th>\n",
       "      <th>origin</th>\n",
       "      <th>wine_size_value</th>\n",
       "      <th>wine_size_units</th>\n",
       "      <th>wine_abv</th>\n",
       "    </tr>\n",
       "  </thead>\n",
       "  <tbody>\n",
       "    <tr>\n",
       "      <th>0</th>\n",
       "      <td>1000 Stories Bourbon Barrel Aged Batch Blue Ca...</td>\n",
       "      <td>This is a very special, limited release of 100...</td>\n",
       "      <td>18.99</td>\n",
       "      <td>Red Wine</td>\n",
       "      <td>Carignan</td>\n",
       "      <td>from Mendocino, California</td>\n",
       "      <td>750</td>\n",
       "      <td>ML</td>\n",
       "      <td>14.7</td>\n",
       "    </tr>\n",
       "    <tr>\n",
       "      <th>0</th>\n",
       "      <td>1000 Stories Bourbon Barrel Aged Chardonnay 2018</td>\n",
       "      <td>The 2018 Chardonnay reflects the classic Calif...</td>\n",
       "      <td>17.99</td>\n",
       "      <td>White Wine</td>\n",
       "      <td>Chardonnay</td>\n",
       "      <td>from California</td>\n",
       "      <td>750</td>\n",
       "      <td>ML</td>\n",
       "      <td>14</td>\n",
       "    </tr>\n",
       "    <tr>\n",
       "      <th>0</th>\n",
       "      <td>1000 Stories Bourbon Barrel Aged Gold Rush Red...</td>\n",
       "      <td>The California Gold Rush was a period of coura...</td>\n",
       "      <td>17.99</td>\n",
       "      <td>Red Wine</td>\n",
       "      <td>Other Red Blends</td>\n",
       "      <td>from California</td>\n",
       "      <td>750</td>\n",
       "      <td>ML</td>\n",
       "      <td>14.9</td>\n",
       "    </tr>\n",
       "  </tbody>\n",
       "</table>\n",
       "</div>"
      ],
      "text/plain": [
       "                                                name  \\\n",
       "0  1000 Stories Bourbon Barrel Aged Batch Blue Ca...   \n",
       "0   1000 Stories Bourbon Barrel Aged Chardonnay 2018   \n",
       "0  1000 Stories Bourbon Barrel Aged Gold Rush Red...   \n",
       "\n",
       "                                         description  price  category_1  \\\n",
       "0  This is a very special, limited release of 100...  18.99    Red Wine   \n",
       "0  The 2018 Chardonnay reflects the classic Calif...  17.99  White Wine   \n",
       "0  The California Gold Rush was a period of coura...  17.99    Red Wine   \n",
       "\n",
       "         category_2                       origin wine_size_value  \\\n",
       "0          Carignan   from Mendocino, California             750   \n",
       "0        Chardonnay              from California             750   \n",
       "0  Other Red Blends              from California             750   \n",
       "\n",
       "  wine_size_units wine_abv  \n",
       "0              ML     14.7  \n",
       "0              ML       14  \n",
       "0              ML     14.9  "
      ]
     },
     "execution_count": 3,
     "metadata": {},
     "output_type": "execute_result"
    }
   ],
   "source": [
    "wine_df.head(3)"
   ]
  },
  {
   "cell_type": "code",
   "execution_count": 4,
   "metadata": {
    "ExecuteTime": {
     "end_time": "2021-02-20T23:21:06.654523Z",
     "start_time": "2021-02-20T23:21:04.694524Z"
    }
   },
   "outputs": [],
   "source": [
    "raw_df = pd.read_pickle('data/scraped/scraped_with_decs.pickle.gzip', compression='gzip')\n"
   ]
  },
  {
   "cell_type": "code",
   "execution_count": 5,
   "metadata": {
    "ExecuteTime": {
     "end_time": "2021-02-20T23:21:06.717522Z",
     "start_time": "2021-02-20T23:21:06.688530Z"
    }
   },
   "outputs": [
    {
     "data": {
      "text/html": [
       "<div>\n",
       "<style scoped>\n",
       "    .dataframe tbody tr th:only-of-type {\n",
       "        vertical-align: middle;\n",
       "    }\n",
       "\n",
       "    .dataframe tbody tr th {\n",
       "        vertical-align: top;\n",
       "    }\n",
       "\n",
       "    .dataframe thead th {\n",
       "        text-align: right;\n",
       "    }\n",
       "</style>\n",
       "<table border=\"1\" class=\"dataframe\">\n",
       "  <thead>\n",
       "    <tr style=\"text-align: right;\">\n",
       "      <th></th>\n",
       "      <th>name</th>\n",
       "      <th>image_path</th>\n",
       "      <th>price</th>\n",
       "      <th>url</th>\n",
       "      <th>raw_html</th>\n",
       "      <th>URL_name</th>\n",
       "      <th>description</th>\n",
       "    </tr>\n",
       "  </thead>\n",
       "  <tbody>\n",
       "    <tr>\n",
       "      <th>0</th>\n",
       "      <td>Dom Perignon Lenny Kravitz Limited Edition wit...</td>\n",
       "      <td>/product/images/fl_progressive/lmgmud1xsenlouw...</td>\n",
       "      <td>199.97</td>\n",
       "      <td>/product/Dom-Perignon-Lenny-Kravitz-Limited-Ed...</td>\n",
       "      <td>&lt;div class=\"prodItem_wrap\"&gt;\\n&lt;div class=\"prodI...</td>\n",
       "      <td>/product/Dom-Perignon-Lenny-Kravitz-Limited-Ed...</td>\n",
       "      <td>Dom Pérignon Vintage 2008 has been distinguish...</td>\n",
       "    </tr>\n",
       "    <tr>\n",
       "      <th>1</th>\n",
       "      <td>Louis Roederer Cristal Brut with Two Flutes an...</td>\n",
       "      <td>/product/images/fl_progressive/iqec7e0nf6mzyof...</td>\n",
       "      <td>329.99</td>\n",
       "      <td>/product/Louis-Roederer-Cristal-Brut-with-Two-...</td>\n",
       "      <td>&lt;div class=\"prodItem_wrap\"&gt;\\n&lt;div class=\"prodI...</td>\n",
       "      <td>/product/Louis-Roederer-Cristal-Brut-with-Two-...</td>\n",
       "      <td>Gift pack containing one bottle of 2008 Louis ...</td>\n",
       "    </tr>\n",
       "    <tr>\n",
       "      <th>2</th>\n",
       "      <td>Laurent-Perrier Cuvee Rose</td>\n",
       "      <td>/product/images/fl_progressive/10521.jpg</td>\n",
       "      <td>79.99</td>\n",
       "      <td>/product/Laurent-Perrier-Cuvee-Rose/10521</td>\n",
       "      <td>&lt;div class=\"prodItem_wrap\"&gt;\\n&lt;div class=\"prodI...</td>\n",
       "      <td>/product/Laurent-Perrier-Cuvee-Rose/10521</td>\n",
       "      <td>The Cuvée Rosé from Laurent-Perrier is the mos...</td>\n",
       "    </tr>\n",
       "    <tr>\n",
       "      <th>3</th>\n",
       "      <td>Piper-Heidsieck Cuvee Brut in Travel Case with...</td>\n",
       "      <td>/product/images/fl_progressive/aqi87aqobd3zc56...</td>\n",
       "      <td>79.99</td>\n",
       "      <td>/product/Piper-Heidsieck-Cuvee-Brut-in-Travel-...</td>\n",
       "      <td>&lt;div class=\"prodItem_wrap\"&gt;\\n&lt;div class=\"prodI...</td>\n",
       "      <td>/product/Piper-Heidsieck-Cuvee-Brut-in-Travel-...</td>\n",
       "      <td>#95 Wine Spectator Top 100 of 2019The Brut rep...</td>\n",
       "    </tr>\n",
       "    <tr>\n",
       "      <th>4</th>\n",
       "      <td>Clarendon Hills Astralis Syrah 2011</td>\n",
       "      <td>/product/images/fl_progressive/qajrqr4d6ttn2pf...</td>\n",
       "      <td>149.99</td>\n",
       "      <td>/product/Clarendon-Hills-Astralis-Syrah-2011/5...</td>\n",
       "      <td>&lt;div class=\"prodItem_wrap\"&gt;\\n&lt;div class=\"prodI...</td>\n",
       "      <td>/product/Clarendon-Hills-Astralis-Syrah-2011/5...</td>\n",
       "      <td>The pride of our portfolio, Clarendon Hills As...</td>\n",
       "    </tr>\n",
       "  </tbody>\n",
       "</table>\n",
       "</div>"
      ],
      "text/plain": [
       "                                                name  \\\n",
       "0  Dom Perignon Lenny Kravitz Limited Edition wit...   \n",
       "1  Louis Roederer Cristal Brut with Two Flutes an...   \n",
       "2                         Laurent-Perrier Cuvee Rose   \n",
       "3  Piper-Heidsieck Cuvee Brut in Travel Case with...   \n",
       "4                Clarendon Hills Astralis Syrah 2011   \n",
       "\n",
       "                                          image_path   price  \\\n",
       "0  /product/images/fl_progressive/lmgmud1xsenlouw...  199.97   \n",
       "1  /product/images/fl_progressive/iqec7e0nf6mzyof...  329.99   \n",
       "2           /product/images/fl_progressive/10521.jpg   79.99   \n",
       "3  /product/images/fl_progressive/aqi87aqobd3zc56...   79.99   \n",
       "4  /product/images/fl_progressive/qajrqr4d6ttn2pf...  149.99   \n",
       "\n",
       "                                                 url  \\\n",
       "0  /product/Dom-Perignon-Lenny-Kravitz-Limited-Ed...   \n",
       "1  /product/Louis-Roederer-Cristal-Brut-with-Two-...   \n",
       "2          /product/Laurent-Perrier-Cuvee-Rose/10521   \n",
       "3  /product/Piper-Heidsieck-Cuvee-Brut-in-Travel-...   \n",
       "4  /product/Clarendon-Hills-Astralis-Syrah-2011/5...   \n",
       "\n",
       "                                            raw_html  \\\n",
       "0  <div class=\"prodItem_wrap\">\\n<div class=\"prodI...   \n",
       "1  <div class=\"prodItem_wrap\">\\n<div class=\"prodI...   \n",
       "2  <div class=\"prodItem_wrap\">\\n<div class=\"prodI...   \n",
       "3  <div class=\"prodItem_wrap\">\\n<div class=\"prodI...   \n",
       "4  <div class=\"prodItem_wrap\">\\n<div class=\"prodI...   \n",
       "\n",
       "                                            URL_name  \\\n",
       "0  /product/Dom-Perignon-Lenny-Kravitz-Limited-Ed...   \n",
       "1  /product/Louis-Roederer-Cristal-Brut-with-Two-...   \n",
       "2          /product/Laurent-Perrier-Cuvee-Rose/10521   \n",
       "3  /product/Piper-Heidsieck-Cuvee-Brut-in-Travel-...   \n",
       "4  /product/Clarendon-Hills-Astralis-Syrah-2011/5...   \n",
       "\n",
       "                                         description  \n",
       "0  Dom Pérignon Vintage 2008 has been distinguish...  \n",
       "1  Gift pack containing one bottle of 2008 Louis ...  \n",
       "2  The Cuvée Rosé from Laurent-Perrier is the mos...  \n",
       "3  #95 Wine Spectator Top 100 of 2019The Brut rep...  \n",
       "4  The pride of our portfolio, Clarendon Hills As...  "
      ]
     },
     "execution_count": 5,
     "metadata": {},
     "output_type": "execute_result"
    }
   ],
   "source": [
    "raw_df.head(5)"
   ]
  },
  {
   "cell_type": "code",
   "execution_count": 6,
   "metadata": {
    "ExecuteTime": {
     "end_time": "2021-02-20T23:21:08.504112Z",
     "start_time": "2021-02-20T23:21:08.498114Z"
    }
   },
   "outputs": [
    {
     "data": {
      "text/plain": [
       "(125787, 7)"
      ]
     },
     "execution_count": 6,
     "metadata": {},
     "output_type": "execute_result"
    }
   ],
   "source": [
    "raw_df.shape"
   ]
  },
  {
   "cell_type": "code",
   "execution_count": 7,
   "metadata": {
    "ExecuteTime": {
     "end_time": "2021-02-20T23:21:32.878255Z",
     "start_time": "2021-02-20T23:21:32.863255Z"
    }
   },
   "outputs": [
    {
     "data": {
      "text/html": [
       "<div>\n",
       "<style scoped>\n",
       "    .dataframe tbody tr th:only-of-type {\n",
       "        vertical-align: middle;\n",
       "    }\n",
       "\n",
       "    .dataframe tbody tr th {\n",
       "        vertical-align: top;\n",
       "    }\n",
       "\n",
       "    .dataframe thead th {\n",
       "        text-align: right;\n",
       "    }\n",
       "</style>\n",
       "<table border=\"1\" class=\"dataframe\">\n",
       "  <thead>\n",
       "    <tr style=\"text-align: right;\">\n",
       "      <th></th>\n",
       "      <th>name</th>\n",
       "      <th>image_path</th>\n",
       "      <th>price</th>\n",
       "      <th>url</th>\n",
       "      <th>raw_html</th>\n",
       "      <th>URL_name</th>\n",
       "      <th>description</th>\n",
       "    </tr>\n",
       "  </thead>\n",
       "  <tbody>\n",
       "    <tr>\n",
       "      <th>125782</th>\n",
       "      <td>Whitehall Lane Tre Leoni 2014</td>\n",
       "      <td>/product/images/fl_progressive/163997.jpg</td>\n",
       "      <td>32.99</td>\n",
       "      <td>/product/Whitehall-Lane-Tre-Leoni-2014/163997</td>\n",
       "      <td>&lt;div class=\"prodItem_wrap\"&gt;\\n&lt;div class=\"prodI...</td>\n",
       "      <td>/product/Whitehall-Lane-Tre-Leoni-2014/163997</td>\n",
       "      <td>This ferociously fun blend has depth, balance ...</td>\n",
       "    </tr>\n",
       "    <tr>\n",
       "      <th>125783</th>\n",
       "      <td>Terrabianca Campaccio 2004</td>\n",
       "      <td>/product/images/fl_progressive/92799.jpg</td>\n",
       "      <td>39.99</td>\n",
       "      <td>/product/Terrabianca-Campaccio-2004/92799</td>\n",
       "      <td>&lt;div class=\"prodItem_wrap\"&gt;\\n&lt;div class=\"prodI...</td>\n",
       "      <td>/product/Terrabianca-Campaccio-2004/92799</td>\n",
       "      <td>\"The 2004 Campaccio (70% Sangiovese, 30% Caber...</td>\n",
       "    </tr>\n",
       "    <tr>\n",
       "      <th>125784</th>\n",
       "      <td>Jean-Louis Chave Hermitage (1.5 Liter Magnum) ...</td>\n",
       "      <td>/product/images/fl_progressive/154317.jpg</td>\n",
       "      <td>899.97</td>\n",
       "      <td>/product/Jean-Louis-Chave-Hermitage-15-Liter-M...</td>\n",
       "      <td>&lt;div class=\"prodItem_wrap\"&gt;\\n&lt;div class=\"prodI...</td>\n",
       "      <td>/product/Jean-Louis-Chave-Hermitage-15-Liter-M...</td>\n",
       "      <td></td>\n",
       "    </tr>\n",
       "    <tr>\n",
       "      <th>125785</th>\n",
       "      <td>Piper-Heidsieck Cuvee Brut (3.0 Liter Bottle -...</td>\n",
       "      <td>/product/images/fl_progressive/fwu9dzrdyyfpxvb...</td>\n",
       "      <td>399.97</td>\n",
       "      <td>/product/Piper-Heidsieck-Cuvee-Brut-30-Liter-B...</td>\n",
       "      <td>&lt;div class=\"prodItem_wrap\"&gt;\\n&lt;div class=\"prodI...</td>\n",
       "      <td>/product/Piper-Heidsieck-Cuvee-Brut-30-Liter-B...</td>\n",
       "      <td>#95 Wine Spectator Top 100 of 2019The Brut NV ...</td>\n",
       "    </tr>\n",
       "    <tr>\n",
       "      <th>125786</th>\n",
       "      <td>Turley Estate Cabernet Sauvignon 2012</td>\n",
       "      <td>/product/images/fl_progressive/155880.jpg</td>\n",
       "      <td>64.99</td>\n",
       "      <td>/product/Turley-Estate-Cabernet-Sauvignon-2012...</td>\n",
       "      <td>&lt;div class=\"prodItem_wrap\"&gt;\\n&lt;div class=\"prodI...</td>\n",
       "      <td>/product/Turley-Estate-Cabernet-Sauvignon-2012...</td>\n",
       "      <td>Certified organic, Napa Valley single vineyard...</td>\n",
       "    </tr>\n",
       "  </tbody>\n",
       "</table>\n",
       "</div>"
      ],
      "text/plain": [
       "                                                     name  \\\n",
       "125782                      Whitehall Lane Tre Leoni 2014   \n",
       "125783                         Terrabianca Campaccio 2004   \n",
       "125784  Jean-Louis Chave Hermitage (1.5 Liter Magnum) ...   \n",
       "125785  Piper-Heidsieck Cuvee Brut (3.0 Liter Bottle -...   \n",
       "125786              Turley Estate Cabernet Sauvignon 2012   \n",
       "\n",
       "                                               image_path   price  \\\n",
       "125782          /product/images/fl_progressive/163997.jpg   32.99   \n",
       "125783           /product/images/fl_progressive/92799.jpg   39.99   \n",
       "125784          /product/images/fl_progressive/154317.jpg  899.97   \n",
       "125785  /product/images/fl_progressive/fwu9dzrdyyfpxvb...  399.97   \n",
       "125786          /product/images/fl_progressive/155880.jpg   64.99   \n",
       "\n",
       "                                                      url  \\\n",
       "125782      /product/Whitehall-Lane-Tre-Leoni-2014/163997   \n",
       "125783          /product/Terrabianca-Campaccio-2004/92799   \n",
       "125784  /product/Jean-Louis-Chave-Hermitage-15-Liter-M...   \n",
       "125785  /product/Piper-Heidsieck-Cuvee-Brut-30-Liter-B...   \n",
       "125786  /product/Turley-Estate-Cabernet-Sauvignon-2012...   \n",
       "\n",
       "                                                 raw_html  \\\n",
       "125782  <div class=\"prodItem_wrap\">\\n<div class=\"prodI...   \n",
       "125783  <div class=\"prodItem_wrap\">\\n<div class=\"prodI...   \n",
       "125784  <div class=\"prodItem_wrap\">\\n<div class=\"prodI...   \n",
       "125785  <div class=\"prodItem_wrap\">\\n<div class=\"prodI...   \n",
       "125786  <div class=\"prodItem_wrap\">\\n<div class=\"prodI...   \n",
       "\n",
       "                                                 URL_name  \\\n",
       "125782      /product/Whitehall-Lane-Tre-Leoni-2014/163997   \n",
       "125783          /product/Terrabianca-Campaccio-2004/92799   \n",
       "125784  /product/Jean-Louis-Chave-Hermitage-15-Liter-M...   \n",
       "125785  /product/Piper-Heidsieck-Cuvee-Brut-30-Liter-B...   \n",
       "125786  /product/Turley-Estate-Cabernet-Sauvignon-2012...   \n",
       "\n",
       "                                              description  \n",
       "125782  This ferociously fun blend has depth, balance ...  \n",
       "125783  \"The 2004 Campaccio (70% Sangiovese, 30% Caber...  \n",
       "125784                                                     \n",
       "125785  #95 Wine Spectator Top 100 of 2019The Brut NV ...  \n",
       "125786  Certified organic, Napa Valley single vineyard...  "
      ]
     },
     "execution_count": 7,
     "metadata": {},
     "output_type": "execute_result"
    }
   ],
   "source": [
    "raw_df.tail()"
   ]
  },
  {
   "cell_type": "code",
   "execution_count": 30,
   "metadata": {},
   "outputs": [
    {
     "name": "stderr",
     "output_type": "stream",
     "text": [
      "100%|██████████| 125787/125787 [46:39:55<00:00,  1.34s/it]   \n"
     ]
    }
   ],
   "source": [
    "label_dir = '/mnt/d/data/wine/scraped_labels/'\n",
    "\n",
    "for ix, wine in tqdm(raw_df.iterrows(), total=len(raw_df)):\n",
    "    #print(wine['name'])\n",
    "    #rint(wine['image_path'])\n",
    "    sleep(1)\n",
    "    try:\n",
    "        urllib.request.urlretrieve(f\"http://www.wine.com/{wine['image_path']}\", label_dir+f\"label_{ix}.jpg\")\n",
    "    except:\n",
    "        pass\n"
   ]
  },
  {
   "cell_type": "code",
   "execution_count": null,
   "metadata": {},
   "outputs": [],
   "source": []
  }
 ],
 "metadata": {
  "kernelspec": {
   "display_name": "Python 3",
   "language": "python",
   "name": "python3"
  },
  "language_info": {
   "codemirror_mode": {
    "name": "ipython",
    "version": 3
   },
   "file_extension": ".py",
   "mimetype": "text/x-python",
   "name": "python",
   "nbconvert_exporter": "python",
   "pygments_lexer": "ipython3",
   "version": "3.6.10"
  },
  "varInspector": {
   "cols": {
    "lenName": 16,
    "lenType": 16,
    "lenVar": 40
   },
   "kernels_config": {
    "python": {
     "delete_cmd_postfix": "",
     "delete_cmd_prefix": "del ",
     "library": "var_list.py",
     "varRefreshCmd": "print(var_dic_list())"
    },
    "r": {
     "delete_cmd_postfix": ") ",
     "delete_cmd_prefix": "rm(",
     "library": "var_list.r",
     "varRefreshCmd": "cat(var_dic_list()) "
    }
   },
   "types_to_exclude": [
    "module",
    "function",
    "builtin_function_or_method",
    "instance",
    "_Feature"
   ],
   "window_display": false
  }
 },
 "nbformat": 4,
 "nbformat_minor": 4
}
