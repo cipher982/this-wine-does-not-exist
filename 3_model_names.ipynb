{
 "cells": [
  {
   "cell_type": "code",
   "execution_count": 1,
   "metadata": {},
   "outputs": [
    {
     "name": "stdout",
     "output_type": "stream",
     "text": [
      "1.13.1\n"
     ]
    }
   ],
   "source": [
    "import numpy as np\n",
    "import pandas as pd\n",
    "import six\n",
    "import tensorflow as tf\n",
    "import time\n",
    "import os\n",
    "import datetime as dt\n",
    "\n",
    "from tqdm import tqdm\n",
    "from tensorflow import keras\n",
    "\n",
    "import random\n",
    "import string\n",
    "\n",
    "#from keras.callbacks import EarlyStopping, ModelCheckpoint\n",
    "#from keras.models import load_model\n",
    "\n",
    "%matplotlib inline\n",
    "\n",
    "SCRAPED_WINES_INPUT_PATH = 'data/scraped/names_prices_descriptions.pickle'\n",
    "MODEL_WEIGHTS_PATH = 'data/models_weights/model_weights_name.h5'\n",
    "\n",
    "print(tf.__version__)\n",
    "#!pip install tensorflow-gpu==1.13.1"
   ]
  },
  {
   "cell_type": "code",
   "execution_count": 2,
   "metadata": {},
   "outputs": [],
   "source": [
    "#tf.logging.set_verbosity(tf.logging.INFO)\n",
    "\n",
    "def transform(txt, pad_to=None):\n",
    "    # drop any non-ascii characters\n",
    "    output = np.asarray([ord(c) for c in txt if ord(c) < 255], dtype=np.int32)\n",
    "    if pad_to is not None:\n",
    "        output = output[:pad_to]\n",
    "        output = np.concatenate([\n",
    "            np.zeros([pad_to - len(txt)], dtype=np.int32),\n",
    "            output\n",
    "        ])\n",
    "    return output\n",
    "\n",
    "def training_generator(seq_len=100, batch_size=1024):\n",
    "    \"\"\"A generator yields (source, target) arrays for training.\"\"\"\n",
    "    wine_data = pd.read_pickle(SCRAPED_WINES_INPUT_PATH)\n",
    "    wine_data = wine_data['name'] # Take just the names for modeling\n",
    "    txt = '\\n'.join(wine_data)\n",
    "\n",
    "    #tf.logging.info('Input text [%d] %s', len(txt), txt[:50])\n",
    "    source = transform(txt)\n",
    "    while True:\n",
    "        offsets = np.random.randint(0, len(source) - seq_len, batch_size)\n",
    "\n",
    "        # Our model uses sparse crossentropy loss, but Keras requires labels\n",
    "        # to have the same rank as the input logits.  We add an empty final\n",
    "        # dimension to account for this.\n",
    "        yield (\n",
    "            np.stack([source[idx:idx + seq_len] for idx in offsets]),\n",
    "            np.expand_dims(\n",
    "                np.stack([source[idx + 1:idx + seq_len + 1] for idx in offsets]), \n",
    "                -1),\n",
    "        )\n",
    "\n",
    "#six.next(training_generator(seq_len=10, batch_size=1))"
   ]
  },
  {
   "cell_type": "markdown",
   "metadata": {},
   "source": [
    "# Define model and train it on dataset"
   ]
  },
  {
   "cell_type": "code",
   "execution_count": 3,
   "metadata": {},
   "outputs": [],
   "source": [
    "def lstm_model2():\n",
    "    model = keras.Sequential()\n",
    "    model.add(keras.layers.Embedding(input_dim=256, output_dim=32))\n",
    "    model.add(keras.layers.Dense(16, activation='relu'))\n",
    "    model.add(leras.layers.Dense(8, activation='relu'))\n",
    "    #model.add"
   ]
  },
  {
   "cell_type": "code",
   "execution_count": null,
   "metadata": {},
   "outputs": [],
   "source": []
  },
  {
   "cell_type": "code",
   "execution_count": 4,
   "metadata": {},
   "outputs": [
    {
     "name": "stdout",
     "output_type": "stream",
     "text": [
      "WARNING:tensorflow:From C:\\Users\\david\\Documents\\.venv\\lib\\site-packages\\tensorflow\\python\\ops\\resource_variable_ops.py:435: colocate_with (from tensorflow.python.framework.ops) is deprecated and will be removed in a future version.\n",
      "Instructions for updating:\n",
      "Colocations handled automatically by placer.\n",
      "_________________________________________________________________\n",
      "Layer (type)                 Output Shape              Param #   \n",
      "=================================================================\n",
      "seed (InputLayer)            (1024, 100)               0         \n",
      "_________________________________________________________________\n",
      "embedding (Embedding)        (1024, 100, 128)          32768     \n",
      "_________________________________________________________________\n",
      "lstm (LSTM)                  (1024, 100, 128)          131584    \n",
      "_________________________________________________________________\n",
      "lstm_1 (LSTM)                (1024, 100, 128)          131584    \n",
      "_________________________________________________________________\n",
      "time_distributed (TimeDistri (1024, 100, 256)          33024     \n",
      "=================================================================\n",
      "Total params: 328,960\n",
      "Trainable params: 328,960\n",
      "Non-trainable params: 0\n",
      "_________________________________________________________________\n",
      "None\n",
      "Epoch 1/25\n",
      " 99/100 [============================>.] - ETA: 0s - loss: 3.5803 - sparse_categorical_accuracy: 0.1199\n",
      "Epoch 00001: sparse_categorical_accuracy improved from -inf to 0.11986, saving model to model_names_chkpt.h5\n",
      "100/100 [==============================] - 32s 315ms/step - loss: 3.5790 - sparse_categorical_accuracy: 0.1199\n",
      "Epoch 2/25\n",
      " 99/100 [============================>.] - ETA: 0s - loss: 3.1294 - sparse_categorical_accuracy: 0.1726\n",
      "Epoch 00002: sparse_categorical_accuracy improved from 0.11986 to 0.17326, saving model to model_names_chkpt.h5\n",
      "100/100 [==============================] - 30s 300ms/step - loss: 3.1254 - sparse_categorical_accuracy: 0.1733\n",
      "Epoch 3/25\n",
      " 99/100 [============================>.] - ETA: 0s - loss: 2.5787 - sparse_categorical_accuracy: 0.2647\n",
      "Epoch 00003: sparse_categorical_accuracy improved from 0.17326 to 0.26490, saving model to model_names_chkpt.h5\n",
      "100/100 [==============================] - 30s 298ms/step - loss: 2.5775 - sparse_categorical_accuracy: 0.2649\n",
      "Epoch 4/25\n",
      " 99/100 [============================>.] - ETA: 0s - loss: 2.3986 - sparse_categorical_accuracy: 0.3021\n",
      "Epoch 00004: sparse_categorical_accuracy improved from 0.26490 to 0.30211, saving model to model_names_chkpt.h5\n",
      "100/100 [==============================] - 30s 303ms/step - loss: 2.3981 - sparse_categorical_accuracy: 0.3021\n",
      "Epoch 5/25\n",
      " 99/100 [============================>.] - ETA: 0s - loss: 2.2991 - sparse_categorical_accuracy: 0.3268\n",
      "Epoch 00005: sparse_categorical_accuracy improved from 0.30211 to 0.32687, saving model to model_names_chkpt.h5\n",
      "100/100 [==============================] - 30s 301ms/step - loss: 2.2989 - sparse_categorical_accuracy: 0.3269\n",
      "Epoch 6/25\n",
      " 99/100 [============================>.] - ETA: 0s - loss: 2.2200 - sparse_categorical_accuracy: 0.3483\n",
      "Epoch 00006: sparse_categorical_accuracy improved from 0.32687 to 0.34837, saving model to model_names_chkpt.h5\n",
      "100/100 [==============================] - 30s 300ms/step - loss: 2.2197 - sparse_categorical_accuracy: 0.3484\n",
      "Epoch 7/25\n",
      " 99/100 [============================>.] - ETA: 0s - loss: 2.1418 - sparse_categorical_accuracy: 0.3753\n",
      "Epoch 00007: sparse_categorical_accuracy improved from 0.34837 to 0.37545, saving model to model_names_chkpt.h5\n",
      "100/100 [==============================] - 30s 301ms/step - loss: 2.1414 - sparse_categorical_accuracy: 0.3755\n",
      "Epoch 8/25\n",
      " 99/100 [============================>.] - ETA: 0s - loss: 2.0608 - sparse_categorical_accuracy: 0.4029\n",
      "Epoch 00008: sparse_categorical_accuracy improved from 0.37545 to 0.40308, saving model to model_names_chkpt.h5\n",
      "100/100 [==============================] - 30s 305ms/step - loss: 2.0604 - sparse_categorical_accuracy: 0.4031\n",
      "Epoch 9/25\n",
      " 99/100 [============================>.] - ETA: 0s - loss: 1.9780 - sparse_categorical_accuracy: 0.4311\n",
      "Epoch 00009: sparse_categorical_accuracy improved from 0.40308 to 0.43121, saving model to model_names_chkpt.h5\n",
      "100/100 [==============================] - 31s 305ms/step - loss: 1.9776 - sparse_categorical_accuracy: 0.4312\n",
      "Epoch 10/25\n",
      " 99/100 [============================>.] - ETA: 0s - loss: 1.8997 - sparse_categorical_accuracy: 0.4590\n",
      "Epoch 00010: sparse_categorical_accuracy improved from 0.43121 to 0.45908, saving model to model_names_chkpt.h5\n",
      "100/100 [==============================] - 30s 305ms/step - loss: 1.8993 - sparse_categorical_accuracy: 0.4591\n",
      "Epoch 11/25\n",
      " 99/100 [============================>.] - ETA: 0s - loss: 1.8292 - sparse_categorical_accuracy: 0.4791\n",
      "Epoch 00011: sparse_categorical_accuracy improved from 0.45908 to 0.47921, saving model to model_names_chkpt.h5\n",
      "100/100 [==============================] - 30s 305ms/step - loss: 1.8289 - sparse_categorical_accuracy: 0.4792\n",
      "Epoch 12/25\n",
      " 99/100 [============================>.] - ETA: 0s - loss: 1.7653 - sparse_categorical_accuracy: 0.4959\n",
      "Epoch 00012: sparse_categorical_accuracy improved from 0.47921 to 0.49598, saving model to model_names_chkpt.h5\n",
      "100/100 [==============================] - 30s 305ms/step - loss: 1.7649 - sparse_categorical_accuracy: 0.4960\n",
      "Epoch 13/25\n",
      " 99/100 [============================>.] - ETA: 0s - loss: 1.7061 - sparse_categorical_accuracy: 0.5105\n",
      "Epoch 00013: sparse_categorical_accuracy improved from 0.49598 to 0.51058, saving model to model_names_chkpt.h5\n",
      "100/100 [==============================] - 31s 307ms/step - loss: 1.7059 - sparse_categorical_accuracy: 0.5106\n",
      "Epoch 14/25\n",
      " 99/100 [============================>.] - ETA: 0s - loss: 1.6557 - sparse_categorical_accuracy: 0.5227\n",
      "Epoch 00014: sparse_categorical_accuracy improved from 0.51058 to 0.52286, saving model to model_names_chkpt.h5\n",
      "100/100 [==============================] - 31s 306ms/step - loss: 1.6552 - sparse_categorical_accuracy: 0.5229\n",
      "Epoch 15/25\n",
      " 99/100 [============================>.] - ETA: 0s - loss: 1.6098 - sparse_categorical_accuracy: 0.5345\n",
      "Epoch 00015: sparse_categorical_accuracy improved from 0.52286 to 0.53459, saving model to model_names_chkpt.h5\n",
      "100/100 [==============================] - 30s 304ms/step - loss: 1.6094 - sparse_categorical_accuracy: 0.5346\n",
      "Epoch 16/25\n",
      " 99/100 [============================>.] - ETA: 0s - loss: 1.5716 - sparse_categorical_accuracy: 0.5450\n",
      "Epoch 00016: sparse_categorical_accuracy improved from 0.53459 to 0.54504, saving model to model_names_chkpt.h5\n",
      "100/100 [==============================] - 31s 305ms/step - loss: 1.5714 - sparse_categorical_accuracy: 0.5450\n",
      "Epoch 17/25\n",
      " 99/100 [============================>.] - ETA: 0s - loss: 1.5340 - sparse_categorical_accuracy: 0.5558\n",
      "Epoch 00017: sparse_categorical_accuracy improved from 0.54504 to 0.55585, saving model to model_names_chkpt.h5\n",
      "100/100 [==============================] - 30s 304ms/step - loss: 1.5338 - sparse_categorical_accuracy: 0.5559\n",
      "Epoch 18/25\n",
      " 99/100 [============================>.] - ETA: 0s - loss: 1.5026 - sparse_categorical_accuracy: 0.5643\n",
      "Epoch 00018: sparse_categorical_accuracy improved from 0.55585 to 0.56429, saving model to model_names_chkpt.h5\n",
      "100/100 [==============================] - 30s 298ms/step - loss: 1.5025 - sparse_categorical_accuracy: 0.5643\n",
      "Epoch 19/25\n",
      " 99/100 [============================>.] - ETA: 0s - loss: 1.4739 - sparse_categorical_accuracy: 0.5721\n",
      "Epoch 00019: sparse_categorical_accuracy improved from 0.56429 to 0.57215, saving model to model_names_chkpt.h5\n",
      "100/100 [==============================] - 30s 299ms/step - loss: 1.4738 - sparse_categorical_accuracy: 0.5722\n",
      "Epoch 20/25\n",
      " 99/100 [============================>.] - ETA: 0s - loss: 1.4466 - sparse_categorical_accuracy: 0.5795\n",
      "Epoch 00020: sparse_categorical_accuracy improved from 0.57215 to 0.57959, saving model to model_names_chkpt.h5\n",
      "100/100 [==============================] - 30s 297ms/step - loss: 1.4464 - sparse_categorical_accuracy: 0.5796\n",
      "Epoch 21/25\n",
      " 99/100 [============================>.] - ETA: 0s - loss: 1.4238 - sparse_categorical_accuracy: 0.5860\n",
      "Epoch 00021: sparse_categorical_accuracy improved from 0.57959 to 0.58607, saving model to model_names_chkpt.h5\n",
      "100/100 [==============================] - 30s 297ms/step - loss: 1.4237 - sparse_categorical_accuracy: 0.5861\n",
      "Epoch 22/25\n",
      " 99/100 [============================>.] - ETA: 0s - loss: 1.4002 - sparse_categorical_accuracy: 0.5927\n",
      "Epoch 00022: sparse_categorical_accuracy improved from 0.58607 to 0.59269, saving model to model_names_chkpt.h5\n",
      "100/100 [==============================] - 30s 296ms/step - loss: 1.4001 - sparse_categorical_accuracy: 0.5927\n",
      "Epoch 23/25\n",
      " 99/100 [============================>.] - ETA: 0s - loss: 1.3807 - sparse_categorical_accuracy: 0.5985\n",
      "Epoch 00023: sparse_categorical_accuracy improved from 0.59269 to 0.59850, saving model to model_names_chkpt.h5\n",
      "100/100 [==============================] - 30s 297ms/step - loss: 1.3806 - sparse_categorical_accuracy: 0.5985\n",
      "Epoch 24/25\n",
      " 99/100 [============================>.] - ETA: 0s - loss: 1.3607 - sparse_categorical_accuracy: 0.6042\n",
      "Epoch 00024: sparse_categorical_accuracy improved from 0.59850 to 0.60421, saving model to model_names_chkpt.h5\n",
      "100/100 [==============================] - 30s 296ms/step - loss: 1.3605 - sparse_categorical_accuracy: 0.6042\n",
      "Epoch 25/25\n",
      " 99/100 [============================>.] - ETA: 0s - loss: 1.3430 - sparse_categorical_accuracy: 0.6093\n",
      "Epoch 00025: sparse_categorical_accuracy improved from 0.60421 to 0.60930, saving model to model_names_chkpt.h5\n",
      "100/100 [==============================] - 30s 297ms/step - loss: 1.3429 - sparse_categorical_accuracy: 0.6093\n"
     ]
    }
   ],
   "source": [
    "#import os\n",
    "#os.environ[\"CUDA_VISIBLE_DEVICES\"]=\"1\"\n",
    "\n",
    "EMBEDDING_DIM = 128\n",
    "EPOCHS = 25\n",
    "\n",
    "\n",
    "def lstm_model(seq_len=100, batch_size=None, stateful=True):\n",
    "    \"\"\"Language model: predict the next word given the current word.\"\"\"\n",
    "    source = tf.keras.Input(\n",
    "        name='seed', shape=(seq_len,), batch_size=batch_size, dtype=tf.int32)\n",
    "\n",
    "    embedding = tf.keras.layers.Embedding(input_dim=256, output_dim=EMBEDDING_DIM)(source)\n",
    "    lstm_1 = tf.keras.layers.LSTM(EMBEDDING_DIM, stateful=stateful, return_sequences=True)(embedding)\n",
    "    lstm_2 = tf.keras.layers.LSTM(EMBEDDING_DIM, stateful=stateful, return_sequences=True)(lstm_1)\n",
    "    #drop_1 = tf.keras.layers.Dropout(0.2)\n",
    "    predicted_char = tf.keras.layers.TimeDistributed(tf.keras.layers.Dense(256, activation='softmax'))(lstm_2)\n",
    "    model = tf.keras.Model(inputs=[source], outputs=[predicted_char])\n",
    "    model.compile(\n",
    "        optimizer='rmsprop',\n",
    "        #optimizer=tf.keras.optimizers.RMSprop(lr=0.01),\n",
    "        loss='sparse_categorical_crossentropy',\n",
    "        metrics=['sparse_categorical_accuracy'])\n",
    "    \n",
    "    return model\n",
    "\n",
    "tf.keras.backend.clear_session()\n",
    "if 'session' in locals() and session is not None:\n",
    "    print('Close interactive session')\n",
    "    session.close()\n",
    "\n",
    "training_model = lstm_model(seq_len=100, batch_size=1024, stateful=False)\n",
    "#training_model.load_weights('model_small_chkpt.h5', by_name=True)\n",
    "\n",
    "checkpoint = keras.callbacks.ModelCheckpoint('model_names_chkpt.h5', \n",
    "                             monitor='sparse_categorical_accuracy', \n",
    "                             verbose=1, \n",
    "                             save_best_only=True, \n",
    "                             mode='max')\n",
    "early_stopping = keras.callbacks.EarlyStopping(monitor='sparse_categorical_accuracy',\n",
    "                               patience=3,\n",
    "                               mode='max')\n",
    "callbacks_list = [checkpoint,early_stopping]\n",
    "\n",
    "print(training_model.summary())\n",
    "\n",
    "training_model.fit_generator(\n",
    "    training_generator(seq_len=100, batch_size=1024),\n",
    "    steps_per_epoch=100,\n",
    "    epochs=EPOCHS,\n",
    "    callbacks = callbacks_list\n",
    "    )\n",
    "\n",
    "training_model.save_weights(MODEL_WEIGHTS_PATH, overwrite=True)\n",
    "\n",
    "# 16 = 3.5 loss (2 epoch)"
   ]
  },
  {
   "cell_type": "markdown",
   "metadata": {},
   "source": [
    "# Show sample of created wine names"
   ]
  },
  {
   "cell_type": "code",
   "execution_count": 6,
   "metadata": {},
   "outputs": [
    {
     "name": "stdout",
     "output_type": "stream",
     "text": [
      "PREDICTION 0\n",
      "\n",
      "\n",
      "Qront'-Laond Rose\n",
      "Compmano Pinot Noir 2015\n",
      "Giane Dou Dos Allabellc Nouve d'Anta Cochauks-Jognon Lup-Pe 2015\n",
      "Pble Fovente Chandonnay 2014\n",
      "Matrman Cotes du Gobes Vineyard Pinot Noir 2017\n",
      "Hingdos Radara 2016\n",
      "Brijo Parvey Lesx Grenawer 2013\n",
      "Dons Fert 199\n",
      "\n",
      "PREDICTION 1\n",
      "\n",
      "\n",
      "Qast Bourges Gadon Pinot Noli Ly Rof Fipble Manchiani Vallay Farchy Blanch Bach Riascas Petit) (375ML half-bott Sadtre) 2016\n",
      "Tepezonna Reserra 2014\n",
      "Bentana de Maig Gigaco Rises Dank Mauaru 2016\n",
      "Roek Feut Carnione Rantonso Brut\n",
      "Ancers Cantersin Vailli\n",
      "\n",
      "PREDICTION 2\n",
      "\n",
      "\n",
      "Qhautit Brut\n",
      "Pecorom Sauvignon Blanc 2017\n",
      "Ferrare Quuvigngan River Monteccion Boundes Prigny Grenache 2017\n",
      "Gradoy Roaglie Clis Li Baralda Oralga Pinot Noir 2016\n",
      "Cyralo Pinot Povraity Pasinna Arnau 2015\n",
      "Errecto Old Cabernet Sauvignon 2016\n",
      "MacPi Brunel\n",
      "\n",
      "PREDICTION 3\n",
      "\n",
      "\n",
      "QApole Dimi Gavria 2011\n",
      "S'Agley T Post Brut Blanc 2017\n",
      "Qount Forgenn d'Ostono Pinot Noir 2016\n",
      "Bodeetine Pitar Merlot 2015\n",
      "Cato Valt Santario Jamasa Rax 2013\n",
      "Brostato Valles Chardonnay 2013\n",
      "Molba's Hadcolle 2016\n",
      "Seghhand Fadci Vintage le Cheblim) 2015\n",
      "\n",
      "PREDICTION 4\n",
      "\n",
      "\n",
      "QE Beuurs Coassa Coatar Souget Cotes du Hui Chabel) 2005\n",
      "Peche For Deqler Petit Mell La Rose 2017\n",
      "Peotsamo Grano Findra Rosco Pinot Noiir 2017\n",
      "Clos da Adura Altanos Chardonnay 2017\n",
      "Pillon Sancenint Vineyards Vitade Red 2014\n",
      "Mecsa Ribal Chardonnay 201\n",
      "\n"
     ]
    }
   ],
   "source": [
    "BATCH_SIZE = 5\n",
    "PREDICT_LEN = 250\n",
    "\n",
    "# Keras requires the batch size be specified ahead of time for stateful models.\n",
    "# We use a sequence length of 1, as we will be feeding in one character at a \n",
    "# time and predicting the next character.\n",
    "prediction_model = lstm_model(seq_len=1, batch_size=BATCH_SIZE, stateful=True)\n",
    "prediction_model.load_weights(MODEL_WEIGHTS_PATH)\n",
    "\n",
    "seed_txt = ''.join(random.choices(string.ascii_uppercase + string.digits, k=20))\n",
    "seed = transform(seed_txt)\n",
    "seed = np.repeat(np.expand_dims(seed, 0), BATCH_SIZE, axis=0)\n",
    "\n",
    "# First, run the seed forward to prime the state of the model.\n",
    "prediction_model.reset_states()\n",
    "for i in range(len(seed_txt) - 1):\n",
    "    prediction_model.predict(seed[:, i:i + 1])\n",
    "\n",
    "# Now we can accumulate predictions!\n",
    "predictions = [seed[:, -1:]]\n",
    "for i in range(PREDICT_LEN):\n",
    "    last_word = predictions[-1]\n",
    "    next_probits = prediction_model.predict(last_word)[:, 0, :]\n",
    "  \n",
    "  # sample from our output distribution\n",
    "    next_idx = [\n",
    "        np.random.choice(256, p=next_probits[i])\n",
    "        for i in range(BATCH_SIZE)\n",
    "    ]\n",
    "    predictions.append(np.asarray(next_idx, dtype=np.int32))\n",
    "    \n",
    "for i in range(BATCH_SIZE):\n",
    "    print('PREDICTION %d\\n\\n' % i)\n",
    "    p = [predictions[j][i] for j in range(PREDICT_LEN)]\n",
    "    generated = ''.join([chr(c) for c in p])\n",
    "    print(generated)\n",
    "    print()\n",
    "    assert len(generated) == PREDICT_LEN, 'Generated text too short'"
   ]
  },
  {
   "cell_type": "markdown",
   "metadata": {},
   "source": [
    "# Create larger fake wine name list"
   ]
  },
  {
   "cell_type": "code",
   "execution_count": 9,
   "metadata": {},
   "outputs": [
    {
     "name": "stderr",
     "output_type": "stream",
     "text": [
      "100%|████████████████████████████████████████████████████████████████████████████████████████████████████████████| 1000/1000 [08:20<00:00,  2.00it/s]\n"
     ]
    }
   ],
   "source": [
    "BATCH_SIZE = 5\n",
    "PREDICT_LEN = 150\n",
    "TOTAL_BATCHES = 1000\n",
    "\n",
    "# We use a sequence length of 1, as we will be feeding in one character at a \n",
    "# time and predicting the next character.\n",
    "prediction_model = lstm_model(seq_len=1, batch_size=BATCH_SIZE, stateful=True)\n",
    "prediction_model.load_weights(MODEL_WEIGHTS_PATH)\n",
    "\n",
    "fake_names = []\n",
    "for ii in tqdm(range(TOTAL_BATCHES)):\n",
    "    seed_txt = ''.join(random.choices(string.ascii_uppercase + string.digits, k=20))\n",
    "    seed = transform(seed_txt)\n",
    "    seed = np.repeat(np.expand_dims(seed, 0), BATCH_SIZE, axis=0)\n",
    "\n",
    "    # First, run the seed forward to prime the state of the model.\n",
    "    prediction_model.reset_states()\n",
    "    for i in range(len(seed_txt) - 1):\n",
    "        prediction_model.predict(seed[:, i:i + 1])\n",
    "\n",
    "    # Now we can accumulate predictions!\n",
    "    predictions = [seed[:, -1:]]\n",
    "    for i in range(PREDICT_LEN):\n",
    "        last_word = predictions[-1]\n",
    "        next_probits = prediction_model.predict(last_word)[:, 0, :]\n",
    "\n",
    "      # sample from our output distribution\n",
    "        next_idx = [\n",
    "            np.random.choice(256, p=next_probits[i])\n",
    "            for i in range(BATCH_SIZE)\n",
    "        ]\n",
    "        predictions.append(np.asarray(next_idx, dtype=np.int32))\n",
    "\n",
    "    for i in range(BATCH_SIZE):\n",
    "        #print('PREDICTION %d\\n\\n' % i)\n",
    "        p = [predictions[j][i] for j in range(PREDICT_LEN)]\n",
    "        generated = ''.join([chr(c) for c in p])\n",
    "        gen_list = generated.split('\\n')[1:-1]\n",
    "        for item in gen_list:\n",
    "            fake_names.append(item)\n",
    "        assert len(generated) == PREDICT_LEN, 'Generated text too short'"
   ]
  },
  {
   "cell_type": "code",
   "execution_count": 21,
   "metadata": {},
   "outputs": [
    {
     "name": "stdout",
     "output_type": "stream",
     "text": [
      "Saved fake_names_14039_2019-11-15.pickle\n"
     ]
    }
   ],
   "source": [
    "fileName = \"fake_names_{}_{}.pickle\".format(len(fake_names),str(dt.date.today()))\n",
    "pd.to_pickle(fake_names, 'data/fake/' + fileName)\n",
    "print(\"Saved {}\".format(fileName))"
   ]
  },
  {
   "cell_type": "markdown",
   "metadata": {},
   "source": [
    "# Compute fake wine name similarity"
   ]
  },
  {
   "cell_type": "code",
   "execution_count": 22,
   "metadata": {},
   "outputs": [],
   "source": [
    "test = pd.read_csv('data/fake/fakes.csv', low_memory=False, sep='|')"
   ]
  },
  {
   "cell_type": "code",
   "execution_count": 23,
   "metadata": {},
   "outputs": [
    {
     "name": "stderr",
     "output_type": "stream",
     "text": [
      "  0%|▎                                                                                                          | 43/14039 [00:56<4:38:30,  1.19s/it]"
     ]
    },
    {
     "ename": "KeyboardInterrupt",
     "evalue": "",
     "output_type": "error",
     "traceback": [
      "\u001b[1;31m---------------------------------------------------------------------------\u001b[0m",
      "\u001b[1;31mKeyboardInterrupt\u001b[0m                         Traceback (most recent call last)",
      "\u001b[1;32m<ipython-input-23-b542a55915f8>\u001b[0m in \u001b[0;36m<module>\u001b[1;34m\u001b[0m\n\u001b[0;32m     13\u001b[0m     \u001b[0mmax_score\u001b[0m \u001b[1;33m=\u001b[0m \u001b[1;36m0.0\u001b[0m\u001b[1;33m\u001b[0m\u001b[1;33m\u001b[0m\u001b[0m\n\u001b[0;32m     14\u001b[0m     \u001b[1;32mfor\u001b[0m \u001b[0mr_name\u001b[0m \u001b[1;32min\u001b[0m \u001b[0mreal_names\u001b[0m\u001b[1;33m:\u001b[0m\u001b[1;33m\u001b[0m\u001b[1;33m\u001b[0m\u001b[0m\n\u001b[1;32m---> 15\u001b[1;33m         \u001b[0mscore\u001b[0m \u001b[1;33m=\u001b[0m \u001b[0msimilar\u001b[0m\u001b[1;33m(\u001b[0m\u001b[0mf_name\u001b[0m\u001b[1;33m,\u001b[0m \u001b[0mr_name\u001b[0m\u001b[1;33m)\u001b[0m\u001b[1;33m\u001b[0m\u001b[1;33m\u001b[0m\u001b[0m\n\u001b[0m\u001b[0;32m     16\u001b[0m         \u001b[1;32mif\u001b[0m \u001b[0mscore\u001b[0m \u001b[1;33m>\u001b[0m \u001b[0mmax_score\u001b[0m\u001b[1;33m:\u001b[0m\u001b[1;33m\u001b[0m\u001b[1;33m\u001b[0m\u001b[0m\n\u001b[0;32m     17\u001b[0m             \u001b[0mmax_score\u001b[0m \u001b[1;33m=\u001b[0m \u001b[0mscore\u001b[0m\u001b[1;33m\u001b[0m\u001b[1;33m\u001b[0m\u001b[0m\n",
      "\u001b[1;32m<ipython-input-23-b542a55915f8>\u001b[0m in \u001b[0;36msimilar\u001b[1;34m(a, b)\u001b[0m\n\u001b[0;32m      4\u001b[0m \u001b[1;33m\u001b[0m\u001b[0m\n\u001b[0;32m      5\u001b[0m \u001b[1;32mdef\u001b[0m \u001b[0msimilar\u001b[0m\u001b[1;33m(\u001b[0m\u001b[0ma\u001b[0m\u001b[1;33m,\u001b[0m \u001b[0mb\u001b[0m\u001b[1;33m)\u001b[0m\u001b[1;33m:\u001b[0m\u001b[1;33m\u001b[0m\u001b[1;33m\u001b[0m\u001b[0m\n\u001b[1;32m----> 6\u001b[1;33m     \u001b[1;32mreturn\u001b[0m \u001b[0mSequenceMatcher\u001b[0m\u001b[1;33m(\u001b[0m\u001b[1;32mNone\u001b[0m\u001b[1;33m,\u001b[0m \u001b[0ma\u001b[0m\u001b[1;33m,\u001b[0m \u001b[0mb\u001b[0m\u001b[1;33m)\u001b[0m\u001b[1;33m.\u001b[0m\u001b[0mratio\u001b[0m\u001b[1;33m(\u001b[0m\u001b[1;33m)\u001b[0m\u001b[1;33m\u001b[0m\u001b[1;33m\u001b[0m\u001b[0m\n\u001b[0m\u001b[0;32m      7\u001b[0m \u001b[1;33m\u001b[0m\u001b[0m\n\u001b[0;32m      8\u001b[0m \u001b[1;31m#fake_names = test['name']\u001b[0m\u001b[1;33m\u001b[0m\u001b[1;33m\u001b[0m\u001b[1;33m\u001b[0m\u001b[0m\n",
      "\u001b[1;32mc:\\users\\david\\appdata\\local\\programs\\python\\python36\\Lib\\difflib.py\u001b[0m in \u001b[0;36mratio\u001b[1;34m(self)\u001b[0m\n\u001b[0;32m    642\u001b[0m         \"\"\"\n\u001b[0;32m    643\u001b[0m \u001b[1;33m\u001b[0m\u001b[0m\n\u001b[1;32m--> 644\u001b[1;33m         \u001b[0mmatches\u001b[0m \u001b[1;33m=\u001b[0m \u001b[0msum\u001b[0m\u001b[1;33m(\u001b[0m\u001b[0mtriple\u001b[0m\u001b[1;33m[\u001b[0m\u001b[1;33m-\u001b[0m\u001b[1;36m1\u001b[0m\u001b[1;33m]\u001b[0m \u001b[1;32mfor\u001b[0m \u001b[0mtriple\u001b[0m \u001b[1;32min\u001b[0m \u001b[0mself\u001b[0m\u001b[1;33m.\u001b[0m\u001b[0mget_matching_blocks\u001b[0m\u001b[1;33m(\u001b[0m\u001b[1;33m)\u001b[0m\u001b[1;33m)\u001b[0m\u001b[1;33m\u001b[0m\u001b[1;33m\u001b[0m\u001b[0m\n\u001b[0m\u001b[0;32m    645\u001b[0m         \u001b[1;32mreturn\u001b[0m \u001b[0m_calculate_ratio\u001b[0m\u001b[1;33m(\u001b[0m\u001b[0mmatches\u001b[0m\u001b[1;33m,\u001b[0m \u001b[0mlen\u001b[0m\u001b[1;33m(\u001b[0m\u001b[0mself\u001b[0m\u001b[1;33m.\u001b[0m\u001b[0ma\u001b[0m\u001b[1;33m)\u001b[0m \u001b[1;33m+\u001b[0m \u001b[0mlen\u001b[0m\u001b[1;33m(\u001b[0m\u001b[0mself\u001b[0m\u001b[1;33m.\u001b[0m\u001b[0mb\u001b[0m\u001b[1;33m)\u001b[0m\u001b[1;33m)\u001b[0m\u001b[1;33m\u001b[0m\u001b[1;33m\u001b[0m\u001b[0m\n\u001b[0;32m    646\u001b[0m \u001b[1;33m\u001b[0m\u001b[0m\n",
      "\u001b[1;32mc:\\users\\david\\appdata\\local\\programs\\python\\python36\\Lib\\difflib.py\u001b[0m in \u001b[0;36mget_matching_blocks\u001b[1;34m(self)\u001b[0m\n\u001b[0;32m    477\u001b[0m         \u001b[1;32mwhile\u001b[0m \u001b[0mqueue\u001b[0m\u001b[1;33m:\u001b[0m\u001b[1;33m\u001b[0m\u001b[1;33m\u001b[0m\u001b[0m\n\u001b[0;32m    478\u001b[0m             \u001b[0malo\u001b[0m\u001b[1;33m,\u001b[0m \u001b[0mahi\u001b[0m\u001b[1;33m,\u001b[0m \u001b[0mblo\u001b[0m\u001b[1;33m,\u001b[0m \u001b[0mbhi\u001b[0m \u001b[1;33m=\u001b[0m \u001b[0mqueue\u001b[0m\u001b[1;33m.\u001b[0m\u001b[0mpop\u001b[0m\u001b[1;33m(\u001b[0m\u001b[1;33m)\u001b[0m\u001b[1;33m\u001b[0m\u001b[1;33m\u001b[0m\u001b[0m\n\u001b[1;32m--> 479\u001b[1;33m             \u001b[0mi\u001b[0m\u001b[1;33m,\u001b[0m \u001b[0mj\u001b[0m\u001b[1;33m,\u001b[0m \u001b[0mk\u001b[0m \u001b[1;33m=\u001b[0m \u001b[0mx\u001b[0m \u001b[1;33m=\u001b[0m \u001b[0mself\u001b[0m\u001b[1;33m.\u001b[0m\u001b[0mfind_longest_match\u001b[0m\u001b[1;33m(\u001b[0m\u001b[0malo\u001b[0m\u001b[1;33m,\u001b[0m \u001b[0mahi\u001b[0m\u001b[1;33m,\u001b[0m \u001b[0mblo\u001b[0m\u001b[1;33m,\u001b[0m \u001b[0mbhi\u001b[0m\u001b[1;33m)\u001b[0m\u001b[1;33m\u001b[0m\u001b[1;33m\u001b[0m\u001b[0m\n\u001b[0m\u001b[0;32m    480\u001b[0m             \u001b[1;31m# a[alo:i] vs b[blo:j] unknown\u001b[0m\u001b[1;33m\u001b[0m\u001b[1;33m\u001b[0m\u001b[1;33m\u001b[0m\u001b[0m\n\u001b[0;32m    481\u001b[0m             \u001b[1;31m# a[i:i+k] same as b[j:j+k]\u001b[0m\u001b[1;33m\u001b[0m\u001b[1;33m\u001b[0m\u001b[1;33m\u001b[0m\u001b[0m\n",
      "\u001b[1;32mc:\\users\\david\\appdata\\local\\programs\\python\\python36\\Lib\\difflib.py\u001b[0m in \u001b[0;36mfind_longest_match\u001b[1;34m(self, alo, ahi, blo, bhi)\u001b[0m\n\u001b[0;32m    411\u001b[0m                 \u001b[1;32mif\u001b[0m \u001b[0mk\u001b[0m \u001b[1;33m>\u001b[0m \u001b[0mbestsize\u001b[0m\u001b[1;33m:\u001b[0m\u001b[1;33m\u001b[0m\u001b[1;33m\u001b[0m\u001b[0m\n\u001b[0;32m    412\u001b[0m                     \u001b[0mbesti\u001b[0m\u001b[1;33m,\u001b[0m \u001b[0mbestj\u001b[0m\u001b[1;33m,\u001b[0m \u001b[0mbestsize\u001b[0m \u001b[1;33m=\u001b[0m \u001b[0mi\u001b[0m\u001b[1;33m-\u001b[0m\u001b[0mk\u001b[0m\u001b[1;33m+\u001b[0m\u001b[1;36m1\u001b[0m\u001b[1;33m,\u001b[0m \u001b[0mj\u001b[0m\u001b[1;33m-\u001b[0m\u001b[0mk\u001b[0m\u001b[1;33m+\u001b[0m\u001b[1;36m1\u001b[0m\u001b[1;33m,\u001b[0m \u001b[0mk\u001b[0m\u001b[1;33m\u001b[0m\u001b[1;33m\u001b[0m\u001b[0m\n\u001b[1;32m--> 413\u001b[1;33m             \u001b[0mj2len\u001b[0m \u001b[1;33m=\u001b[0m \u001b[0mnewj2len\u001b[0m\u001b[1;33m\u001b[0m\u001b[1;33m\u001b[0m\u001b[0m\n\u001b[0m\u001b[0;32m    414\u001b[0m \u001b[1;33m\u001b[0m\u001b[0m\n\u001b[0;32m    415\u001b[0m         \u001b[1;31m# Extend the best by non-junk elements on each end.  In particular,\u001b[0m\u001b[1;33m\u001b[0m\u001b[1;33m\u001b[0m\u001b[1;33m\u001b[0m\u001b[0m\n",
      "\u001b[1;31mKeyboardInterrupt\u001b[0m: "
     ]
    }
   ],
   "source": [
    "########## This code is super slow if matching large lists ##########\n",
    "\n",
    "from difflib import SequenceMatcher\n",
    "\n",
    "def similar(a, b):\n",
    "    return SequenceMatcher(None, a, b).ratio()\n",
    "\n",
    "#fake_names = test['name']\n",
    "real_names = pd.read_pickle(SCRAPED_WINES_INPUT_PATH)['name']\n",
    "\n",
    "fake_scores = {}\n",
    "for f_name in tqdm(fake_names):\n",
    "    max_score = 0.0\n",
    "    for r_name in real_names:\n",
    "        score = similar(f_name, r_name)\n",
    "        if score > max_score:\n",
    "            max_score = score\n",
    "    fake_scores[f_name] = max_score\n",
    "        \n",
    "    \n",
    "fake_scores = pd.Series(fake_scores)\n",
    "\n",
    "########## This code is super slow if matching large lists ##########"
   ]
  },
  {
   "cell_type": "markdown",
   "metadata": {},
   "source": [
    "### ^^ Above code takes ~8 hours to run, the files in the extra_code directory will split it out among 8 processes"
   ]
  },
  {
   "cell_type": "markdown",
   "metadata": {},
   "source": [
    "# Check for wine names that match real ones"
   ]
  },
  {
   "cell_type": "code",
   "execution_count": 60,
   "metadata": {},
   "outputs": [
    {
     "name": "stdout",
     "output_type": "stream",
     "text": [
      "Total fake names:  1601\n",
      "Total 90% or less match:  1137\n"
     ]
    },
    {
     "data": {
      "image/png": "[encoded data removed]",
      "text/plain": [
       "<Figure size 640x480 with 1 Axes>"
      ]
     },
     "metadata": {},
     "output_type": "display_data"
    }
   ],
   "source": [
    "fake_scores = pd.Series(pd.read_pickle('new_scores.pickle')[0])\n",
    "\n",
    "import matplotlib.pyplot as plt\n",
    "plt.style.use('default')\n",
    "print(\"Total fake names: \",len(fake_scores))\n",
    "print(\"Total 90% or less match: \",len(fake_scores[fake_scores < 0.9]))\n",
    "\n",
    "plt.figure(dpi=100)\n",
    "plt.title('Disitribution of fake wine names to real ones')\n",
    "plt.hist(fake_scores.values)\n",
    "plt.show()"
   ]
  }
 ],
 "metadata": {
  "kernelspec": {
   "display_name": "myenv",
   "language": "python",
   "name": "myenv"
  },
  "language_info": {
   "codemirror_mode": {
    "name": "ipython",
    "version": 3
   },
   "file_extension": ".py",
   "mimetype": "text/x-python",
   "name": "python",
   "nbconvert_exporter": "python",
   "pygments_lexer": "ipython3",
   "version": "3.6.7"
  }
 },
 "nbformat": 4,
 "nbformat_minor": 2
}
