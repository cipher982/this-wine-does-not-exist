{
 "cells": [
  {
   "cell_type": "code",
   "execution_count": 43,
   "metadata": {},
   "outputs": [],
   "source": [
    "import pandas as pd\n",
    "import numpy as np\n",
    "import glob\n",
    "from tqdm import tqdm\n",
    "from bs4 import BeautifulSoup\n",
    "import lxml\n"
   ]
  },
  {
   "cell_type": "code",
   "execution_count": 5,
   "metadata": {},
   "outputs": [],
   "source": [
    "wine_pages = glob.glob('data/wine_pages/wine_*', recursive=True)\n",
    "wine_pages = np.sort(wine_pages)"
   ]
  },
  {
   "cell_type": "code",
   "execution_count": 42,
   "metadata": {},
   "outputs": [
    {
     "name": "stderr",
     "output_type": "stream",
     "text": [
      "\n"
     ]
    },
    {
     "name": "stdout",
     "output_type": "stream",
     "text": [
      "Requirement already satisfied: lxml in /Users/drose/anaconda/lib/python3.6/site-packages (3.7.3)\n",
      "\u001b[33mYou are using pip version 19.0.1, however version 19.0.3 is available.\n",
      "You should consider upgrading via the 'pip install --upgrade pip' command.\u001b[0m\n"
     ]
    }
   ],
   "source": [
    "!pip install lxml"
   ]
  },
  {
   "cell_type": "code",
   "execution_count": 75,
   "metadata": {},
   "outputs": [
    {
     "name": "stderr",
     "output_type": "stream",
     "text": [
      "\n",
      "  0%|          | 0/15550 [00:00<?, ?it/s]\u001b[A\n",
      "  0%|          | 22/15550 [00:00<01:15, 206.81it/s]\u001b[A\n",
      "  0%|          | 41/15550 [00:00<01:17, 200.03it/s]\u001b[A\n",
      "100%|██████████| 15550/15550 [00:59<00:00, 262.36it/s]\n"
     ]
    }
   ],
   "source": [
    "names = []\n",
    "descriptions = []\n",
    "for page in tqdm(wine_pages):\n",
    "    #print(page)\n",
    "    with open(page, \"rb\") as f:\n",
    "        #wine = BeautifulSoup(f.read(), parse_only=)\n",
    "        wine = f.read().decode('utf-8')\n",
    "    try:  \n",
    "        names.append(wine.split('><title>')[1].split('|')[0])\n",
    "    except IndexError:\n",
    "        continue\n",
    "    try:\n",
    "        descriptions.append(wine.split('<div class=\"viewMoreModule_text\"><p>')[1].split('</p')[0])\n",
    "    except IndexError:\n",
    "        descriptions.append(wine.split('<div class=\"viewMoreModule_text\">')[1].split('</p')[0])\n",
    "        \n"
   ]
  },
  {
   "cell_type": "code",
   "execution_count": null,
   "metadata": {},
   "outputs": [],
   "source": []
  },
  {
   "cell_type": "code",
   "execution_count": null,
   "metadata": {},
   "outputs": [],
   "source": []
  }
 ],
 "metadata": {
  "kernelspec": {
   "display_name": "Python 3",
   "language": "python",
   "name": "python3"
  },
  "language_info": {
   "codemirror_mode": {
    "name": "ipython",
    "version": 3
   },
   "file_extension": ".py",
   "mimetype": "text/x-python",
   "name": "python",
   "nbconvert_exporter": "python",
   "pygments_lexer": "ipython3",
   "version": "3.6.1"
  }
 },
 "nbformat": 4,
 "nbformat_minor": 2
}
