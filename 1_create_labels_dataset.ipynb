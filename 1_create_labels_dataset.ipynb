{
 "cells": [
  {
   "cell_type": "code",
   "execution_count": 1,
   "metadata": {
    "ExecuteTime": {
     "end_time": "2021-02-22T21:26:19.965765Z",
     "start_time": "2021-02-22T21:26:19.449252Z"
    }
   },
   "outputs": [],
   "source": [
    "import os\n",
    "import shutil\n",
    "import urllib.request\n",
    "import pandas as pd\n",
    "from tqdm import tqdm\n",
    "from time import sleep"
   ]
  },
  {
   "cell_type": "markdown",
   "metadata": {},
   "source": [
    "# Load"
   ]
  },
  {
   "cell_type": "code",
   "execution_count": 2,
   "metadata": {
    "ExecuteTime": {
     "end_time": "2021-02-22T21:26:20.280766Z",
     "start_time": "2021-02-22T21:26:19.982767Z"
    }
   },
   "outputs": [
    {
     "name": "stdout",
     "output_type": "stream",
     "text": [
      "(123516, 9)\n"
     ]
    }
   ],
   "source": [
    "wine_df = pd.read_pickle('data/best_wine_df_ever.pickle.gzip', compression='gzip')\n",
    "print(wine_df.shape)"
   ]
  },
  {
   "cell_type": "code",
   "execution_count": 3,
   "metadata": {
    "ExecuteTime": {
     "end_time": "2021-02-22T21:26:20.312767Z",
     "start_time": "2021-02-22T21:26:20.297766Z"
    }
   },
   "outputs": [
    {
     "data": {
      "text/html": [
       "<div>\n",
       "<style scoped>\n",
       "    .dataframe tbody tr th:only-of-type {\n",
       "        vertical-align: middle;\n",
       "    }\n",
       "\n",
       "    .dataframe tbody tr th {\n",
       "        vertical-align: top;\n",
       "    }\n",
       "\n",
       "    .dataframe thead th {\n",
       "        text-align: right;\n",
       "    }\n",
       "</style>\n",
       "<table border=\"1\" class=\"dataframe\">\n",
       "  <thead>\n",
       "    <tr style=\"text-align: right;\">\n",
       "      <th></th>\n",
       "      <th>name</th>\n",
       "      <th>description</th>\n",
       "      <th>price</th>\n",
       "      <th>category_1</th>\n",
       "      <th>category_2</th>\n",
       "      <th>origin</th>\n",
       "      <th>wine_size_value</th>\n",
       "      <th>wine_size_units</th>\n",
       "      <th>wine_abv</th>\n",
       "    </tr>\n",
       "  </thead>\n",
       "  <tbody>\n",
       "    <tr>\n",
       "      <th>0</th>\n",
       "      <td>Zuccardi Zeta (1.5 Liter Magnum) 2012</td>\n",
       "      <td>Blend: 87% Malbec, 13% Cabernet Sauvignon</td>\n",
       "      <td>84.97</td>\n",
       "      <td>Red Wine</td>\n",
       "      <td>Bordeaux Red Blends</td>\n",
       "      <td>from Mendoza, Argentina</td>\n",
       "      <td>1500</td>\n",
       "      <td>ML</td>\n",
       "      <td>15</td>\n",
       "    </tr>\n",
       "    <tr>\n",
       "      <th>0</th>\n",
       "      <td>Zuccardi Zeta 2012</td>\n",
       "      <td>Blend: 87% Malbec, 13% Cabernet Sauvignon</td>\n",
       "      <td>43.99</td>\n",
       "      <td>Red Wine</td>\n",
       "      <td>Bordeaux Red Blends</td>\n",
       "      <td>from Mendoza, Argentina</td>\n",
       "      <td>750</td>\n",
       "      <td>ML</td>\n",
       "      <td>15</td>\n",
       "    </tr>\n",
       "  </tbody>\n",
       "</table>\n",
       "</div>"
      ],
      "text/plain": [
       "                                    name  \\\n",
       "0  Zuccardi Zeta (1.5 Liter Magnum) 2012   \n",
       "0                     Zuccardi Zeta 2012   \n",
       "\n",
       "                                 description  price category_1  \\\n",
       "0  Blend: 87% Malbec, 13% Cabernet Sauvignon  84.97   Red Wine   \n",
       "0  Blend: 87% Malbec, 13% Cabernet Sauvignon  43.99   Red Wine   \n",
       "\n",
       "            category_2                    origin wine_size_value  \\\n",
       "0  Bordeaux Red Blends   from Mendoza, Argentina            1500   \n",
       "0  Bordeaux Red Blends   from Mendoza, Argentina             750   \n",
       "\n",
       "  wine_size_units wine_abv  \n",
       "0              ML       15  \n",
       "0              ML       15  "
      ]
     },
     "execution_count": 3,
     "metadata": {},
     "output_type": "execute_result"
    }
   ],
   "source": [
    "wine_df.tail(2)"
   ]
  },
  {
   "cell_type": "code",
   "execution_count": 4,
   "metadata": {
    "ExecuteTime": {
     "end_time": "2021-02-22T21:26:22.160766Z",
     "start_time": "2021-02-22T21:26:20.330767Z"
    }
   },
   "outputs": [
    {
     "name": "stdout",
     "output_type": "stream",
     "text": [
      "(125787, 7)\n"
     ]
    }
   ],
   "source": [
    "raw_df = pd.read_pickle('data/scraped/scraped_with_decs.pickle.gzip', compression='gzip')\n",
    "print(raw_df.shape)"
   ]
  },
  {
   "cell_type": "code",
   "execution_count": 5,
   "metadata": {
    "ExecuteTime": {
     "end_time": "2021-02-22T21:26:22.191765Z",
     "start_time": "2021-02-22T21:26:22.177765Z"
    }
   },
   "outputs": [
    {
     "data": {
      "text/html": [
       "<div>\n",
       "<style scoped>\n",
       "    .dataframe tbody tr th:only-of-type {\n",
       "        vertical-align: middle;\n",
       "    }\n",
       "\n",
       "    .dataframe tbody tr th {\n",
       "        vertical-align: top;\n",
       "    }\n",
       "\n",
       "    .dataframe thead th {\n",
       "        text-align: right;\n",
       "    }\n",
       "</style>\n",
       "<table border=\"1\" class=\"dataframe\">\n",
       "  <thead>\n",
       "    <tr style=\"text-align: right;\">\n",
       "      <th></th>\n",
       "      <th>name</th>\n",
       "      <th>image_path</th>\n",
       "      <th>price</th>\n",
       "      <th>url</th>\n",
       "      <th>raw_html</th>\n",
       "      <th>URL_name</th>\n",
       "      <th>description</th>\n",
       "    </tr>\n",
       "  </thead>\n",
       "  <tbody>\n",
       "    <tr>\n",
       "      <th>125785</th>\n",
       "      <td>Piper-Heidsieck Cuvee Brut (3.0 Liter Bottle -...</td>\n",
       "      <td>/product/images/fl_progressive/fwu9dzrdyyfpxvb...</td>\n",
       "      <td>399.97</td>\n",
       "      <td>/product/Piper-Heidsieck-Cuvee-Brut-30-Liter-B...</td>\n",
       "      <td>&lt;div class=\"prodItem_wrap\"&gt;\\n&lt;div class=\"prodI...</td>\n",
       "      <td>/product/Piper-Heidsieck-Cuvee-Brut-30-Liter-B...</td>\n",
       "      <td>#95 Wine Spectator Top 100 of 2019The Brut NV ...</td>\n",
       "    </tr>\n",
       "    <tr>\n",
       "      <th>125786</th>\n",
       "      <td>Turley Estate Cabernet Sauvignon 2012</td>\n",
       "      <td>/product/images/fl_progressive/155880.jpg</td>\n",
       "      <td>64.99</td>\n",
       "      <td>/product/Turley-Estate-Cabernet-Sauvignon-2012...</td>\n",
       "      <td>&lt;div class=\"prodItem_wrap\"&gt;\\n&lt;div class=\"prodI...</td>\n",
       "      <td>/product/Turley-Estate-Cabernet-Sauvignon-2012...</td>\n",
       "      <td>Certified organic, Napa Valley single vineyard...</td>\n",
       "    </tr>\n",
       "  </tbody>\n",
       "</table>\n",
       "</div>"
      ],
      "text/plain": [
       "                                                     name  \\\n",
       "125785  Piper-Heidsieck Cuvee Brut (3.0 Liter Bottle -...   \n",
       "125786              Turley Estate Cabernet Sauvignon 2012   \n",
       "\n",
       "                                               image_path   price  \\\n",
       "125785  /product/images/fl_progressive/fwu9dzrdyyfpxvb...  399.97   \n",
       "125786          /product/images/fl_progressive/155880.jpg   64.99   \n",
       "\n",
       "                                                      url  \\\n",
       "125785  /product/Piper-Heidsieck-Cuvee-Brut-30-Liter-B...   \n",
       "125786  /product/Turley-Estate-Cabernet-Sauvignon-2012...   \n",
       "\n",
       "                                                 raw_html  \\\n",
       "125785  <div class=\"prodItem_wrap\">\\n<div class=\"prodI...   \n",
       "125786  <div class=\"prodItem_wrap\">\\n<div class=\"prodI...   \n",
       "\n",
       "                                                 URL_name  \\\n",
       "125785  /product/Piper-Heidsieck-Cuvee-Brut-30-Liter-B...   \n",
       "125786  /product/Turley-Estate-Cabernet-Sauvignon-2012...   \n",
       "\n",
       "                                              description  \n",
       "125785  #95 Wine Spectator Top 100 of 2019The Brut NV ...  \n",
       "125786  Certified organic, Napa Valley single vineyard...  "
      ]
     },
     "execution_count": 5,
     "metadata": {},
     "output_type": "execute_result"
    }
   ],
   "source": [
    "raw_df.tail(2)"
   ]
  },
  {
   "cell_type": "code",
   "execution_count": 6,
   "metadata": {
    "ExecuteTime": {
     "end_time": "2021-02-22T21:26:22.238765Z",
     "start_time": "2021-02-22T21:26:22.208767Z"
    }
   },
   "outputs": [
    {
     "data": {
      "text/html": [
       "<div>\n",
       "<style scoped>\n",
       "    .dataframe tbody tr th:only-of-type {\n",
       "        vertical-align: middle;\n",
       "    }\n",
       "\n",
       "    .dataframe tbody tr th {\n",
       "        vertical-align: top;\n",
       "    }\n",
       "\n",
       "    .dataframe thead th {\n",
       "        text-align: right;\n",
       "    }\n",
       "</style>\n",
       "<table border=\"1\" class=\"dataframe\">\n",
       "  <thead>\n",
       "    <tr style=\"text-align: right;\">\n",
       "      <th></th>\n",
       "      <th>index</th>\n",
       "      <th>name</th>\n",
       "      <th>image_path</th>\n",
       "      <th>price</th>\n",
       "      <th>url</th>\n",
       "      <th>raw_html</th>\n",
       "      <th>URL_name</th>\n",
       "      <th>description</th>\n",
       "    </tr>\n",
       "  </thead>\n",
       "  <tbody>\n",
       "    <tr>\n",
       "      <th>0</th>\n",
       "      <td>0</td>\n",
       "      <td>Dom Perignon Lenny Kravitz Limited Edition wit...</td>\n",
       "      <td>/product/images/fl_progressive/lmgmud1xsenlouw...</td>\n",
       "      <td>199.97</td>\n",
       "      <td>/product/Dom-Perignon-Lenny-Kravitz-Limited-Ed...</td>\n",
       "      <td>&lt;div class=\"prodItem_wrap\"&gt;\\n&lt;div class=\"prodI...</td>\n",
       "      <td>/product/Dom-Perignon-Lenny-Kravitz-Limited-Ed...</td>\n",
       "      <td>Dom Pérignon Vintage 2008 has been distinguish...</td>\n",
       "    </tr>\n",
       "    <tr>\n",
       "      <th>1</th>\n",
       "      <td>1</td>\n",
       "      <td>Louis Roederer Cristal Brut with Two Flutes an...</td>\n",
       "      <td>/product/images/fl_progressive/iqec7e0nf6mzyof...</td>\n",
       "      <td>329.99</td>\n",
       "      <td>/product/Louis-Roederer-Cristal-Brut-with-Two-...</td>\n",
       "      <td>&lt;div class=\"prodItem_wrap\"&gt;\\n&lt;div class=\"prodI...</td>\n",
       "      <td>/product/Louis-Roederer-Cristal-Brut-with-Two-...</td>\n",
       "      <td>Gift pack containing one bottle of 2008 Louis ...</td>\n",
       "    </tr>\n",
       "    <tr>\n",
       "      <th>2</th>\n",
       "      <td>2</td>\n",
       "      <td>Laurent-Perrier Cuvee Rose</td>\n",
       "      <td>/product/images/fl_progressive/10521.jpg</td>\n",
       "      <td>79.99</td>\n",
       "      <td>/product/Laurent-Perrier-Cuvee-Rose/10521</td>\n",
       "      <td>&lt;div class=\"prodItem_wrap\"&gt;\\n&lt;div class=\"prodI...</td>\n",
       "      <td>/product/Laurent-Perrier-Cuvee-Rose/10521</td>\n",
       "      <td>The Cuvée Rosé from Laurent-Perrier is the mos...</td>\n",
       "    </tr>\n",
       "    <tr>\n",
       "      <th>3</th>\n",
       "      <td>3</td>\n",
       "      <td>Piper-Heidsieck Cuvee Brut in Travel Case with...</td>\n",
       "      <td>/product/images/fl_progressive/aqi87aqobd3zc56...</td>\n",
       "      <td>79.99</td>\n",
       "      <td>/product/Piper-Heidsieck-Cuvee-Brut-in-Travel-...</td>\n",
       "      <td>&lt;div class=\"prodItem_wrap\"&gt;\\n&lt;div class=\"prodI...</td>\n",
       "      <td>/product/Piper-Heidsieck-Cuvee-Brut-in-Travel-...</td>\n",
       "      <td>#95 Wine Spectator Top 100 of 2019The Brut rep...</td>\n",
       "    </tr>\n",
       "    <tr>\n",
       "      <th>4</th>\n",
       "      <td>4</td>\n",
       "      <td>Clarendon Hills Astralis Syrah 2011</td>\n",
       "      <td>/product/images/fl_progressive/qajrqr4d6ttn2pf...</td>\n",
       "      <td>149.99</td>\n",
       "      <td>/product/Clarendon-Hills-Astralis-Syrah-2011/5...</td>\n",
       "      <td>&lt;div class=\"prodItem_wrap\"&gt;\\n&lt;div class=\"prodI...</td>\n",
       "      <td>/product/Clarendon-Hills-Astralis-Syrah-2011/5...</td>\n",
       "      <td>The pride of our portfolio, Clarendon Hills As...</td>\n",
       "    </tr>\n",
       "    <tr>\n",
       "      <th>...</th>\n",
       "      <td>...</td>\n",
       "      <td>...</td>\n",
       "      <td>...</td>\n",
       "      <td>...</td>\n",
       "      <td>...</td>\n",
       "      <td>...</td>\n",
       "      <td>...</td>\n",
       "      <td>...</td>\n",
       "    </tr>\n",
       "    <tr>\n",
       "      <th>125782</th>\n",
       "      <td>125782</td>\n",
       "      <td>Whitehall Lane Tre Leoni 2014</td>\n",
       "      <td>/product/images/fl_progressive/163997.jpg</td>\n",
       "      <td>32.99</td>\n",
       "      <td>/product/Whitehall-Lane-Tre-Leoni-2014/163997</td>\n",
       "      <td>&lt;div class=\"prodItem_wrap\"&gt;\\n&lt;div class=\"prodI...</td>\n",
       "      <td>/product/Whitehall-Lane-Tre-Leoni-2014/163997</td>\n",
       "      <td>This ferociously fun blend has depth, balance ...</td>\n",
       "    </tr>\n",
       "    <tr>\n",
       "      <th>125783</th>\n",
       "      <td>125783</td>\n",
       "      <td>Terrabianca Campaccio 2004</td>\n",
       "      <td>/product/images/fl_progressive/92799.jpg</td>\n",
       "      <td>39.99</td>\n",
       "      <td>/product/Terrabianca-Campaccio-2004/92799</td>\n",
       "      <td>&lt;div class=\"prodItem_wrap\"&gt;\\n&lt;div class=\"prodI...</td>\n",
       "      <td>/product/Terrabianca-Campaccio-2004/92799</td>\n",
       "      <td>\"The 2004 Campaccio (70% Sangiovese, 30% Caber...</td>\n",
       "    </tr>\n",
       "    <tr>\n",
       "      <th>125784</th>\n",
       "      <td>125784</td>\n",
       "      <td>Jean-Louis Chave Hermitage (1.5 Liter Magnum) ...</td>\n",
       "      <td>/product/images/fl_progressive/154317.jpg</td>\n",
       "      <td>899.97</td>\n",
       "      <td>/product/Jean-Louis-Chave-Hermitage-15-Liter-M...</td>\n",
       "      <td>&lt;div class=\"prodItem_wrap\"&gt;\\n&lt;div class=\"prodI...</td>\n",
       "      <td>/product/Jean-Louis-Chave-Hermitage-15-Liter-M...</td>\n",
       "      <td></td>\n",
       "    </tr>\n",
       "    <tr>\n",
       "      <th>125785</th>\n",
       "      <td>125785</td>\n",
       "      <td>Piper-Heidsieck Cuvee Brut (3.0 Liter Bottle -...</td>\n",
       "      <td>/product/images/fl_progressive/fwu9dzrdyyfpxvb...</td>\n",
       "      <td>399.97</td>\n",
       "      <td>/product/Piper-Heidsieck-Cuvee-Brut-30-Liter-B...</td>\n",
       "      <td>&lt;div class=\"prodItem_wrap\"&gt;\\n&lt;div class=\"prodI...</td>\n",
       "      <td>/product/Piper-Heidsieck-Cuvee-Brut-30-Liter-B...</td>\n",
       "      <td>#95 Wine Spectator Top 100 of 2019The Brut NV ...</td>\n",
       "    </tr>\n",
       "    <tr>\n",
       "      <th>125786</th>\n",
       "      <td>125786</td>\n",
       "      <td>Turley Estate Cabernet Sauvignon 2012</td>\n",
       "      <td>/product/images/fl_progressive/155880.jpg</td>\n",
       "      <td>64.99</td>\n",
       "      <td>/product/Turley-Estate-Cabernet-Sauvignon-2012...</td>\n",
       "      <td>&lt;div class=\"prodItem_wrap\"&gt;\\n&lt;div class=\"prodI...</td>\n",
       "      <td>/product/Turley-Estate-Cabernet-Sauvignon-2012...</td>\n",
       "      <td>Certified organic, Napa Valley single vineyard...</td>\n",
       "    </tr>\n",
       "  </tbody>\n",
       "</table>\n",
       "<p>125787 rows × 8 columns</p>\n",
       "</div>"
      ],
      "text/plain": [
       "         index                                               name  \\\n",
       "0            0  Dom Perignon Lenny Kravitz Limited Edition wit...   \n",
       "1            1  Louis Roederer Cristal Brut with Two Flutes an...   \n",
       "2            2                         Laurent-Perrier Cuvee Rose   \n",
       "3            3  Piper-Heidsieck Cuvee Brut in Travel Case with...   \n",
       "4            4                Clarendon Hills Astralis Syrah 2011   \n",
       "...        ...                                                ...   \n",
       "125782  125782                      Whitehall Lane Tre Leoni 2014   \n",
       "125783  125783                         Terrabianca Campaccio 2004   \n",
       "125784  125784  Jean-Louis Chave Hermitage (1.5 Liter Magnum) ...   \n",
       "125785  125785  Piper-Heidsieck Cuvee Brut (3.0 Liter Bottle -...   \n",
       "125786  125786              Turley Estate Cabernet Sauvignon 2012   \n",
       "\n",
       "                                               image_path   price  \\\n",
       "0       /product/images/fl_progressive/lmgmud1xsenlouw...  199.97   \n",
       "1       /product/images/fl_progressive/iqec7e0nf6mzyof...  329.99   \n",
       "2                /product/images/fl_progressive/10521.jpg   79.99   \n",
       "3       /product/images/fl_progressive/aqi87aqobd3zc56...   79.99   \n",
       "4       /product/images/fl_progressive/qajrqr4d6ttn2pf...  149.99   \n",
       "...                                                   ...     ...   \n",
       "125782          /product/images/fl_progressive/163997.jpg   32.99   \n",
       "125783           /product/images/fl_progressive/92799.jpg   39.99   \n",
       "125784          /product/images/fl_progressive/154317.jpg  899.97   \n",
       "125785  /product/images/fl_progressive/fwu9dzrdyyfpxvb...  399.97   \n",
       "125786          /product/images/fl_progressive/155880.jpg   64.99   \n",
       "\n",
       "                                                      url  \\\n",
       "0       /product/Dom-Perignon-Lenny-Kravitz-Limited-Ed...   \n",
       "1       /product/Louis-Roederer-Cristal-Brut-with-Two-...   \n",
       "2               /product/Laurent-Perrier-Cuvee-Rose/10521   \n",
       "3       /product/Piper-Heidsieck-Cuvee-Brut-in-Travel-...   \n",
       "4       /product/Clarendon-Hills-Astralis-Syrah-2011/5...   \n",
       "...                                                   ...   \n",
       "125782      /product/Whitehall-Lane-Tre-Leoni-2014/163997   \n",
       "125783          /product/Terrabianca-Campaccio-2004/92799   \n",
       "125784  /product/Jean-Louis-Chave-Hermitage-15-Liter-M...   \n",
       "125785  /product/Piper-Heidsieck-Cuvee-Brut-30-Liter-B...   \n",
       "125786  /product/Turley-Estate-Cabernet-Sauvignon-2012...   \n",
       "\n",
       "                                                 raw_html  \\\n",
       "0       <div class=\"prodItem_wrap\">\\n<div class=\"prodI...   \n",
       "1       <div class=\"prodItem_wrap\">\\n<div class=\"prodI...   \n",
       "2       <div class=\"prodItem_wrap\">\\n<div class=\"prodI...   \n",
       "3       <div class=\"prodItem_wrap\">\\n<div class=\"prodI...   \n",
       "4       <div class=\"prodItem_wrap\">\\n<div class=\"prodI...   \n",
       "...                                                   ...   \n",
       "125782  <div class=\"prodItem_wrap\">\\n<div class=\"prodI...   \n",
       "125783  <div class=\"prodItem_wrap\">\\n<div class=\"prodI...   \n",
       "125784  <div class=\"prodItem_wrap\">\\n<div class=\"prodI...   \n",
       "125785  <div class=\"prodItem_wrap\">\\n<div class=\"prodI...   \n",
       "125786  <div class=\"prodItem_wrap\">\\n<div class=\"prodI...   \n",
       "\n",
       "                                                 URL_name  \\\n",
       "0       /product/Dom-Perignon-Lenny-Kravitz-Limited-Ed...   \n",
       "1       /product/Louis-Roederer-Cristal-Brut-with-Two-...   \n",
       "2               /product/Laurent-Perrier-Cuvee-Rose/10521   \n",
       "3       /product/Piper-Heidsieck-Cuvee-Brut-in-Travel-...   \n",
       "4       /product/Clarendon-Hills-Astralis-Syrah-2011/5...   \n",
       "...                                                   ...   \n",
       "125782      /product/Whitehall-Lane-Tre-Leoni-2014/163997   \n",
       "125783          /product/Terrabianca-Campaccio-2004/92799   \n",
       "125784  /product/Jean-Louis-Chave-Hermitage-15-Liter-M...   \n",
       "125785  /product/Piper-Heidsieck-Cuvee-Brut-30-Liter-B...   \n",
       "125786  /product/Turley-Estate-Cabernet-Sauvignon-2012...   \n",
       "\n",
       "                                              description  \n",
       "0       Dom Pérignon Vintage 2008 has been distinguish...  \n",
       "1       Gift pack containing one bottle of 2008 Louis ...  \n",
       "2       The Cuvée Rosé from Laurent-Perrier is the mos...  \n",
       "3       #95 Wine Spectator Top 100 of 2019The Brut rep...  \n",
       "4       The pride of our portfolio, Clarendon Hills As...  \n",
       "...                                                   ...  \n",
       "125782  This ferociously fun blend has depth, balance ...  \n",
       "125783  \"The 2004 Campaccio (70% Sangiovese, 30% Caber...  \n",
       "125784                                                     \n",
       "125785  #95 Wine Spectator Top 100 of 2019The Brut NV ...  \n",
       "125786  Certified organic, Napa Valley single vineyard...  \n",
       "\n",
       "[125787 rows x 8 columns]"
      ]
     },
     "execution_count": 6,
     "metadata": {},
     "output_type": "execute_result"
    }
   ],
   "source": [
    "raw_df.reset_index()"
   ]
  },
  {
   "cell_type": "markdown",
   "metadata": {},
   "source": [
    "# Merge"
   ]
  },
  {
   "cell_type": "code",
   "execution_count": 7,
   "metadata": {
    "ExecuteTime": {
     "end_time": "2021-02-22T21:26:22.614765Z",
     "start_time": "2021-02-22T21:26:22.255768Z"
    }
   },
   "outputs": [],
   "source": [
    "merged_df = raw_df.reset_index()\\\n",
    "              .rename(columns={'index':'file_index'})\\\n",
    "              .merge(right=wine_df, how='left', on='name')\\\n",
    "              .drop_duplicates(subset='name')\n",
    "assert merged_df.shape[0] == raw_df.shape[0]"
   ]
  },
  {
   "cell_type": "code",
   "execution_count": 8,
   "metadata": {
    "ExecuteTime": {
     "end_time": "2021-02-22T21:26:23.027766Z",
     "start_time": "2021-02-22T21:26:22.646766Z"
    },
    "scrolled": true
   },
   "outputs": [
    {
     "name": "stdout",
     "output_type": "stream",
     "text": [
      "(89452, 17)\n"
     ]
    }
   ],
   "source": [
    "#wine_types = ['Red Wine', 'White Wine', 'Pink and Rosé', 'Sparkling & Champagne']\n",
    "wine_types = merged_df['category_2'].value_counts(normalize=True)[:15].index\n",
    "merged_df['origin_short'] = merged_df['origin'].str.split().str[-1]\n",
    "origins = merged_df['origin_short'].value_counts()[:10].index\n",
    "\n",
    "clean_df = merged_df[merged_df['category_2'].isin(wine_types)]\n",
    "clean_df = clean_df[clean_df['origin_short'].isin(origins)]\n",
    "print(clean_df.shape)"
   ]
  },
  {
   "cell_type": "markdown",
   "metadata": {},
   "source": [
    "# Iterate"
   ]
  },
  {
   "cell_type": "code",
   "execution_count": 9,
   "metadata": {
    "ExecuteTime": {
     "end_time": "2021-02-22T21:26:23.264765Z",
     "start_time": "2021-02-22T21:26:23.248767Z"
    }
   },
   "outputs": [
    {
     "name": "stdout",
     "output_type": "stream",
     "text": [
      "(89452,)\n"
     ]
    }
   ],
   "source": [
    "labels_to_keep = clean_df['file_index'].values\n",
    "print(labels_to_keep.shape)"
   ]
  },
  {
   "cell_type": "code",
   "execution_count": 100,
   "metadata": {
    "ExecuteTime": {
     "end_time": "2021-02-21T18:42:03.447181Z",
     "start_time": "2021-02-21T18:24:05.558590Z"
    }
   },
   "outputs": [
    {
     "name": "stderr",
     "output_type": "stream",
     "text": [
      "100%|███████████████████████| 89452/89452 [17:57<00:00, 82.99it/s]\n"
     ]
    }
   ],
   "source": [
    "source_dir = 'D:/data/sorted/label/'\n",
    "dest_dir = 'D:/data/sorted/labels_clean/'\n",
    "\n",
    "not_found = []\n",
    "for label in tqdm(labels_to_keep):\n",
    "  filename = f\"label_{label}.jpg\"\n",
    "  try:\n",
    "    shutil.copy(\n",
    "      src=os.path.join(source_dir, filename),\n",
    "      dst=os.path.join(dest_dir, filename)\n",
    "    )\n",
    "  except:\n",
    "    not_found.append(filename)"
   ]
  },
  {
   "cell_type": "code",
   "execution_count": 102,
   "metadata": {
    "ExecuteTime": {
     "end_time": "2021-02-22T21:07:15.466429Z",
     "start_time": "2021-02-22T21:07:15.452430Z"
    }
   },
   "outputs": [
    {
     "data": {
      "text/plain": [
       "14798"
      ]
     },
     "execution_count": 102,
     "metadata": {},
     "output_type": "execute_result"
    }
   ],
   "source": [
    "not_found.__len__()"
   ]
  },
  {
   "cell_type": "markdown",
   "metadata": {},
   "source": [
    "# Create metadata"
   ]
  },
  {
   "cell_type": "code",
   "execution_count": 11,
   "metadata": {
    "ExecuteTime": {
     "end_time": "2021-02-22T22:29:20.584110Z",
     "start_time": "2021-02-22T22:29:20.558112Z"
    }
   },
   "outputs": [
    {
     "data": {
      "text/html": [
       "<div>\n",
       "<style scoped>\n",
       "    .dataframe tbody tr th:only-of-type {\n",
       "        vertical-align: middle;\n",
       "    }\n",
       "\n",
       "    .dataframe tbody tr th {\n",
       "        vertical-align: top;\n",
       "    }\n",
       "\n",
       "    .dataframe thead th {\n",
       "        text-align: right;\n",
       "    }\n",
       "</style>\n",
       "<table border=\"1\" class=\"dataframe\">\n",
       "  <thead>\n",
       "    <tr style=\"text-align: right;\">\n",
       "      <th></th>\n",
       "      <th>file_index</th>\n",
       "      <th>name</th>\n",
       "      <th>image_path</th>\n",
       "      <th>price_x</th>\n",
       "      <th>url</th>\n",
       "      <th>raw_html</th>\n",
       "      <th>URL_name</th>\n",
       "      <th>description_x</th>\n",
       "      <th>description_y</th>\n",
       "      <th>price_y</th>\n",
       "      <th>category_1</th>\n",
       "      <th>category_2</th>\n",
       "      <th>origin</th>\n",
       "      <th>wine_size_value</th>\n",
       "      <th>wine_size_units</th>\n",
       "      <th>wine_abv</th>\n",
       "      <th>origin_short</th>\n",
       "    </tr>\n",
       "  </thead>\n",
       "  <tbody>\n",
       "    <tr>\n",
       "      <th>4</th>\n",
       "      <td>4</td>\n",
       "      <td>Clarendon Hills Astralis Syrah 2011</td>\n",
       "      <td>/product/images/fl_progressive/qajrqr4d6ttn2pf...</td>\n",
       "      <td>149.99</td>\n",
       "      <td>/product/Clarendon-Hills-Astralis-Syrah-2011/5...</td>\n",
       "      <td>&lt;div class=\"prodItem_wrap\"&gt;\\n&lt;div class=\"prodI...</td>\n",
       "      <td>/product/Clarendon-Hills-Astralis-Syrah-2011/5...</td>\n",
       "      <td>The pride of our portfolio, Clarendon Hills As...</td>\n",
       "      <td>The grapes for Astralis were selected from low...</td>\n",
       "      <td>129.99</td>\n",
       "      <td>Red Wine</td>\n",
       "      <td>Syrah/Shiraz</td>\n",
       "      <td>from McLaren Vale, South Australia, Australia</td>\n",
       "      <td>750</td>\n",
       "      <td>ML</td>\n",
       "      <td>14</td>\n",
       "      <td>Australia</td>\n",
       "    </tr>\n",
       "    <tr>\n",
       "      <th>5</th>\n",
       "      <td>5</td>\n",
       "      <td>Yalumba Patchwork Shiraz 2014</td>\n",
       "      <td>/product/images/fl_progressive/167055.jpg</td>\n",
       "      <td>16.99</td>\n",
       "      <td>/product/Yalumba-Patchwork-Shiraz-2014/167055</td>\n",
       "      <td>&lt;div class=\"prodItem_wrap\"&gt;\\n&lt;div class=\"prodI...</td>\n",
       "      <td>/product/Yalumba-Patchwork-Shiraz-2014/167055</td>\n",
       "      <td>This wine shows all the hallmarks of Barossa S...</td>\n",
       "      <td>Pair with barbecued pork spare ribs with a da...</td>\n",
       "      <td>16.99</td>\n",
       "      <td>Red Wine</td>\n",
       "      <td>Syrah/Shiraz</td>\n",
       "      <td>from Barossa, South Australia, Australia</td>\n",
       "      <td>750</td>\n",
       "      <td>ML</td>\n",
       "      <td>13.5</td>\n",
       "      <td>Australia</td>\n",
       "    </tr>\n",
       "  </tbody>\n",
       "</table>\n",
       "</div>"
      ],
      "text/plain": [
       "   file_index                                 name  \\\n",
       "4           4  Clarendon Hills Astralis Syrah 2011   \n",
       "5           5        Yalumba Patchwork Shiraz 2014   \n",
       "\n",
       "                                          image_path price_x  \\\n",
       "4  /product/images/fl_progressive/qajrqr4d6ttn2pf...  149.99   \n",
       "5          /product/images/fl_progressive/167055.jpg   16.99   \n",
       "\n",
       "                                                 url  \\\n",
       "4  /product/Clarendon-Hills-Astralis-Syrah-2011/5...   \n",
       "5      /product/Yalumba-Patchwork-Shiraz-2014/167055   \n",
       "\n",
       "                                            raw_html  \\\n",
       "4  <div class=\"prodItem_wrap\">\\n<div class=\"prodI...   \n",
       "5  <div class=\"prodItem_wrap\">\\n<div class=\"prodI...   \n",
       "\n",
       "                                            URL_name  \\\n",
       "4  /product/Clarendon-Hills-Astralis-Syrah-2011/5...   \n",
       "5      /product/Yalumba-Patchwork-Shiraz-2014/167055   \n",
       "\n",
       "                                       description_x  \\\n",
       "4  The pride of our portfolio, Clarendon Hills As...   \n",
       "5  This wine shows all the hallmarks of Barossa S...   \n",
       "\n",
       "                                       description_y price_y category_1  \\\n",
       "4  The grapes for Astralis were selected from low...  129.99   Red Wine   \n",
       "5   Pair with barbecued pork spare ribs with a da...   16.99   Red Wine   \n",
       "\n",
       "     category_2                                          origin  \\\n",
       "4  Syrah/Shiraz   from McLaren Vale, South Australia, Australia   \n",
       "5  Syrah/Shiraz        from Barossa, South Australia, Australia   \n",
       "\n",
       "  wine_size_value wine_size_units wine_abv origin_short  \n",
       "4             750              ML       14    Australia  \n",
       "5             750              ML     13.5    Australia  "
      ]
     },
     "execution_count": 11,
     "metadata": {},
     "output_type": "execute_result"
    }
   ],
   "source": [
    "clean_df.head(2)"
   ]
  },
  {
   "cell_type": "code",
   "execution_count": null,
   "metadata": {},
   "outputs": [],
   "source": []
  }
 ],
 "metadata": {
  "kernelspec": {
   "display_name": "Python 3",
   "language": "python",
   "name": "python3"
  },
  "language_info": {
   "codemirror_mode": {
    "name": "ipython",
    "version": 3
   },
   "file_extension": ".py",
   "mimetype": "text/x-python",
   "name": "python",
   "nbconvert_exporter": "python",
   "pygments_lexer": "ipython3",
   "version": "3.6.10"
  },
  "varInspector": {
   "cols": {
    "lenName": 16,
    "lenType": 16,
    "lenVar": 40
   },
   "kernels_config": {
    "python": {
     "delete_cmd_postfix": "",
     "delete_cmd_prefix": "del ",
     "library": "var_list.py",
     "varRefreshCmd": "print(var_dic_list())"
    },
    "r": {
     "delete_cmd_postfix": ") ",
     "delete_cmd_prefix": "rm(",
     "library": "var_list.r",
     "varRefreshCmd": "cat(var_dic_list()) "
    }
   },
   "types_to_exclude": [
    "module",
    "function",
    "builtin_function_or_method",
    "instance",
    "_Feature"
   ],
   "window_display": false
  }
 },
 "nbformat": 4,
 "nbformat_minor": 4
}
