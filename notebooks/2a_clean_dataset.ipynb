{
 "cells": [
  {
   "cell_type": "code",
   "execution_count": 1,
   "metadata": {
    "ExecuteTime": {
     "end_time": "2020-08-21T20:24:18.108905Z",
     "start_time": "2020-08-21T20:24:17.456545Z"
    }
   },
   "outputs": [],
   "source": [
    "import numpy as np\n",
    "import pandas as pd\n",
    "import six\n",
    "import time\n",
    "import os\n",
    "from tqdm import tqdm\n",
    "import pandas as pd\n",
    "import bs4\n",
    "\n",
    "import random\n",
    "import string"
   ]
  },
  {
   "cell_type": "markdown",
   "metadata": {},
   "source": [
    "# Load raw scraped dataset"
   ]
  },
  {
   "cell_type": "code",
   "execution_count": 2,
   "metadata": {
    "ExecuteTime": {
     "end_time": "2020-08-21T20:24:19.915907Z",
     "start_time": "2020-08-21T20:24:18.124905Z"
    }
   },
   "outputs": [
    {
     "name": "stdout",
     "output_type": "stream",
     "text": [
      "(130348, 5)\n"
     ]
    }
   ],
   "source": [
    "scraped_data = pd.read_pickle('data/scraped/scrape.pickle.gz', compression='gzip')\n",
    "print(scraped_data.shape)"
   ]
  },
  {
   "cell_type": "code",
   "execution_count": 11,
   "metadata": {
    "ExecuteTime": {
     "end_time": "2020-08-21T20:27:31.722536Z",
     "start_time": "2020-08-21T20:27:31.638537Z"
    }
   },
   "outputs": [
    {
     "data": {
      "text/html": [
       "<div>\n",
       "<style scoped>\n",
       "    .dataframe tbody tr th:only-of-type {\n",
       "        vertical-align: middle;\n",
       "    }\n",
       "\n",
       "    .dataframe tbody tr th {\n",
       "        vertical-align: top;\n",
       "    }\n",
       "\n",
       "    .dataframe thead th {\n",
       "        text-align: right;\n",
       "    }\n",
       "</style>\n",
       "<table border=\"1\" class=\"dataframe\">\n",
       "  <thead>\n",
       "    <tr style=\"text-align: right;\">\n",
       "      <th></th>\n",
       "      <th>index</th>\n",
       "      <th>name</th>\n",
       "      <th>image_path</th>\n",
       "      <th>price</th>\n",
       "      <th>url</th>\n",
       "      <th>raw_html</th>\n",
       "    </tr>\n",
       "  </thead>\n",
       "  <tbody>\n",
       "    <tr>\n",
       "      <th>21456</th>\n",
       "      <td>8</td>\n",
       "      <td>Trapiche Falling Star Chardonnay 2000</td>\n",
       "      <td>/product/images/fl_progressive/38447.jpg</td>\n",
       "      <td>7.99</td>\n",
       "      <td>/product/Trapiche-Falling-Star-Chardonnay-2000...</td>\n",
       "      <td>&lt;div class=\"prodItem_wrap\"&gt;\\n&lt;div class=\"prodI...</td>\n",
       "    </tr>\n",
       "    <tr>\n",
       "      <th>21901</th>\n",
       "      <td>3</td>\n",
       "      <td>Trapiche Falling Star Chardonnay 2002</td>\n",
       "      <td>/static/images/nolabel.gif</td>\n",
       "      <td>7.99</td>\n",
       "      <td>/product/Trapiche-Falling-Star-Chardonnay-2002...</td>\n",
       "      <td>&lt;div class=\"prodItem_wrap\"&gt;\\n&lt;div class=\"prodI...</td>\n",
       "    </tr>\n",
       "    <tr>\n",
       "      <th>27805</th>\n",
       "      <td>7</td>\n",
       "      <td>Trapiche Falling Star Chardonnay 2001</td>\n",
       "      <td>/product/images/fl_progressive/52965.jpg</td>\n",
       "      <td>7.99</td>\n",
       "      <td>/product/Trapiche-Falling-Star-Chardonnay-2001...</td>\n",
       "      <td>&lt;div class=\"prodItem_wrap\"&gt;\\n&lt;div class=\"prodI...</td>\n",
       "    </tr>\n",
       "    <tr>\n",
       "      <th>28631</th>\n",
       "      <td>8</td>\n",
       "      <td>Trapiche Falling Star Chardonnay 2003</td>\n",
       "      <td>/product/images/fl_progressive/80073.jpg</td>\n",
       "      <td>7.99</td>\n",
       "      <td>/product/Trapiche-Falling-Star-Chardonnay-2003...</td>\n",
       "      <td>&lt;div class=\"prodItem_wrap\"&gt;\\n&lt;div class=\"prodI...</td>\n",
       "    </tr>\n",
       "  </tbody>\n",
       "</table>\n",
       "</div>"
      ],
      "text/plain": [
       "       index                                   name  \\\n",
       "21456      8  Trapiche Falling Star Chardonnay 2000   \n",
       "21901      3  Trapiche Falling Star Chardonnay 2002   \n",
       "27805      7  Trapiche Falling Star Chardonnay 2001   \n",
       "28631      8  Trapiche Falling Star Chardonnay 2003   \n",
       "\n",
       "                                     image_path price  \\\n",
       "21456  /product/images/fl_progressive/38447.jpg  7.99   \n",
       "21901                /static/images/nolabel.gif  7.99   \n",
       "27805  /product/images/fl_progressive/52965.jpg  7.99   \n",
       "28631  /product/images/fl_progressive/80073.jpg  7.99   \n",
       "\n",
       "                                                     url  \\\n",
       "21456  /product/Trapiche-Falling-Star-Chardonnay-2000...   \n",
       "21901  /product/Trapiche-Falling-Star-Chardonnay-2002...   \n",
       "27805  /product/Trapiche-Falling-Star-Chardonnay-2001...   \n",
       "28631  /product/Trapiche-Falling-Star-Chardonnay-2003...   \n",
       "\n",
       "                                                raw_html  \n",
       "21456  <div class=\"prodItem_wrap\">\\n<div class=\"prodI...  \n",
       "21901  <div class=\"prodItem_wrap\">\\n<div class=\"prodI...  \n",
       "27805  <div class=\"prodItem_wrap\">\\n<div class=\"prodI...  \n",
       "28631  <div class=\"prodItem_wrap\">\\n<div class=\"prodI...  "
      ]
     },
     "execution_count": 11,
     "metadata": {},
     "output_type": "execute_result"
    }
   ],
   "source": [
    "df = scraped_data.reset_index()\n",
    "df[df['url'].str.contains('Trapiche-Falling-Star-Ch')]"
   ]
  },
  {
   "cell_type": "code",
   "execution_count": 3,
   "metadata": {
    "ExecuteTime": {
     "end_time": "2020-08-18T22:56:32.284077Z",
     "start_time": "2020-08-18T22:56:32.269097Z"
    }
   },
   "outputs": [
    {
     "data": {
      "text/html": [
       "<div>\n",
       "<style scoped>\n",
       "    .dataframe tbody tr th:only-of-type {\n",
       "        vertical-align: middle;\n",
       "    }\n",
       "\n",
       "    .dataframe tbody tr th {\n",
       "        vertical-align: top;\n",
       "    }\n",
       "\n",
       "    .dataframe thead th {\n",
       "        text-align: right;\n",
       "    }\n",
       "</style>\n",
       "<table border=\"1\" class=\"dataframe\">\n",
       "  <thead>\n",
       "    <tr style=\"text-align: right;\">\n",
       "      <th></th>\n",
       "      <th>name</th>\n",
       "      <th>image_path</th>\n",
       "      <th>price</th>\n",
       "      <th>url</th>\n",
       "      <th>raw_html</th>\n",
       "    </tr>\n",
       "  </thead>\n",
       "  <tbody>\n",
       "    <tr>\n",
       "      <th>0</th>\n",
       "      <td>Dom Perignon Lenny Kravitz Limited Edition wit...</td>\n",
       "      <td>/product/images/fl_progressive/lmgmud1xsenlouw...</td>\n",
       "      <td>199.97</td>\n",
       "      <td>/product/Dom-Perignon-Lenny-Kravitz-Limited-Ed...</td>\n",
       "      <td>&lt;div class=\"prodItem_wrap\"&gt;\\n&lt;div class=\"prodI...</td>\n",
       "    </tr>\n",
       "    <tr>\n",
       "      <th>1</th>\n",
       "      <td>Louis Roederer Cristal Brut with Two Flutes an...</td>\n",
       "      <td>/product/images/fl_progressive/iqec7e0nf6mzyof...</td>\n",
       "      <td>329.99</td>\n",
       "      <td>/product/Louis-Roederer-Cristal-Brut-with-Two-...</td>\n",
       "      <td>&lt;div class=\"prodItem_wrap\"&gt;\\n&lt;div class=\"prodI...</td>\n",
       "    </tr>\n",
       "    <tr>\n",
       "      <th>2</th>\n",
       "      <td>Laurent-Perrier Cuvee Rose</td>\n",
       "      <td>/product/images/fl_progressive/10521.jpg</td>\n",
       "      <td>79.99</td>\n",
       "      <td>/product/Laurent-Perrier-Cuvee-Rose/10521</td>\n",
       "      <td>&lt;div class=\"prodItem_wrap\"&gt;\\n&lt;div class=\"prodI...</td>\n",
       "    </tr>\n",
       "    <tr>\n",
       "      <th>3</th>\n",
       "      <td>Piper-Heidsieck Cuvee Brut in Travel Case with...</td>\n",
       "      <td>/product/images/fl_progressive/aqi87aqobd3zc56...</td>\n",
       "      <td>79.99</td>\n",
       "      <td>/product/Piper-Heidsieck-Cuvee-Brut-in-Travel-...</td>\n",
       "      <td>&lt;div class=\"prodItem_wrap\"&gt;\\n&lt;div class=\"prodI...</td>\n",
       "    </tr>\n",
       "    <tr>\n",
       "      <th>4</th>\n",
       "      <td>Clarendon Hills Astralis Syrah 2011</td>\n",
       "      <td>/product/images/fl_progressive/qajrqr4d6ttn2pf...</td>\n",
       "      <td>149.99</td>\n",
       "      <td>/product/Clarendon-Hills-Astralis-Syrah-2011/5...</td>\n",
       "      <td>&lt;div class=\"prodItem_wrap\"&gt;\\n&lt;div class=\"prodI...</td>\n",
       "    </tr>\n",
       "  </tbody>\n",
       "</table>\n",
       "</div>"
      ],
      "text/plain": [
       "                                                name  \\\n",
       "0  Dom Perignon Lenny Kravitz Limited Edition wit...   \n",
       "1  Louis Roederer Cristal Brut with Two Flutes an...   \n",
       "2                         Laurent-Perrier Cuvee Rose   \n",
       "3  Piper-Heidsieck Cuvee Brut in Travel Case with...   \n",
       "4                Clarendon Hills Astralis Syrah 2011   \n",
       "\n",
       "                                          image_path   price  \\\n",
       "0  /product/images/fl_progressive/lmgmud1xsenlouw...  199.97   \n",
       "1  /product/images/fl_progressive/iqec7e0nf6mzyof...  329.99   \n",
       "2           /product/images/fl_progressive/10521.jpg   79.99   \n",
       "3  /product/images/fl_progressive/aqi87aqobd3zc56...   79.99   \n",
       "4  /product/images/fl_progressive/qajrqr4d6ttn2pf...  149.99   \n",
       "\n",
       "                                                 url  \\\n",
       "0  /product/Dom-Perignon-Lenny-Kravitz-Limited-Ed...   \n",
       "1  /product/Louis-Roederer-Cristal-Brut-with-Two-...   \n",
       "2          /product/Laurent-Perrier-Cuvee-Rose/10521   \n",
       "3  /product/Piper-Heidsieck-Cuvee-Brut-in-Travel-...   \n",
       "4  /product/Clarendon-Hills-Astralis-Syrah-2011/5...   \n",
       "\n",
       "                                            raw_html  \n",
       "0  <div class=\"prodItem_wrap\">\\n<div class=\"prodI...  \n",
       "1  <div class=\"prodItem_wrap\">\\n<div class=\"prodI...  \n",
       "2  <div class=\"prodItem_wrap\">\\n<div class=\"prodI...  \n",
       "3  <div class=\"prodItem_wrap\">\\n<div class=\"prodI...  \n",
       "4  <div class=\"prodItem_wrap\">\\n<div class=\"prodI...  "
      ]
     },
     "execution_count": 3,
     "metadata": {},
     "output_type": "execute_result"
    }
   ],
   "source": [
    "scraped_data.head()"
   ]
  },
  {
   "cell_type": "markdown",
   "metadata": {},
   "source": [
    "# Load scraped descriptions"
   ]
  },
  {
   "cell_type": "code",
   "execution_count": 5,
   "metadata": {
    "ExecuteTime": {
     "end_time": "2020-08-18T22:58:02.135388Z",
     "start_time": "2020-08-18T22:57:40.150339Z"
    }
   },
   "outputs": [
    {
     "name": "stdout",
     "output_type": "stream",
     "text": [
      "(147851, 2)\n"
     ]
    }
   ],
   "source": [
    "descriptions = pd.read_csv(\n",
    "  \"data/scraped/descriptions.csv.gz\",\n",
    "  sep='|',\n",
    "  header=None,\n",
    "  names=['URL_name', 'desc_raw'],\n",
    "  encoding='latin1',\n",
    "  compression='gzip')\n",
    "\n",
    "descriptions['description'] = descriptions['desc_raw'].apply(\n",
    "    lambda x: bs4.BeautifulSoup(str(x), 'lxml').get_text()\n",
    "    )\n",
    "\n",
    "descriptions.drop('desc_raw', axis=1, inplace=True)\n",
    "\n",
    "print(descriptions.shape)"
   ]
  },
  {
   "cell_type": "code",
   "execution_count": 7,
   "metadata": {
    "ExecuteTime": {
     "end_time": "2020-08-18T23:00:37.331056Z",
     "start_time": "2020-08-18T23:00:37.314948Z"
    }
   },
   "outputs": [
    {
     "data": {
      "text/html": [
       "<div>\n",
       "<style scoped>\n",
       "    .dataframe tbody tr th:only-of-type {\n",
       "        vertical-align: middle;\n",
       "    }\n",
       "\n",
       "    .dataframe tbody tr th {\n",
       "        vertical-align: top;\n",
       "    }\n",
       "\n",
       "    .dataframe thead th {\n",
       "        text-align: right;\n",
       "    }\n",
       "</style>\n",
       "<table border=\"1\" class=\"dataframe\">\n",
       "  <thead>\n",
       "    <tr style=\"text-align: right;\">\n",
       "      <th></th>\n",
       "      <th>URL_name</th>\n",
       "      <th>description</th>\n",
       "    </tr>\n",
       "  </thead>\n",
       "  <tbody>\n",
       "    <tr>\n",
       "      <th>0</th>\n",
       "      <td>/product/Dom-Perignon-Lenny-Kravitz-Limited-Ed...</td>\n",
       "      <td>Dom Pérignon Vintage 2008 has been distinguish...</td>\n",
       "    </tr>\n",
       "    <tr>\n",
       "      <th>1</th>\n",
       "      <td>/product/Louis-Roederer-Cristal-Brut-with-Two-...</td>\n",
       "      <td>Gift pack containing one bottle of 2008 Louis ...</td>\n",
       "    </tr>\n",
       "    <tr>\n",
       "      <th>2</th>\n",
       "      <td>/product/Laurent-Perrier-Cuvee-Rose/10521</td>\n",
       "      <td>The Cuvée Rosé from Laurent-Perrier is the mos...</td>\n",
       "    </tr>\n",
       "  </tbody>\n",
       "</table>\n",
       "</div>"
      ],
      "text/plain": [
       "                                            URL_name  \\\n",
       "0  /product/Dom-Perignon-Lenny-Kravitz-Limited-Ed...   \n",
       "1  /product/Louis-Roederer-Cristal-Brut-with-Two-...   \n",
       "2          /product/Laurent-Perrier-Cuvee-Rose/10521   \n",
       "\n",
       "                                         description  \n",
       "0  Dom Pérignon Vintage 2008 has been distinguish...  \n",
       "1  Gift pack containing one bottle of 2008 Louis ...  \n",
       "2  The Cuvée Rosé from Laurent-Perrier is the mos...  "
      ]
     },
     "execution_count": 7,
     "metadata": {},
     "output_type": "execute_result"
    }
   ],
   "source": [
    "descriptions.head(3)"
   ]
  },
  {
   "cell_type": "markdown",
   "metadata": {},
   "source": [
    "# Clean up descriptions"
   ]
  },
  {
   "cell_type": "code",
   "execution_count": 9,
   "metadata": {
    "ExecuteTime": {
     "end_time": "2020-08-18T23:01:21.786554Z",
     "start_time": "2020-08-18T23:01:21.720236Z"
    }
   },
   "outputs": [],
   "source": [
    "descriptions['description'] = descriptions['description'].apply(\n",
    "  lambda x: x.lstrip().rstrip()\n",
    ")\n"
   ]
  },
  {
   "cell_type": "code",
   "execution_count": 14,
   "metadata": {
    "ExecuteTime": {
     "end_time": "2020-08-18T23:01:47.503127Z",
     "start_time": "2020-08-18T23:01:47.498125Z"
    }
   },
   "outputs": [
    {
     "data": {
      "text/plain": [
       "URL_name       /product/Louis-Roederer-Cristal-Brut-with-Two-...\n",
       "description    Gift pack containing one bottle of 2008 Louis ...\n",
       "Name: 1, dtype: object"
      ]
     },
     "execution_count": 14,
     "metadata": {},
     "output_type": "execute_result"
    }
   ],
   "source": [
    "descriptions.iloc[1,:]"
   ]
  },
  {
   "cell_type": "markdown",
   "metadata": {},
   "source": [
    "# Merge datasets"
   ]
  },
  {
   "cell_type": "code",
   "execution_count": 15,
   "metadata": {
    "ExecuteTime": {
     "end_time": "2020-08-18T23:02:13.628729Z",
     "start_time": "2020-08-18T23:02:11.348762Z"
    }
   },
   "outputs": [
    {
     "name": "stdout",
     "output_type": "stream",
     "text": [
      "(129818, 7)\n",
      "(125787, 7)\n"
     ]
    }
   ],
   "source": [
    "scraped_data.drop_duplicates(inplace=True)\n",
    "descriptions.drop_duplicates(inplace=True)\n",
    "\n",
    "combined = pd.merge(\n",
    "    left=scraped_data,\n",
    "    right=descriptions,\n",
    "    how='left',\n",
    "    left_on='url',\n",
    "    right_on='URL_name'\n",
    "    )\n",
    "\n",
    "print(combined.shape)\n",
    "\n",
    "combined.drop_duplicates(subset='name',inplace=True)\n",
    "combined.reset_index(drop=True, inplace=True)\n",
    "print(combined.shape)"
   ]
  },
  {
   "cell_type": "markdown",
   "metadata": {},
   "source": [
    "# Save"
   ]
  },
  {
   "cell_type": "code",
   "execution_count": 16,
   "metadata": {
    "ExecuteTime": {
     "end_time": "2020-08-18T23:02:29.641946Z",
     "start_time": "2020-08-18T23:02:18.718916Z"
    }
   },
   "outputs": [],
   "source": [
    "combined.to_pickle('data/scraped/scraped_with_decs.pickle.gzip', compression='gzip')"
   ]
  },
  {
   "cell_type": "code",
   "execution_count": null,
   "metadata": {},
   "outputs": [],
   "source": []
  }
 ],
 "metadata": {
  "kernelspec": {
   "display_name": "Python 3",
   "language": "python",
   "name": "python3"
  },
  "language_info": {
   "codemirror_mode": {
    "name": "ipython",
    "version": 3
   },
   "file_extension": ".py",
   "mimetype": "text/x-python",
   "name": "python",
   "nbconvert_exporter": "python",
   "pygments_lexer": "ipython3",
   "version": "3.6.10"
  },
  "varInspector": {
   "cols": {
    "lenName": 16,
    "lenType": 16,
    "lenVar": 40
   },
   "kernels_config": {
    "python": {
     "delete_cmd_postfix": "",
     "delete_cmd_prefix": "del ",
     "library": "var_list.py",
     "varRefreshCmd": "print(var_dic_list())"
    },
    "r": {
     "delete_cmd_postfix": ") ",
     "delete_cmd_prefix": "rm(",
     "library": "var_list.r",
     "varRefreshCmd": "cat(var_dic_list()) "
    }
   },
   "types_to_exclude": [
    "module",
    "function",
    "builtin_function_or_method",
    "instance",
    "_Feature"
   ],
   "window_display": false
  }
 },
 "nbformat": 4,
 "nbformat_minor": 4
}
