{
 "cells": [
  {
   "cell_type": "code",
   "execution_count": 1,
   "metadata": {
    "ExecuteTime": {
     "end_time": "2021-02-23T17:45:51.362709Z",
     "start_time": "2021-02-23T17:45:51.089711Z"
    }
   },
   "outputs": [],
   "source": [
    "import os\n",
    "import shutil\n",
    "import urllib.request\n",
    "import pandas as pd\n",
    "from tqdm import tqdm\n",
    "from time import sleep"
   ]
  },
  {
   "cell_type": "markdown",
   "metadata": {},
   "source": [
    "# Load"
   ]
  },
  {
   "cell_type": "code",
   "execution_count": 2,
   "metadata": {
    "ExecuteTime": {
     "end_time": "2021-02-23T17:45:51.785904Z",
     "start_time": "2021-02-23T17:45:51.484904Z"
    }
   },
   "outputs": [
    {
     "name": "stdout",
     "output_type": "stream",
     "text": [
      "(123516, 9)\n"
     ]
    }
   ],
   "source": [
    "wine_df = pd.read_pickle('data/best_wine_df_ever.pickle.gzip', compression='gzip')\n",
    "print(wine_df.shape)"
   ]
  },
  {
   "cell_type": "code",
   "execution_count": 3,
   "metadata": {
    "ExecuteTime": {
     "end_time": "2021-02-23T17:45:51.846664Z",
     "start_time": "2021-02-23T17:45:51.831665Z"
    }
   },
   "outputs": [
    {
     "data": {
      "text/html": [
       "<div>\n",
       "<style scoped>\n",
       "    .dataframe tbody tr th:only-of-type {\n",
       "        vertical-align: middle;\n",
       "    }\n",
       "\n",
       "    .dataframe tbody tr th {\n",
       "        vertical-align: top;\n",
       "    }\n",
       "\n",
       "    .dataframe thead th {\n",
       "        text-align: right;\n",
       "    }\n",
       "</style>\n",
       "<table border=\"1\" class=\"dataframe\">\n",
       "  <thead>\n",
       "    <tr style=\"text-align: right;\">\n",
       "      <th></th>\n",
       "      <th>name</th>\n",
       "      <th>description</th>\n",
       "      <th>price</th>\n",
       "      <th>category_1</th>\n",
       "      <th>category_2</th>\n",
       "      <th>origin</th>\n",
       "      <th>wine_size_value</th>\n",
       "      <th>wine_size_units</th>\n",
       "      <th>wine_abv</th>\n",
       "    </tr>\n",
       "  </thead>\n",
       "  <tbody>\n",
       "    <tr>\n",
       "      <th>0</th>\n",
       "      <td>Zuccardi Zeta (1.5 Liter Magnum) 2012</td>\n",
       "      <td>Blend: 87% Malbec, 13% Cabernet Sauvignon</td>\n",
       "      <td>84.97</td>\n",
       "      <td>Red Wine</td>\n",
       "      <td>Bordeaux Red Blends</td>\n",
       "      <td>from Mendoza, Argentina</td>\n",
       "      <td>1500</td>\n",
       "      <td>ML</td>\n",
       "      <td>15</td>\n",
       "    </tr>\n",
       "    <tr>\n",
       "      <th>0</th>\n",
       "      <td>Zuccardi Zeta 2012</td>\n",
       "      <td>Blend: 87% Malbec, 13% Cabernet Sauvignon</td>\n",
       "      <td>43.99</td>\n",
       "      <td>Red Wine</td>\n",
       "      <td>Bordeaux Red Blends</td>\n",
       "      <td>from Mendoza, Argentina</td>\n",
       "      <td>750</td>\n",
       "      <td>ML</td>\n",
       "      <td>15</td>\n",
       "    </tr>\n",
       "  </tbody>\n",
       "</table>\n",
       "</div>"
      ],
      "text/plain": [
       "                                    name  \\\n",
       "0  Zuccardi Zeta (1.5 Liter Magnum) 2012   \n",
       "0                     Zuccardi Zeta 2012   \n",
       "\n",
       "                                 description  price category_1  \\\n",
       "0  Blend: 87% Malbec, 13% Cabernet Sauvignon  84.97   Red Wine   \n",
       "0  Blend: 87% Malbec, 13% Cabernet Sauvignon  43.99   Red Wine   \n",
       "\n",
       "            category_2                    origin wine_size_value  \\\n",
       "0  Bordeaux Red Blends   from Mendoza, Argentina            1500   \n",
       "0  Bordeaux Red Blends   from Mendoza, Argentina             750   \n",
       "\n",
       "  wine_size_units wine_abv  \n",
       "0              ML       15  \n",
       "0              ML       15  "
      ]
     },
     "execution_count": 3,
     "metadata": {},
     "output_type": "execute_result"
    }
   ],
   "source": [
    "wine_df.tail(2)"
   ]
  },
  {
   "cell_type": "code",
   "execution_count": 4,
   "metadata": {
    "ExecuteTime": {
     "end_time": "2021-02-23T17:45:53.712665Z",
     "start_time": "2021-02-23T17:45:51.895665Z"
    }
   },
   "outputs": [
    {
     "name": "stdout",
     "output_type": "stream",
     "text": [
      "(125787, 7)\n"
     ]
    }
   ],
   "source": [
    "raw_df = pd.read_pickle('data/scraped/scraped_with_decs.pickle.gzip', compression='gzip')\n",
    "print(raw_df.shape)"
   ]
  },
  {
   "cell_type": "code",
   "execution_count": 5,
   "metadata": {
    "ExecuteTime": {
     "end_time": "2021-02-23T17:45:53.775664Z",
     "start_time": "2021-02-23T17:45:53.761664Z"
    }
   },
   "outputs": [
    {
     "data": {
      "text/html": [
       "<div>\n",
       "<style scoped>\n",
       "    .dataframe tbody tr th:only-of-type {\n",
       "        vertical-align: middle;\n",
       "    }\n",
       "\n",
       "    .dataframe tbody tr th {\n",
       "        vertical-align: top;\n",
       "    }\n",
       "\n",
       "    .dataframe thead th {\n",
       "        text-align: right;\n",
       "    }\n",
       "</style>\n",
       "<table border=\"1\" class=\"dataframe\">\n",
       "  <thead>\n",
       "    <tr style=\"text-align: right;\">\n",
       "      <th></th>\n",
       "      <th>name</th>\n",
       "      <th>image_path</th>\n",
       "      <th>price</th>\n",
       "      <th>url</th>\n",
       "      <th>raw_html</th>\n",
       "      <th>URL_name</th>\n",
       "      <th>description</th>\n",
       "    </tr>\n",
       "  </thead>\n",
       "  <tbody>\n",
       "    <tr>\n",
       "      <th>125785</th>\n",
       "      <td>Piper-Heidsieck Cuvee Brut (3.0 Liter Bottle -...</td>\n",
       "      <td>/product/images/fl_progressive/fwu9dzrdyyfpxvb...</td>\n",
       "      <td>399.97</td>\n",
       "      <td>/product/Piper-Heidsieck-Cuvee-Brut-30-Liter-B...</td>\n",
       "      <td>&lt;div class=\"prodItem_wrap\"&gt;\\n&lt;div class=\"prodI...</td>\n",
       "      <td>/product/Piper-Heidsieck-Cuvee-Brut-30-Liter-B...</td>\n",
       "      <td>#95 Wine Spectator Top 100 of 2019The Brut NV ...</td>\n",
       "    </tr>\n",
       "    <tr>\n",
       "      <th>125786</th>\n",
       "      <td>Turley Estate Cabernet Sauvignon 2012</td>\n",
       "      <td>/product/images/fl_progressive/155880.jpg</td>\n",
       "      <td>64.99</td>\n",
       "      <td>/product/Turley-Estate-Cabernet-Sauvignon-2012...</td>\n",
       "      <td>&lt;div class=\"prodItem_wrap\"&gt;\\n&lt;div class=\"prodI...</td>\n",
       "      <td>/product/Turley-Estate-Cabernet-Sauvignon-2012...</td>\n",
       "      <td>Certified organic, Napa Valley single vineyard...</td>\n",
       "    </tr>\n",
       "  </tbody>\n",
       "</table>\n",
       "</div>"
      ],
      "text/plain": [
       "                                                     name  \\\n",
       "125785  Piper-Heidsieck Cuvee Brut (3.0 Liter Bottle -...   \n",
       "125786              Turley Estate Cabernet Sauvignon 2012   \n",
       "\n",
       "                                               image_path   price  \\\n",
       "125785  /product/images/fl_progressive/fwu9dzrdyyfpxvb...  399.97   \n",
       "125786          /product/images/fl_progressive/155880.jpg   64.99   \n",
       "\n",
       "                                                      url  \\\n",
       "125785  /product/Piper-Heidsieck-Cuvee-Brut-30-Liter-B...   \n",
       "125786  /product/Turley-Estate-Cabernet-Sauvignon-2012...   \n",
       "\n",
       "                                                 raw_html  \\\n",
       "125785  <div class=\"prodItem_wrap\">\\n<div class=\"prodI...   \n",
       "125786  <div class=\"prodItem_wrap\">\\n<div class=\"prodI...   \n",
       "\n",
       "                                                 URL_name  \\\n",
       "125785  /product/Piper-Heidsieck-Cuvee-Brut-30-Liter-B...   \n",
       "125786  /product/Turley-Estate-Cabernet-Sauvignon-2012...   \n",
       "\n",
       "                                              description  \n",
       "125785  #95 Wine Spectator Top 100 of 2019The Brut NV ...  \n",
       "125786  Certified organic, Napa Valley single vineyard...  "
      ]
     },
     "execution_count": 5,
     "metadata": {},
     "output_type": "execute_result"
    }
   ],
   "source": [
    "raw_df.tail(2)"
   ]
  },
  {
   "cell_type": "markdown",
   "metadata": {},
   "source": [
    "# Merge"
   ]
  },
  {
   "cell_type": "code",
   "execution_count": 6,
   "metadata": {
    "ExecuteTime": {
     "end_time": "2021-02-23T17:45:54.171664Z",
     "start_time": "2021-02-23T17:45:53.824665Z"
    }
   },
   "outputs": [],
   "source": [
    "merged_df = raw_df.reset_index()\\\n",
    "              .rename(columns={'index':'file_index'})\\\n",
    "              .merge(right=wine_df, how='left', on='name')\\\n",
    "              .drop_duplicates(subset='name')\n",
    "assert merged_df.shape[0] == raw_df.shape[0]"
   ]
  },
  {
   "cell_type": "code",
   "execution_count": 7,
   "metadata": {
    "ExecuteTime": {
     "end_time": "2021-02-23T17:45:54.646107Z",
     "start_time": "2021-02-23T17:45:54.267667Z"
    },
    "scrolled": true
   },
   "outputs": [
    {
     "name": "stdout",
     "output_type": "stream",
     "text": [
      "(89452, 17)\n"
     ]
    }
   ],
   "source": [
    "#wine_types = ['Red Wine', 'White Wine', 'Pink and Rosé', 'Sparkling & Champagne']\n",
    "wine_types = merged_df['category_2'].value_counts(normalize=True)[:15].index\n",
    "merged_df['origin_short'] = merged_df['origin'].str.split().str[-1]\n",
    "origins = merged_df['origin_short'].value_counts()[:10].index\n",
    "\n",
    "clean_df = merged_df[merged_df['category_2'].isin(wine_types)]\n",
    "clean_df = clean_df[clean_df['origin_short'].isin(origins)]\n",
    "print(clean_df.shape)"
   ]
  },
  {
   "cell_type": "markdown",
   "metadata": {},
   "source": [
    "# Iterate"
   ]
  },
  {
   "cell_type": "code",
   "execution_count": 9,
   "metadata": {
    "ExecuteTime": {
     "end_time": "2021-02-22T21:26:23.264765Z",
     "start_time": "2021-02-22T21:26:23.248767Z"
    }
   },
   "outputs": [
    {
     "name": "stdout",
     "output_type": "stream",
     "text": [
      "(89452,)\n"
     ]
    }
   ],
   "source": [
    "labels_to_keep = clean_df['file_index'].values\n",
    "print(labels_to_keep.shape)"
   ]
  },
  {
   "cell_type": "code",
   "execution_count": 100,
   "metadata": {
    "ExecuteTime": {
     "end_time": "2021-02-21T18:42:03.447181Z",
     "start_time": "2021-02-21T18:24:05.558590Z"
    }
   },
   "outputs": [
    {
     "name": "stderr",
     "output_type": "stream",
     "text": [
      "100%|███████████████████████| 89452/89452 [17:57<00:00, 82.99it/s]\n"
     ]
    }
   ],
   "source": [
    "source_dir = 'D:/data/sorted/label/'\n",
    "dest_dir = 'D:/data/sorted/labels_clean/'\n",
    "5/0\n",
    "not_found = []\n",
    "for label in tqdm(labels_to_keep):\n",
    "  filename = f\"label_{label}.jpg\"\n",
    "  try:\n",
    "    shutil.copy(\n",
    "      src=os.path.join(source_dir, filename),\n",
    "      dst=os.path.join(dest_dir, filename)\n",
    "    )\n",
    "  except:\n",
    "    not_found.append(filename)"
   ]
  },
  {
   "cell_type": "code",
   "execution_count": 102,
   "metadata": {
    "ExecuteTime": {
     "end_time": "2021-02-22T21:07:15.466429Z",
     "start_time": "2021-02-22T21:07:15.452430Z"
    }
   },
   "outputs": [
    {
     "data": {
      "text/plain": [
       "14798"
      ]
     },
     "execution_count": 102,
     "metadata": {},
     "output_type": "execute_result"
    }
   ],
   "source": [
    "not_found.__len__()"
   ]
  },
  {
   "cell_type": "markdown",
   "metadata": {},
   "source": [
    "# Create metadata"
   ]
  },
  {
   "cell_type": "code",
   "execution_count": 74,
   "metadata": {
    "ExecuteTime": {
     "end_time": "2021-02-23T23:50:15.284371Z",
     "start_time": "2021-02-23T23:50:15.265373Z"
    }
   },
   "outputs": [
    {
     "data": {
      "text/html": [
       "<div>\n",
       "<style scoped>\n",
       "    .dataframe tbody tr th:only-of-type {\n",
       "        vertical-align: middle;\n",
       "    }\n",
       "\n",
       "    .dataframe tbody tr th {\n",
       "        vertical-align: top;\n",
       "    }\n",
       "\n",
       "    .dataframe thead th {\n",
       "        text-align: right;\n",
       "    }\n",
       "</style>\n",
       "<table border=\"1\" class=\"dataframe\">\n",
       "  <thead>\n",
       "    <tr style=\"text-align: right;\">\n",
       "      <th></th>\n",
       "      <th>file_index</th>\n",
       "      <th>name</th>\n",
       "      <th>image_path</th>\n",
       "      <th>price_x</th>\n",
       "      <th>url</th>\n",
       "      <th>raw_html</th>\n",
       "      <th>URL_name</th>\n",
       "      <th>description_x</th>\n",
       "      <th>description_y</th>\n",
       "      <th>price_y</th>\n",
       "      <th>category_1</th>\n",
       "      <th>category_2</th>\n",
       "      <th>origin</th>\n",
       "      <th>wine_size_value</th>\n",
       "      <th>wine_size_units</th>\n",
       "      <th>wine_abv</th>\n",
       "      <th>origin_short</th>\n",
       "      <th>cat_2_int</th>\n",
       "    </tr>\n",
       "  </thead>\n",
       "  <tbody>\n",
       "    <tr>\n",
       "      <th>4</th>\n",
       "      <td>4</td>\n",
       "      <td>Clarendon Hills Astralis Syrah 2011</td>\n",
       "      <td>/product/images/fl_progressive/qajrqr4d6ttn2pf...</td>\n",
       "      <td>149.99</td>\n",
       "      <td>/product/Clarendon-Hills-Astralis-Syrah-2011/5...</td>\n",
       "      <td>&lt;div class=\"prodItem_wrap\"&gt;\\n&lt;div class=\"prodI...</td>\n",
       "      <td>/product/Clarendon-Hills-Astralis-Syrah-2011/5...</td>\n",
       "      <td>The pride of our portfolio, Clarendon Hills As...</td>\n",
       "      <td>The grapes for Astralis were selected from low...</td>\n",
       "      <td>129.99</td>\n",
       "      <td>Red Wine</td>\n",
       "      <td>Syrah/Shiraz</td>\n",
       "      <td>from McLaren Vale, South Australia, Australia</td>\n",
       "      <td>750</td>\n",
       "      <td>ML</td>\n",
       "      <td>14</td>\n",
       "      <td>Australia</td>\n",
       "      <td>14</td>\n",
       "    </tr>\n",
       "    <tr>\n",
       "      <th>5</th>\n",
       "      <td>5</td>\n",
       "      <td>Yalumba Patchwork Shiraz 2014</td>\n",
       "      <td>/product/images/fl_progressive/167055.jpg</td>\n",
       "      <td>16.99</td>\n",
       "      <td>/product/Yalumba-Patchwork-Shiraz-2014/167055</td>\n",
       "      <td>&lt;div class=\"prodItem_wrap\"&gt;\\n&lt;div class=\"prodI...</td>\n",
       "      <td>/product/Yalumba-Patchwork-Shiraz-2014/167055</td>\n",
       "      <td>This wine shows all the hallmarks of Barossa S...</td>\n",
       "      <td>Pair with barbecued pork spare ribs with a da...</td>\n",
       "      <td>16.99</td>\n",
       "      <td>Red Wine</td>\n",
       "      <td>Syrah/Shiraz</td>\n",
       "      <td>from Barossa, South Australia, Australia</td>\n",
       "      <td>750</td>\n",
       "      <td>ML</td>\n",
       "      <td>13.5</td>\n",
       "      <td>Australia</td>\n",
       "      <td>14</td>\n",
       "    </tr>\n",
       "  </tbody>\n",
       "</table>\n",
       "</div>"
      ],
      "text/plain": [
       "   file_index                                 name  \\\n",
       "4           4  Clarendon Hills Astralis Syrah 2011   \n",
       "5           5        Yalumba Patchwork Shiraz 2014   \n",
       "\n",
       "                                          image_path price_x  \\\n",
       "4  /product/images/fl_progressive/qajrqr4d6ttn2pf...  149.99   \n",
       "5          /product/images/fl_progressive/167055.jpg   16.99   \n",
       "\n",
       "                                                 url  \\\n",
       "4  /product/Clarendon-Hills-Astralis-Syrah-2011/5...   \n",
       "5      /product/Yalumba-Patchwork-Shiraz-2014/167055   \n",
       "\n",
       "                                            raw_html  \\\n",
       "4  <div class=\"prodItem_wrap\">\\n<div class=\"prodI...   \n",
       "5  <div class=\"prodItem_wrap\">\\n<div class=\"prodI...   \n",
       "\n",
       "                                            URL_name  \\\n",
       "4  /product/Clarendon-Hills-Astralis-Syrah-2011/5...   \n",
       "5      /product/Yalumba-Patchwork-Shiraz-2014/167055   \n",
       "\n",
       "                                       description_x  \\\n",
       "4  The pride of our portfolio, Clarendon Hills As...   \n",
       "5  This wine shows all the hallmarks of Barossa S...   \n",
       "\n",
       "                                       description_y price_y category_1  \\\n",
       "4  The grapes for Astralis were selected from low...  129.99   Red Wine   \n",
       "5   Pair with barbecued pork spare ribs with a da...   16.99   Red Wine   \n",
       "\n",
       "     category_2                                          origin  \\\n",
       "4  Syrah/Shiraz   from McLaren Vale, South Australia, Australia   \n",
       "5  Syrah/Shiraz        from Barossa, South Australia, Australia   \n",
       "\n",
       "  wine_size_value wine_size_units wine_abv origin_short  cat_2_int  \n",
       "4             750              ML       14    Australia         14  \n",
       "5             750              ML     13.5    Australia         14  "
      ]
     },
     "execution_count": 74,
     "metadata": {},
     "output_type": "execute_result"
    }
   ],
   "source": [
    "clean_df.head(2)"
   ]
  },
  {
   "cell_type": "code",
   "execution_count": 78,
   "metadata": {
    "ExecuteTime": {
     "end_time": "2021-02-23T23:53:37.974997Z",
     "start_time": "2021-02-23T23:53:37.927999Z"
    }
   },
   "outputs": [],
   "source": [
    "category_mapping = dict([(y,x+1) for x,y in enumerate(sorted(set(clean_df['category_2'])))])\n",
    "clean_df['cat_2_int'] = [category_mapping[x] for x in clean_df['category_2']]"
   ]
  },
  {
   "cell_type": "code",
   "execution_count": 79,
   "metadata": {
    "ExecuteTime": {
     "end_time": "2021-02-23T23:54:14.336862Z",
     "start_time": "2021-02-23T23:53:38.708134Z"
    }
   },
   "outputs": [
    {
     "name": "stderr",
     "output_type": "stream",
     "text": [
      "100%|█████████| 74655/74655 [00:35<00:00, 2129.99it/s]\n"
     ]
    }
   ],
   "source": [
    "directory = 'D:/data/sorted/labels_clean/'\n",
    "\n",
    "label_metadata = {}\n",
    "label_metadata['labels'] = []\n",
    "for entry in tqdm(os.listdir(directory)):\n",
    "  filename = os.path.split(entry)[-1]\n",
    "  if filename.split('.')[1] != 'jpg':\n",
    "    continue\n",
    "  file_index = filename.split('_')[-1].split('.jpg')[0]\n",
    "  assert file_index.isdigit()\n",
    "  wine_row = clean_df[clean_df['file_index'] == int(file_index)]\n",
    "  assert wine_row.shape[0] == 1\n",
    "  label_metadata['labels'].append((\n",
    "    filename, \n",
    "    int(wine_row['cat_2_int'].values[0])\n",
    "    #wine_row['origin_short'].values[0]\n",
    "  ))\n",
    "\n",
    "# Dump to JSON\n",
    "with open('D:/data/sorted/labels_clean/dataset.json', 'w') as outfile:\n",
    "    json.dump(label_metadata, outfile)"
   ]
  }
 ],
 "metadata": {
  "kernelspec": {
   "display_name": "Python 3",
   "language": "python",
   "name": "python3"
  },
  "language_info": {
   "codemirror_mode": {
    "name": "ipython",
    "version": 3
   },
   "file_extension": ".py",
   "mimetype": "text/x-python",
   "name": "python",
   "nbconvert_exporter": "python",
   "pygments_lexer": "ipython3",
   "version": "3.6.10"
  },
  "varInspector": {
   "cols": {
    "lenName": 16,
    "lenType": 16,
    "lenVar": 40
   },
   "kernels_config": {
    "python": {
     "delete_cmd_postfix": "",
     "delete_cmd_prefix": "del ",
     "library": "var_list.py",
     "varRefreshCmd": "print(var_dic_list())"
    },
    "r": {
     "delete_cmd_postfix": ") ",
     "delete_cmd_prefix": "rm(",
     "library": "var_list.r",
     "varRefreshCmd": "cat(var_dic_list()) "
    }
   },
   "types_to_exclude": [
    "module",
    "function",
    "builtin_function_or_method",
    "instance",
    "_Feature"
   ],
   "window_display": false
  }
 },
 "nbformat": 4,
 "nbformat_minor": 4
}
