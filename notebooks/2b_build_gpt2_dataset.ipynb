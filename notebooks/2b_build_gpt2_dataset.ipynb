{
 "cells": [
  {
   "cell_type": "code",
   "execution_count": 1,
   "metadata": {
    "ExecuteTime": {
     "end_time": "2021-04-01T21:21:10.132189Z",
     "start_time": "2021-04-01T21:21:08.755189Z"
    }
   },
   "outputs": [],
   "source": [
    "import numpy as np\n",
    "import pandas as pd\n",
    "from sklearn.model_selection import train_test_split"
   ]
  },
  {
   "cell_type": "code",
   "execution_count": 3,
   "metadata": {
    "ExecuteTime": {
     "end_time": "2021-04-01T21:21:24.939029Z",
     "start_time": "2021-04-01T21:21:24.594031Z"
    }
   },
   "outputs": [
    {
     "data": {
      "text/html": [
       "<div>\n",
       "<style scoped>\n",
       "    .dataframe tbody tr th:only-of-type {\n",
       "        vertical-align: middle;\n",
       "    }\n",
       "\n",
       "    .dataframe tbody tr th {\n",
       "        vertical-align: top;\n",
       "    }\n",
       "\n",
       "    .dataframe thead th {\n",
       "        text-align: right;\n",
       "    }\n",
       "</style>\n",
       "<table border=\"1\" class=\"dataframe\">\n",
       "  <thead>\n",
       "    <tr style=\"text-align: right;\">\n",
       "      <th></th>\n",
       "      <th>name</th>\n",
       "      <th>description</th>\n",
       "      <th>price</th>\n",
       "      <th>category_1</th>\n",
       "      <th>category_2</th>\n",
       "      <th>origin</th>\n",
       "      <th>wine_size_value</th>\n",
       "      <th>wine_size_units</th>\n",
       "      <th>wine_abv</th>\n",
       "    </tr>\n",
       "  </thead>\n",
       "  <tbody>\n",
       "    <tr>\n",
       "      <th>0</th>\n",
       "      <td>1000 Stories Bourbon Barrel Aged Batch Blue Ca...</td>\n",
       "      <td>This is a very special, limited release of 100...</td>\n",
       "      <td>18.99</td>\n",
       "      <td>Red Wine</td>\n",
       "      <td>Carignan</td>\n",
       "      <td>from Mendocino, California</td>\n",
       "      <td>750</td>\n",
       "      <td>ML</td>\n",
       "      <td>14.7</td>\n",
       "    </tr>\n",
       "    <tr>\n",
       "      <th>0</th>\n",
       "      <td>1000 Stories Bourbon Barrel Aged Chardonnay 2018</td>\n",
       "      <td>The 2018 Chardonnay reflects the classic Calif...</td>\n",
       "      <td>17.99</td>\n",
       "      <td>White Wine</td>\n",
       "      <td>Chardonnay</td>\n",
       "      <td>from California</td>\n",
       "      <td>750</td>\n",
       "      <td>ML</td>\n",
       "      <td>14</td>\n",
       "    </tr>\n",
       "    <tr>\n",
       "      <th>0</th>\n",
       "      <td>1000 Stories Bourbon Barrel Aged Gold Rush Red...</td>\n",
       "      <td>The California Gold Rush was a period of coura...</td>\n",
       "      <td>17.99</td>\n",
       "      <td>Red Wine</td>\n",
       "      <td>Other Red Blends</td>\n",
       "      <td>from California</td>\n",
       "      <td>750</td>\n",
       "      <td>ML</td>\n",
       "      <td>14.9</td>\n",
       "    </tr>\n",
       "  </tbody>\n",
       "</table>\n",
       "</div>"
      ],
      "text/plain": [
       "                                                name  \\\n",
       "0  1000 Stories Bourbon Barrel Aged Batch Blue Ca...   \n",
       "0   1000 Stories Bourbon Barrel Aged Chardonnay 2018   \n",
       "0  1000 Stories Bourbon Barrel Aged Gold Rush Red...   \n",
       "\n",
       "                                         description  price  category_1  \\\n",
       "0  This is a very special, limited release of 100...  18.99    Red Wine   \n",
       "0  The 2018 Chardonnay reflects the classic Calif...  17.99  White Wine   \n",
       "0  The California Gold Rush was a period of coura...  17.99    Red Wine   \n",
       "\n",
       "         category_2                       origin wine_size_value  \\\n",
       "0          Carignan   from Mendocino, California             750   \n",
       "0        Chardonnay              from California             750   \n",
       "0  Other Red Blends              from California             750   \n",
       "\n",
       "  wine_size_units wine_abv  \n",
       "0              ML     14.7  \n",
       "0              ML       14  \n",
       "0              ML     14.9  "
      ]
     },
     "execution_count": 3,
     "metadata": {},
     "output_type": "execute_result"
    }
   ],
   "source": [
    "scraped = pd.read_pickle('../data/cleaned_dataset.gzip', compression='gzip')\n",
    "scraped.head(3)"
   ]
  },
  {
   "cell_type": "code",
   "execution_count": 4,
   "metadata": {
    "ExecuteTime": {
     "end_time": "2021-04-01T21:21:28.377614Z",
     "start_time": "2021-04-01T21:21:27.481615Z"
    }
   },
   "outputs": [],
   "source": [
    "scraped = scraped.replace(r'\\\\n',' ', regex=True) "
   ]
  },
  {
   "cell_type": "code",
   "execution_count": 5,
   "metadata": {
    "ExecuteTime": {
     "end_time": "2021-04-01T21:21:28.990613Z",
     "start_time": "2021-04-01T21:21:28.881614Z"
    },
    "scrolled": true
   },
   "outputs": [],
   "source": [
    "gpt2_txt = scraped.copy()\n",
    "\n",
    "gpt2_txt['start_token'] = \"<|startoftext|>\"\n",
    "gpt2_txt['end_token'] = \"<|endoftext|>\"\n",
    "gpt2_txt['prompt_token'] = \"[prompt]\"\n",
    "gpt2_txt['response_token'] = \"[response]\"\n",
    "gpt2_txt['category_1_token'] = \"[category_1]\"\n",
    "gpt2_txt['category_2_token'] = \"[category_2]\"\n",
    "gpt2_txt['origin_token'] = \"[origin]\"\n",
    "gpt2_txt['description_token'] = \"[description]\"\n",
    "\n",
    "gpt2_txt = gpt2_txt[\n",
    "  [\n",
    "    'start_token', \n",
    "    'prompt_token', \n",
    "    'name', \n",
    "    'response_token',\n",
    "    'category_1_token',\n",
    "    'category_1',\n",
    "    'category_2_token',\n",
    "    'category_2',\n",
    "    'origin_token',\n",
    "    'origin',\n",
    "    'description_token',\n",
    "    'description',\n",
    "    'end_token'\n",
    "  ]\n",
    "]"
   ]
  },
  {
   "cell_type": "code",
   "execution_count": 6,
   "metadata": {
    "ExecuteTime": {
     "end_time": "2021-04-01T21:21:30.454614Z",
     "start_time": "2021-04-01T21:21:30.435614Z"
    }
   },
   "outputs": [
    {
     "data": {
      "text/html": [
       "<div>\n",
       "<style scoped>\n",
       "    .dataframe tbody tr th:only-of-type {\n",
       "        vertical-align: middle;\n",
       "    }\n",
       "\n",
       "    .dataframe tbody tr th {\n",
       "        vertical-align: top;\n",
       "    }\n",
       "\n",
       "    .dataframe thead th {\n",
       "        text-align: right;\n",
       "    }\n",
       "</style>\n",
       "<table border=\"1\" class=\"dataframe\">\n",
       "  <thead>\n",
       "    <tr style=\"text-align: right;\">\n",
       "      <th></th>\n",
       "      <th>start_token</th>\n",
       "      <th>prompt_token</th>\n",
       "      <th>name</th>\n",
       "      <th>response_token</th>\n",
       "      <th>category_1_token</th>\n",
       "      <th>category_1</th>\n",
       "      <th>category_2_token</th>\n",
       "      <th>category_2</th>\n",
       "      <th>origin_token</th>\n",
       "      <th>origin</th>\n",
       "      <th>description_token</th>\n",
       "      <th>description</th>\n",
       "      <th>end_token</th>\n",
       "    </tr>\n",
       "  </thead>\n",
       "  <tbody>\n",
       "    <tr>\n",
       "      <th>0</th>\n",
       "      <td>&lt;|startoftext|&gt;</td>\n",
       "      <td>[prompt]</td>\n",
       "      <td>1000 Stories Bourbon Barrel Aged Batch Blue Ca...</td>\n",
       "      <td>[response]</td>\n",
       "      <td>[category_1]</td>\n",
       "      <td>Red Wine</td>\n",
       "      <td>[category_2]</td>\n",
       "      <td>Carignan</td>\n",
       "      <td>[origin]</td>\n",
       "      <td>from Mendocino, California</td>\n",
       "      <td>[description]</td>\n",
       "      <td>This is a very special, limited release of 100...</td>\n",
       "      <td>&lt;|endoftext|&gt;</td>\n",
       "    </tr>\n",
       "    <tr>\n",
       "      <th>0</th>\n",
       "      <td>&lt;|startoftext|&gt;</td>\n",
       "      <td>[prompt]</td>\n",
       "      <td>1000 Stories Bourbon Barrel Aged Chardonnay 2018</td>\n",
       "      <td>[response]</td>\n",
       "      <td>[category_1]</td>\n",
       "      <td>White Wine</td>\n",
       "      <td>[category_2]</td>\n",
       "      <td>Chardonnay</td>\n",
       "      <td>[origin]</td>\n",
       "      <td>from California</td>\n",
       "      <td>[description]</td>\n",
       "      <td>The 2018 Chardonnay reflects the classic Calif...</td>\n",
       "      <td>&lt;|endoftext|&gt;</td>\n",
       "    </tr>\n",
       "    <tr>\n",
       "      <th>0</th>\n",
       "      <td>&lt;|startoftext|&gt;</td>\n",
       "      <td>[prompt]</td>\n",
       "      <td>1000 Stories Bourbon Barrel Aged Gold Rush Red...</td>\n",
       "      <td>[response]</td>\n",
       "      <td>[category_1]</td>\n",
       "      <td>Red Wine</td>\n",
       "      <td>[category_2]</td>\n",
       "      <td>Other Red Blends</td>\n",
       "      <td>[origin]</td>\n",
       "      <td>from California</td>\n",
       "      <td>[description]</td>\n",
       "      <td>The California Gold Rush was a period of coura...</td>\n",
       "      <td>&lt;|endoftext|&gt;</td>\n",
       "    </tr>\n",
       "  </tbody>\n",
       "</table>\n",
       "</div>"
      ],
      "text/plain": [
       "       start_token prompt_token  \\\n",
       "0  <|startoftext|>     [prompt]   \n",
       "0  <|startoftext|>     [prompt]   \n",
       "0  <|startoftext|>     [prompt]   \n",
       "\n",
       "                                                name response_token  \\\n",
       "0  1000 Stories Bourbon Barrel Aged Batch Blue Ca...     [response]   \n",
       "0   1000 Stories Bourbon Barrel Aged Chardonnay 2018     [response]   \n",
       "0  1000 Stories Bourbon Barrel Aged Gold Rush Red...     [response]   \n",
       "\n",
       "  category_1_token  category_1 category_2_token        category_2  \\\n",
       "0     [category_1]    Red Wine     [category_2]          Carignan   \n",
       "0     [category_1]  White Wine     [category_2]        Chardonnay   \n",
       "0     [category_1]    Red Wine     [category_2]  Other Red Blends   \n",
       "\n",
       "  origin_token                       origin description_token  \\\n",
       "0     [origin]   from Mendocino, California     [description]   \n",
       "0     [origin]              from California     [description]   \n",
       "0     [origin]              from California     [description]   \n",
       "\n",
       "                                         description      end_token  \n",
       "0  This is a very special, limited release of 100...  <|endoftext|>  \n",
       "0  The 2018 Chardonnay reflects the classic Calif...  <|endoftext|>  \n",
       "0  The California Gold Rush was a period of coura...  <|endoftext|>  "
      ]
     },
     "execution_count": 6,
     "metadata": {},
     "output_type": "execute_result"
    }
   ],
   "source": [
    "gpt2_txt.head(3)"
   ]
  },
  {
   "cell_type": "markdown",
   "metadata": {},
   "source": [
    "# Quality cleanup"
   ]
  },
  {
   "cell_type": "code",
   "execution_count": 8,
   "metadata": {
    "ExecuteTime": {
     "end_time": "2021-04-01T21:21:54.111754Z",
     "start_time": "2021-04-01T21:21:53.778752Z"
    }
   },
   "outputs": [
    {
     "name": "stdout",
     "output_type": "stream",
     "text": [
      "(123516, 13)\n",
      "(123516, 13)\n",
      "(123450, 13)\n"
     ]
    }
   ],
   "source": [
    "print(gpt2_txt.shape)\n",
    "gpt2_txt_clean = gpt2_txt[~gpt2_txt['name'].str.lower().str.contains('gift')]\n",
    "print(gpt2_txt_clean.shape)\n",
    "gpt2_txt_clean = gpt2_txt_clean[~gpt2_txt_clean['description'].str.lower().str.contains('gift')]\n",
    "print(gpt2_txt_clean.shape)\n"
   ]
  },
  {
   "cell_type": "code",
   "execution_count": 9,
   "metadata": {
    "ExecuteTime": {
     "end_time": "2021-04-01T21:21:54.546755Z",
     "start_time": "2021-04-01T21:21:54.527754Z"
    }
   },
   "outputs": [
    {
     "data": {
      "text/html": [
       "<div>\n",
       "<style scoped>\n",
       "    .dataframe tbody tr th:only-of-type {\n",
       "        vertical-align: middle;\n",
       "    }\n",
       "\n",
       "    .dataframe tbody tr th {\n",
       "        vertical-align: top;\n",
       "    }\n",
       "\n",
       "    .dataframe thead th {\n",
       "        text-align: right;\n",
       "    }\n",
       "</style>\n",
       "<table border=\"1\" class=\"dataframe\">\n",
       "  <thead>\n",
       "    <tr style=\"text-align: right;\">\n",
       "      <th></th>\n",
       "      <th>start_token</th>\n",
       "      <th>prompt_token</th>\n",
       "      <th>name</th>\n",
       "      <th>response_token</th>\n",
       "      <th>category_1_token</th>\n",
       "      <th>category_1</th>\n",
       "      <th>category_2_token</th>\n",
       "      <th>category_2</th>\n",
       "      <th>origin_token</th>\n",
       "      <th>origin</th>\n",
       "      <th>description_token</th>\n",
       "      <th>description</th>\n",
       "      <th>end_token</th>\n",
       "    </tr>\n",
       "  </thead>\n",
       "  <tbody>\n",
       "    <tr>\n",
       "      <th>0</th>\n",
       "      <td>&lt;|startoftext|&gt;</td>\n",
       "      <td>[prompt]</td>\n",
       "      <td>1000 Stories Bourbon Barrel Aged Batch Blue Ca...</td>\n",
       "      <td>[response]</td>\n",
       "      <td>[category_1]</td>\n",
       "      <td>Red Wine</td>\n",
       "      <td>[category_2]</td>\n",
       "      <td>Carignan</td>\n",
       "      <td>[origin]</td>\n",
       "      <td>from Mendocino, California</td>\n",
       "      <td>[description]</td>\n",
       "      <td>This is a very special, limited release of 100...</td>\n",
       "      <td>&lt;|endoftext|&gt;</td>\n",
       "    </tr>\n",
       "    <tr>\n",
       "      <th>0</th>\n",
       "      <td>&lt;|startoftext|&gt;</td>\n",
       "      <td>[prompt]</td>\n",
       "      <td>1000 Stories Bourbon Barrel Aged Chardonnay 2018</td>\n",
       "      <td>[response]</td>\n",
       "      <td>[category_1]</td>\n",
       "      <td>White Wine</td>\n",
       "      <td>[category_2]</td>\n",
       "      <td>Chardonnay</td>\n",
       "      <td>[origin]</td>\n",
       "      <td>from California</td>\n",
       "      <td>[description]</td>\n",
       "      <td>The 2018 Chardonnay reflects the classic Calif...</td>\n",
       "      <td>&lt;|endoftext|&gt;</td>\n",
       "    </tr>\n",
       "    <tr>\n",
       "      <th>0</th>\n",
       "      <td>&lt;|startoftext|&gt;</td>\n",
       "      <td>[prompt]</td>\n",
       "      <td>1000 Stories Bourbon Barrel Aged Gold Rush Red...</td>\n",
       "      <td>[response]</td>\n",
       "      <td>[category_1]</td>\n",
       "      <td>Red Wine</td>\n",
       "      <td>[category_2]</td>\n",
       "      <td>Other Red Blends</td>\n",
       "      <td>[origin]</td>\n",
       "      <td>from California</td>\n",
       "      <td>[description]</td>\n",
       "      <td>The California Gold Rush was a period of coura...</td>\n",
       "      <td>&lt;|endoftext|&gt;</td>\n",
       "    </tr>\n",
       "    <tr>\n",
       "      <th>0</th>\n",
       "      <td>&lt;|startoftext|&gt;</td>\n",
       "      <td>[prompt]</td>\n",
       "      <td>1000 Stories Bourbon Barrel Aged Prospectors' ...</td>\n",
       "      <td>[response]</td>\n",
       "      <td>[category_1]</td>\n",
       "      <td>Red Wine</td>\n",
       "      <td>[category_2]</td>\n",
       "      <td>Cabernet Sauvignon</td>\n",
       "      <td>[origin]</td>\n",
       "      <td>from California</td>\n",
       "      <td>[description]</td>\n",
       "      <td>The result is a signature 1000 Stories wine: l...</td>\n",
       "      <td>&lt;|endoftext|&gt;</td>\n",
       "    </tr>\n",
       "    <tr>\n",
       "      <th>0</th>\n",
       "      <td>&lt;|startoftext|&gt;</td>\n",
       "      <td>[prompt]</td>\n",
       "      <td>1000 Stories Bourbon Barrel Aged Zinfandel 2013</td>\n",
       "      <td>[response]</td>\n",
       "      <td>[category_1]</td>\n",
       "      <td>Red Wine</td>\n",
       "      <td>[category_2]</td>\n",
       "      <td>Zinfandel</td>\n",
       "      <td>[origin]</td>\n",
       "      <td>from North Coast, California</td>\n",
       "      <td>[description]</td>\n",
       "      <td>The wine has a deep, rich purple color. An int...</td>\n",
       "      <td>&lt;|endoftext|&gt;</td>\n",
       "    </tr>\n",
       "  </tbody>\n",
       "</table>\n",
       "</div>"
      ],
      "text/plain": [
       "       start_token prompt_token  \\\n",
       "0  <|startoftext|>     [prompt]   \n",
       "0  <|startoftext|>     [prompt]   \n",
       "0  <|startoftext|>     [prompt]   \n",
       "0  <|startoftext|>     [prompt]   \n",
       "0  <|startoftext|>     [prompt]   \n",
       "\n",
       "                                                name response_token  \\\n",
       "0  1000 Stories Bourbon Barrel Aged Batch Blue Ca...     [response]   \n",
       "0   1000 Stories Bourbon Barrel Aged Chardonnay 2018     [response]   \n",
       "0  1000 Stories Bourbon Barrel Aged Gold Rush Red...     [response]   \n",
       "0  1000 Stories Bourbon Barrel Aged Prospectors' ...     [response]   \n",
       "0    1000 Stories Bourbon Barrel Aged Zinfandel 2013     [response]   \n",
       "\n",
       "  category_1_token  category_1 category_2_token          category_2  \\\n",
       "0     [category_1]    Red Wine     [category_2]            Carignan   \n",
       "0     [category_1]  White Wine     [category_2]          Chardonnay   \n",
       "0     [category_1]    Red Wine     [category_2]    Other Red Blends   \n",
       "0     [category_1]    Red Wine     [category_2]  Cabernet Sauvignon   \n",
       "0     [category_1]    Red Wine     [category_2]           Zinfandel   \n",
       "\n",
       "  origin_token                         origin description_token  \\\n",
       "0     [origin]     from Mendocino, California     [description]   \n",
       "0     [origin]                from California     [description]   \n",
       "0     [origin]                from California     [description]   \n",
       "0     [origin]                from California     [description]   \n",
       "0     [origin]   from North Coast, California     [description]   \n",
       "\n",
       "                                         description      end_token  \n",
       "0  This is a very special, limited release of 100...  <|endoftext|>  \n",
       "0  The 2018 Chardonnay reflects the classic Calif...  <|endoftext|>  \n",
       "0  The California Gold Rush was a period of coura...  <|endoftext|>  \n",
       "0  The result is a signature 1000 Stories wine: l...  <|endoftext|>  \n",
       "0  The wine has a deep, rich purple color. An int...  <|endoftext|>  "
      ]
     },
     "execution_count": 9,
     "metadata": {},
     "output_type": "execute_result"
    }
   ],
   "source": [
    "gpt2_txt_clean.head()"
   ]
  },
  {
   "cell_type": "code",
   "execution_count": 28,
   "metadata": {
    "ExecuteTime": {
     "end_time": "2021-04-01T21:42:44.938745Z",
     "start_time": "2021-04-01T21:42:44.913745Z"
    }
   },
   "outputs": [
    {
     "data": {
      "text/plain": [
       " from Napa Valley, California                                      10343\n",
       " from California                                                    6484\n",
       " from Sonoma County, California                                     5282\n",
       " from Central Coast, California                                     4134\n",
       " from Columbia Valley, Washington                                   3267\n",
       " from Willamette Valley, Oregon                                     2771\n",
       " from Russian River, Sonoma County, California                      2759\n",
       " from Tuscany, Italy                                                2428\n",
       " from Burgundy, France                                              2424\n",
       " from Australia                                                     2195\n",
       " from Chile                                                         2057\n",
       " from South Africa                                                  2008\n",
       " from Spain                                                         1870\n",
       " from Rioja, Spain                                                  1734\n",
       " from Carneros, California                                          1712\n",
       " from Argentina                                                     1689\n",
       " from Mendoza, Argentina                                            1507\n",
       " from North Coast, California                                       1465\n",
       " from Sonoma Coast, Sonoma County, California                       1396\n",
       " from Marlborough, New Zealand                                      1350\n",
       " from Chianti Classico, Chianti, Tuscany, Italy                     1335\n",
       " from Italy                                                         1323\n",
       " from Barolo, Piedmont, Italy                                       1288\n",
       " from Chateauneuf-du-Pape, Rhone, France                            1162\n",
       " from Paso Robles, Central Coast, California                        1154\n",
       " from Montalcino, Tuscany, Italy                                    1152\n",
       " from Alsace, France                                                1025\n",
       " from Mosel, Germany                                                1017\n",
       " from McLaren Vale, South Australia, Australia                       985\n",
       " from Barossa Valley, Barossa, South Australia, Australia            937\n",
       " from Cotes du Rhone, Rhone, France                                  934\n",
       " from Champagne, France                                              916\n",
       " from Veneto, Italy                                                  899\n",
       " from Trentino-Alto Adige, Italy                                     835\n",
       " from Piedmont, Italy                                                831\n",
       " from Chablis, Burgundy, France                                      791\n",
       " from Alexander Valley, Sonoma County, California                    740\n",
       " from St. Emilion, Bordeaux, France                                  738\n",
       " from Beaujolais, Burgundy, France                                   735\n",
       " from Sicily, Italy                                                  723\n",
       " from Bordeaux, France                                               681\n",
       " from Languedoc, South of France, France                             663\n",
       " from Friuli-Venezia Giulia, Italy                                   641\n",
       " from Portugal                                                       616\n",
       " from Santa Barbara, Central Coast, California                       610\n",
       " from Lodi, California                                               600\n",
       " from Sta. Rita Hills, Santa Barbara, Central Coast, California      600\n",
       " from Ribera del Duero, Spain                                        561\n",
       " from Monterey, Central Coast, California                            546\n",
       " from New Zealand                                                    545\n",
       " from Oakville, Napa Valley, California                              535\n",
       " from Alba, Piedmont, Italy                                          515\n",
       " from Dry Creek Valley, Sonoma County, California                    513\n",
       " from New York, Other U.S.                                           511\n",
       " from France                                                         511\n",
       " from Santa Maria Valley, Central Coast, California                  505\n",
       " from Sancerre, Loire, France                                        503\n",
       " from Chianti, Tuscany, Italy                                        497\n",
       " from Walla Walla Valley, Columbia Valley, Washington                483\n",
       " from Israel                                                         467\n",
       "Name: origin, dtype: int64"
      ]
     },
     "execution_count": 28,
     "metadata": {},
     "output_type": "execute_result"
    }
   ],
   "source": [
    "gpt2_txt_clean['origin'].value_counts()[:60]"
   ]
  },
  {
   "cell_type": "markdown",
   "metadata": {},
   "source": [
    "# Data split and save"
   ]
  },
  {
   "cell_type": "code",
   "execution_count": 9,
   "metadata": {
    "ExecuteTime": {
     "end_time": "2020-10-01T21:16:11.271793Z",
     "start_time": "2020-10-01T21:16:11.220794Z"
    }
   },
   "outputs": [
    {
     "name": "stdout",
     "output_type": "stream",
     "text": [
      "(98760, 13)\n",
      "(24690, 13)\n"
     ]
    }
   ],
   "source": [
    "train, test = train_test_split(gpt2_txt_clean, test_size=0.2, random_state=0)\n",
    "print(train.shape)\n",
    "print(test.shape)"
   ]
  },
  {
   "cell_type": "code",
   "execution_count": 10,
   "metadata": {
    "ExecuteTime": {
     "end_time": "2020-10-01T21:16:34.414790Z",
     "start_time": "2020-10-01T21:16:32.356791Z"
    }
   },
   "outputs": [],
   "source": [
    "gpt2_txt_clean.to_csv(\n",
    "    \"data/scraped/name_desc_nlp_ready.txt\", \n",
    "    sep=' ',\n",
    "    index=False,\n",
    "    header=None)\n",
    "\n",
    "train.to_csv(\n",
    "    \"data/scraped/name_desc_nlp_ready_train.txt\", \n",
    "    sep=' ',\n",
    "    index=False,\n",
    "    header=None)\n",
    "\n",
    "test.to_csv(\n",
    "    \"data/scraped/name_desc_nlp_ready_test.txt\", \n",
    "    sep=' ',\n",
    "    index=False,\n",
    "    header=None)"
   ]
  },
  {
   "cell_type": "code",
   "execution_count": null,
   "metadata": {},
   "outputs": [],
   "source": []
  }
 ],
 "metadata": {
  "kernelspec": {
   "display_name": "Python 3",
   "language": "python",
   "name": "python3"
  },
  "language_info": {
   "codemirror_mode": {
    "name": "ipython",
    "version": 3
   },
   "file_extension": ".py",
   "mimetype": "text/x-python",
   "name": "python",
   "nbconvert_exporter": "python",
   "pygments_lexer": "ipython3",
   "version": "3.8.8"
  },
  "varInspector": {
   "cols": {
    "lenName": 16,
    "lenType": 16,
    "lenVar": 40
   },
   "kernels_config": {
    "python": {
     "delete_cmd_postfix": "",
     "delete_cmd_prefix": "del ",
     "library": "var_list.py",
     "varRefreshCmd": "print(var_dic_list())"
    },
    "r": {
     "delete_cmd_postfix": ") ",
     "delete_cmd_prefix": "rm(",
     "library": "var_list.r",
     "varRefreshCmd": "cat(var_dic_list()) "
    }
   },
   "types_to_exclude": [
    "module",
    "function",
    "builtin_function_or_method",
    "instance",
    "_Feature"
   ],
   "window_display": false
  }
 },
 "nbformat": 4,
 "nbformat_minor": 2
}
