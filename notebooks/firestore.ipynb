{
 "cells": [
  {
   "cell_type": "markdown",
   "metadata": {},
   "source": [
    "# Write to firestore"
   ]
  },
  {
   "cell_type": "code",
   "execution_count": 93,
   "metadata": {},
   "outputs": [],
   "source": [
    "import random\n",
    "import os\n",
    "import firebase_admin\n",
    "#import google.cloud\n",
    "from firebase_admin import credentials, firestore\n",
    "from google.cloud import firestore_v1\n",
    "import pandas as pd"
   ]
  },
  {
   "cell_type": "code",
   "execution_count": 97,
   "metadata": {
    "ExecuteTime": {
     "end_time": "2021-04-02T22:55:41.138148Z",
     "start_time": "2021-04-02T22:55:41.130148Z"
    }
   },
   "outputs": [],
   "source": [
    "cred = credentials.Certificate(\"../.keys/wine-flask-b615f90f43d6.json\")\n",
    "#app = firebase_admin.initialize_app(cred)\n",
    "store = firestore.client()\n",
    "\n",
    "file_path = \"../data/fake/cleaned_gpt_descriptions_2844.csv\"\n",
    "collection_name = \"gpt2-xl-outputs\""
   ]
  },
  {
   "cell_type": "code",
   "execution_count": 98,
   "metadata": {},
   "outputs": [
    {
     "name": "stdout",
     "output_type": "stream",
     "text": [
      "(2844, 6)\n"
     ]
    }
   ],
   "source": [
    "\n",
    "# Load the CSV\n",
    "df = pd.read_csv(file_path).reset_index().drop(['Unnamed: 0'], axis=1)\n",
    "print(df.shape)"
   ]
  },
  {
   "cell_type": "code",
   "execution_count": 99,
   "metadata": {},
   "outputs": [
    {
     "data": {
      "text/html": [
       "<div>\n",
       "<style scoped>\n",
       "    .dataframe tbody tr th:only-of-type {\n",
       "        vertical-align: middle;\n",
       "    }\n",
       "\n",
       "    .dataframe tbody tr th {\n",
       "        vertical-align: top;\n",
       "    }\n",
       "\n",
       "    .dataframe thead th {\n",
       "        text-align: right;\n",
       "    }\n",
       "</style>\n",
       "<table border=\"1\" class=\"dataframe\">\n",
       "  <thead>\n",
       "    <tr style=\"text-align: right;\">\n",
       "      <th></th>\n",
       "      <th>index</th>\n",
       "      <th>name</th>\n",
       "      <th>category_1</th>\n",
       "      <th>category_2</th>\n",
       "      <th>origin</th>\n",
       "      <th>description</th>\n",
       "    </tr>\n",
       "  </thead>\n",
       "  <tbody>\n",
       "    <tr>\n",
       "      <th>0</th>\n",
       "      <td>0</td>\n",
       "      <td>Piul Bothen Cabernet Sauvignon 2014</td>\n",
       "      <td>Red Wine</td>\n",
       "      <td>Cabernet Sauvignon</td>\n",
       "      <td>California</td>\n",
       "      <td>The 2014 vintage of Bothen Cabernet Sauvignon ...</td>\n",
       "    </tr>\n",
       "    <tr>\n",
       "      <th>1</th>\n",
       "      <td>1</td>\n",
       "      <td>Seacuscini Resantzass 2015</td>\n",
       "      <td>Red Wine</td>\n",
       "      <td>Other Red Blends</td>\n",
       "      <td>Sicily, Italy</td>\n",
       "      <td>A wine of deep ruby red in color. The aromas a...</td>\n",
       "    </tr>\n",
       "    <tr>\n",
       "      <th>2</th>\n",
       "      <td>2</td>\n",
       "      <td>Alpanena Vriestioge 2016</td>\n",
       "      <td>Red Wine</td>\n",
       "      <td>Other Red Blends</td>\n",
       "      <td>Sicily, Italy</td>\n",
       "      <td>Vibrant ruby color with violet tones. Very int...</td>\n",
       "    </tr>\n",
       "    <tr>\n",
       "      <th>3</th>\n",
       "      <td>3</td>\n",
       "      <td>Sanmedarbecer Edena Cabernet</td>\n",
       "      <td>Red Wine</td>\n",
       "      <td>Bordeaux Red Blends</td>\n",
       "      <td>Chile</td>\n",
       "      <td>A wine with a deep garnet red color.  The nose...</td>\n",
       "    </tr>\n",
       "    <tr>\n",
       "      <th>4</th>\n",
       "      <td>4</td>\n",
       "      <td>ERitajas Katiano 1999</td>\n",
       "      <td>Red Wine</td>\n",
       "      <td>Other Red Blends</td>\n",
       "      <td>Chile</td>\n",
       "      <td>Vibrant, vibrant color with intense and lively...</td>\n",
       "    </tr>\n",
       "    <tr>\n",
       "      <th>...</th>\n",
       "      <td>...</td>\n",
       "      <td>...</td>\n",
       "      <td>...</td>\n",
       "      <td>...</td>\n",
       "      <td>...</td>\n",
       "      <td>...</td>\n",
       "    </tr>\n",
       "    <tr>\n",
       "      <th>2839</th>\n",
       "      <td>2839</td>\n",
       "      <td>Zivagessockigna Serenro 2018</td>\n",
       "      <td>White Wine</td>\n",
       "      <td>Other White Blends</td>\n",
       "      <td>Austria</td>\n",
       "      <td>Serenro is a very versatile wine with flavors ...</td>\n",
       "    </tr>\n",
       "    <tr>\n",
       "      <th>2840</th>\n",
       "      <td>2840</td>\n",
       "      <td>Duillan'sile ((50 ML) Rose 2016</td>\n",
       "      <td>Pink and Rosé</td>\n",
       "      <td>Rosé</td>\n",
       "      <td>Languedoc, South of France, France</td>\n",
       "      <td>Duillan’sile is a perfect match for fresh fish...</td>\n",
       "    </tr>\n",
       "    <tr>\n",
       "      <th>2841</th>\n",
       "      <td>2841</td>\n",
       "      <td>Jomain Parouleds Vineyard Chard-da Rose 2015</td>\n",
       "      <td>Pink and Rosé</td>\n",
       "      <td>Rosé</td>\n",
       "      <td>Sta. Rita HillsFort Ross-Sesov Ridge, Santa Ba...</td>\n",
       "      <td>The 2015 vintage of Fort Ross-Seovo Ridge Char...</td>\n",
       "    </tr>\n",
       "    <tr>\n",
       "      <th>2842</th>\n",
       "      <td>2842</td>\n",
       "      <td>Domaine Familol Crupagna Ridge Oncica Reserve ...</td>\n",
       "      <td>Red Wine</td>\n",
       "      <td>Other Red Blends</td>\n",
       "      <td>Italy</td>\n",
       "      <td>A bright, deep ruby red color with purple hues...</td>\n",
       "    </tr>\n",
       "    <tr>\n",
       "      <th>2843</th>\n",
       "      <td>2843</td>\n",
       "      <td>Casa Orduto Napa Robene Pinomarier 2016</td>\n",
       "      <td>Red Wine</td>\n",
       "      <td>Pinot Noir</td>\n",
       "      <td>Napa Valley, California</td>\n",
       "      <td>Our 2016 Robene Pinomar’s aromas of red fruits...</td>\n",
       "    </tr>\n",
       "  </tbody>\n",
       "</table>\n",
       "<p>2844 rows × 6 columns</p>\n",
       "</div>"
      ],
      "text/plain": [
       "      index                                               name     category_1  \\\n",
       "0         0                Piul Bothen Cabernet Sauvignon 2014       Red Wine   \n",
       "1         1                         Seacuscini Resantzass 2015       Red Wine   \n",
       "2         2                           Alpanena Vriestioge 2016       Red Wine   \n",
       "3         3                       Sanmedarbecer Edena Cabernet       Red Wine   \n",
       "4         4                              ERitajas Katiano 1999       Red Wine   \n",
       "...     ...                                                ...            ...   \n",
       "2839   2839                       Zivagessockigna Serenro 2018     White Wine   \n",
       "2840   2840                    Duillan'sile ((50 ML) Rose 2016  Pink and Rosé   \n",
       "2841   2841       Jomain Parouleds Vineyard Chard-da Rose 2015  Pink and Rosé   \n",
       "2842   2842  Domaine Familol Crupagna Ridge Oncica Reserve ...       Red Wine   \n",
       "2843   2843            Casa Orduto Napa Robene Pinomarier 2016       Red Wine   \n",
       "\n",
       "               category_2                                             origin  \\\n",
       "0      Cabernet Sauvignon                                         California   \n",
       "1        Other Red Blends                                      Sicily, Italy   \n",
       "2        Other Red Blends                                      Sicily, Italy   \n",
       "3     Bordeaux Red Blends                                              Chile   \n",
       "4        Other Red Blends                                              Chile   \n",
       "...                   ...                                                ...   \n",
       "2839   Other White Blends                                            Austria   \n",
       "2840                 Rosé                 Languedoc, South of France, France   \n",
       "2841                 Rosé  Sta. Rita HillsFort Ross-Sesov Ridge, Santa Ba...   \n",
       "2842     Other Red Blends                                              Italy   \n",
       "2843           Pinot Noir                            Napa Valley, California   \n",
       "\n",
       "                                            description  \n",
       "0     The 2014 vintage of Bothen Cabernet Sauvignon ...  \n",
       "1     A wine of deep ruby red in color. The aromas a...  \n",
       "2     Vibrant ruby color with violet tones. Very int...  \n",
       "3     A wine with a deep garnet red color.  The nose...  \n",
       "4     Vibrant, vibrant color with intense and lively...  \n",
       "...                                                 ...  \n",
       "2839  Serenro is a very versatile wine with flavors ...  \n",
       "2840  Duillan’sile is a perfect match for fresh fish...  \n",
       "2841  The 2015 vintage of Fort Ross-Seovo Ridge Char...  \n",
       "2842  A bright, deep ruby red color with purple hues...  \n",
       "2843  Our 2016 Robene Pinomar’s aromas of red fruits...  \n",
       "\n",
       "[2844 rows x 6 columns]"
      ]
     },
     "execution_count": 99,
     "metadata": {},
     "output_type": "execute_result"
    }
   ],
   "source": [
    "df"
   ]
  },
  {
   "cell_type": "code",
   "execution_count": null,
   "metadata": {},
   "outputs": [],
   "source": [
    "def batch_data(iterable, n=1):\n",
    "    l = len(iterable)\n",
    "    for ndx in range(0, l, n):\n",
    "        yield iterable[ndx:min(ndx + n, l)]\n",
    "        \n",
    "for batched_data in batch_data(df, 499):\n",
    "    batch = store.batch()\n",
    "    for data_item in batched_data.iterrows():\n",
    "        doc_ref = store.collection(collection_name).document()\n",
    "        batch.set(doc_ref, data_item[1].to_dict())\n",
    "    batch.commit()"
   ]
  },
  {
   "cell_type": "code",
   "execution_count": 92,
   "metadata": {},
   "outputs": [
    {
     "ename": "NameError",
     "evalue": "name 'data_item' is not defined",
     "output_type": "error",
     "traceback": [
      "\u001b[0;31m---------------------------------------------------------------------------\u001b[0m",
      "\u001b[0;31mNameError\u001b[0m                                 Traceback (most recent call last)",
      "\u001b[0;32m<ipython-input-92-f8f842e76729>\u001b[0m in \u001b[0;36m<module>\u001b[0;34m\u001b[0m\n\u001b[0;32m----> 1\u001b[0;31m \u001b[0mdata_item\u001b[0m\u001b[0;34m[\u001b[0m\u001b[0;36m1\u001b[0m\u001b[0;34m]\u001b[0m\u001b[0;34m.\u001b[0m\u001b[0mto_dict\u001b[0m\u001b[0;34m(\u001b[0m\u001b[0;34m)\u001b[0m\u001b[0;34m\u001b[0m\u001b[0;34m\u001b[0m\u001b[0m\n\u001b[0m",
      "\u001b[0;31mNameError\u001b[0m: name 'data_item' is not defined"
     ]
    }
   ],
   "source": [
    "data_item[1].to_dict()"
   ]
  },
  {
   "cell_type": "markdown",
   "metadata": {},
   "source": [
    "-----------"
   ]
  },
  {
   "cell_type": "markdown",
   "metadata": {},
   "source": [
    "# Sample from firestore"
   ]
  },
  {
   "cell_type": "code",
   "execution_count": null,
   "metadata": {},
   "outputs": [],
   "source": [
    "from firebase_admin import credentials, firestore, initialize_app\n",
    "from google.cloud import firestore_v1\n",
    "\n",
    "cred = credentials.Certificate(\"../.keys/wine-flask-b615f90f43d6.json\")\n",
    "app = initialize_app(cred)\n",
    "store = firestore.client()\n",
    "\n",
    "#file_path = \"./data/fake/cleaned_gpt_descriptions_2844.csv\"\n",
    "collection_name = \"gpt2-xl-outputs\""
   ]
  },
  {
   "cell_type": "code",
   "execution_count": 2,
   "metadata": {},
   "outputs": [
    {
     "data": {
      "text/plain": [
       "'eBbs6mm7x8CoBF0j9cn4'"
      ]
     },
     "execution_count": 2,
     "metadata": {},
     "output_type": "execute_result"
    }
   ],
   "source": [
    "random_key = store.collection(collection_name).document().id\n",
    "random_key"
   ]
  },
  {
   "cell_type": "code",
   "execution_count": 100,
   "metadata": {},
   "outputs": [
    {
     "ename": "ValueError",
     "evalue": "Operator string '=' is invalid. Valid choices are: !=, <, <=, ==, >, >=, array_contains, array_contains_any, in, not-in.",
     "output_type": "error",
     "traceback": [
      "\u001b[0;31m---------------------------------------------------------------------------\u001b[0m",
      "\u001b[0;31mKeyError\u001b[0m                                  Traceback (most recent call last)",
      "\u001b[0;32m~/miniconda3/envs/jupy/lib/python3.8/site-packages/google/cloud/firestore_v1/base_query.py\u001b[0m in \u001b[0;36m_enum_from_op_string\u001b[0;34m(op_string)\u001b[0m\n\u001b[1;32m    906\u001b[0m     \u001b[0;32mtry\u001b[0m\u001b[0;34m:\u001b[0m\u001b[0;34m\u001b[0m\u001b[0;34m\u001b[0m\u001b[0m\n\u001b[0;32m--> 907\u001b[0;31m         \u001b[0;32mreturn\u001b[0m \u001b[0m_COMPARISON_OPERATORS\u001b[0m\u001b[0;34m[\u001b[0m\u001b[0mop_string\u001b[0m\u001b[0;34m]\u001b[0m\u001b[0;34m\u001b[0m\u001b[0;34m\u001b[0m\u001b[0m\n\u001b[0m\u001b[1;32m    908\u001b[0m     \u001b[0;32mexcept\u001b[0m \u001b[0mKeyError\u001b[0m\u001b[0;34m:\u001b[0m\u001b[0;34m\u001b[0m\u001b[0;34m\u001b[0m\u001b[0m\n",
      "\u001b[0;31mKeyError\u001b[0m: '='",
      "\nDuring handling of the above exception, another exception occurred:\n",
      "\u001b[0;31mValueError\u001b[0m                                Traceback (most recent call last)",
      "\u001b[0;32m<timed exec>\u001b[0m in \u001b[0;36m<module>\u001b[0;34m\u001b[0m\n",
      "\u001b[0;32m~/miniconda3/envs/jupy/lib/python3.8/site-packages/google/cloud/firestore_v1/base_collection.py\u001b[0m in \u001b[0;36mwhere\u001b[0;34m(self, field_path, op_string, value)\u001b[0m\n\u001b[1;32m    241\u001b[0m         \"\"\"\n\u001b[1;32m    242\u001b[0m         \u001b[0mquery\u001b[0m \u001b[0;34m=\u001b[0m \u001b[0mself\u001b[0m\u001b[0;34m.\u001b[0m\u001b[0m_query\u001b[0m\u001b[0;34m(\u001b[0m\u001b[0;34m)\u001b[0m\u001b[0;34m\u001b[0m\u001b[0;34m\u001b[0m\u001b[0m\n\u001b[0;32m--> 243\u001b[0;31m         \u001b[0;32mreturn\u001b[0m \u001b[0mquery\u001b[0m\u001b[0;34m.\u001b[0m\u001b[0mwhere\u001b[0m\u001b[0;34m(\u001b[0m\u001b[0mfield_path\u001b[0m\u001b[0;34m,\u001b[0m \u001b[0mop_string\u001b[0m\u001b[0;34m,\u001b[0m \u001b[0mvalue\u001b[0m\u001b[0;34m)\u001b[0m\u001b[0;34m\u001b[0m\u001b[0;34m\u001b[0m\u001b[0m\n\u001b[0m\u001b[1;32m    244\u001b[0m \u001b[0;34m\u001b[0m\u001b[0m\n\u001b[1;32m    245\u001b[0m     \u001b[0;32mdef\u001b[0m \u001b[0morder_by\u001b[0m\u001b[0;34m(\u001b[0m\u001b[0mself\u001b[0m\u001b[0;34m,\u001b[0m \u001b[0mfield_path\u001b[0m\u001b[0;34m:\u001b[0m \u001b[0mstr\u001b[0m\u001b[0;34m,\u001b[0m \u001b[0;34m**\u001b[0m\u001b[0mkwargs\u001b[0m\u001b[0;34m)\u001b[0m \u001b[0;34m->\u001b[0m \u001b[0mBaseQuery\u001b[0m\u001b[0;34m:\u001b[0m\u001b[0;34m\u001b[0m\u001b[0;34m\u001b[0m\u001b[0m\n",
      "\u001b[0;32m~/miniconda3/envs/jupy/lib/python3.8/site-packages/google/cloud/firestore_v1/base_query.py\u001b[0m in \u001b[0;36mwhere\u001b[0;34m(self, field_path, op_string, value)\u001b[0m\n\u001b[1;32m    296\u001b[0m             filter_pb = query.StructuredQuery.FieldFilter(\n\u001b[1;32m    297\u001b[0m                 \u001b[0mfield\u001b[0m\u001b[0;34m=\u001b[0m\u001b[0mquery\u001b[0m\u001b[0;34m.\u001b[0m\u001b[0mStructuredQuery\u001b[0m\u001b[0;34m.\u001b[0m\u001b[0mFieldReference\u001b[0m\u001b[0;34m(\u001b[0m\u001b[0mfield_path\u001b[0m\u001b[0;34m=\u001b[0m\u001b[0mfield_path\u001b[0m\u001b[0;34m)\u001b[0m\u001b[0;34m,\u001b[0m\u001b[0;34m\u001b[0m\u001b[0;34m\u001b[0m\u001b[0m\n\u001b[0;32m--> 298\u001b[0;31m                 \u001b[0mop\u001b[0m\u001b[0;34m=\u001b[0m\u001b[0m_enum_from_op_string\u001b[0m\u001b[0;34m(\u001b[0m\u001b[0mop_string\u001b[0m\u001b[0;34m)\u001b[0m\u001b[0;34m,\u001b[0m\u001b[0;34m\u001b[0m\u001b[0;34m\u001b[0m\u001b[0m\n\u001b[0m\u001b[1;32m    299\u001b[0m                 \u001b[0mvalue\u001b[0m\u001b[0;34m=\u001b[0m\u001b[0m_helpers\u001b[0m\u001b[0;34m.\u001b[0m\u001b[0mencode_value\u001b[0m\u001b[0;34m(\u001b[0m\u001b[0mvalue\u001b[0m\u001b[0;34m)\u001b[0m\u001b[0;34m,\u001b[0m\u001b[0;34m\u001b[0m\u001b[0;34m\u001b[0m\u001b[0m\n\u001b[1;32m    300\u001b[0m             )\n",
      "\u001b[0;32m~/miniconda3/envs/jupy/lib/python3.8/site-packages/google/cloud/firestore_v1/base_query.py\u001b[0m in \u001b[0;36m_enum_from_op_string\u001b[0;34m(op_string)\u001b[0m\n\u001b[1;32m    909\u001b[0m         \u001b[0mchoices\u001b[0m \u001b[0;34m=\u001b[0m \u001b[0;34m\", \"\u001b[0m\u001b[0;34m.\u001b[0m\u001b[0mjoin\u001b[0m\u001b[0;34m(\u001b[0m\u001b[0msorted\u001b[0m\u001b[0;34m(\u001b[0m\u001b[0m_COMPARISON_OPERATORS\u001b[0m\u001b[0;34m.\u001b[0m\u001b[0mkeys\u001b[0m\u001b[0;34m(\u001b[0m\u001b[0;34m)\u001b[0m\u001b[0;34m)\u001b[0m\u001b[0;34m)\u001b[0m\u001b[0;34m\u001b[0m\u001b[0;34m\u001b[0m\u001b[0m\n\u001b[1;32m    910\u001b[0m         \u001b[0mmsg\u001b[0m \u001b[0;34m=\u001b[0m \u001b[0m_BAD_OP_STRING\u001b[0m\u001b[0;34m.\u001b[0m\u001b[0mformat\u001b[0m\u001b[0;34m(\u001b[0m\u001b[0mop_string\u001b[0m\u001b[0;34m,\u001b[0m \u001b[0mchoices\u001b[0m\u001b[0;34m)\u001b[0m\u001b[0;34m\u001b[0m\u001b[0;34m\u001b[0m\u001b[0m\n\u001b[0;32m--> 911\u001b[0;31m         \u001b[0;32mraise\u001b[0m \u001b[0mValueError\u001b[0m\u001b[0;34m(\u001b[0m\u001b[0mmsg\u001b[0m\u001b[0;34m)\u001b[0m\u001b[0;34m\u001b[0m\u001b[0;34m\u001b[0m\u001b[0m\n\u001b[0m\u001b[1;32m    912\u001b[0m \u001b[0;34m\u001b[0m\u001b[0m\n\u001b[1;32m    913\u001b[0m \u001b[0;34m\u001b[0m\u001b[0m\n",
      "\u001b[0;31mValueError\u001b[0m: Operator string '=' is invalid. Valid choices are: !=, <, <=, ==, >, >=, array_contains, array_contains_any, in, not-in."
     ]
    }
   ],
   "source": [
    "%%time\n",
    "\n",
    "\n",
    "result = store.collection(collection_name).where('id', '=', random_key).limit(1).get()[0]\n",
    "result.to_dict()"
   ]
  },
  {
   "cell_type": "markdown",
   "metadata": {},
   "source": [
    "# Get random label"
   ]
  },
  {
   "cell_type": "code",
   "execution_count": 82,
   "metadata": {},
   "outputs": [],
   "source": [
    "import random\n",
    "\n",
    "from google.cloud import storage\n",
    "from google.oauth2 import service_account\n",
    "\n",
    "# Initialize google.cloud client\n",
    "gcloud_creds = service_account.Credentials.from_service_account_file(\"../.keys/wine-flask-b615f90f43d6.json\")\n",
    "\n",
    "# Create list of bottles from gcloud blob\n",
    "storage_client = storage.Client(credentials=gcloud_creds)\n",
    "blobs = storage_client.list_blobs(GCLOUD_BUCKET, prefix=LABELS_BLOB, delimiter=None)\n",
    "blobs = [(int(i.name.split('cat_')[1].split('_')[0]), i.name) for i in blobs]"
   ]
  },
  {
   "cell_type": "code",
   "execution_count": 63,
   "metadata": {},
   "outputs": [
    {
     "name": "stdout",
     "output_type": "stream",
     "text": [
      "14\n",
      "labels_on_bottle_v2/bottle_cat_14_seed0237.png\n"
     ]
    }
   ],
   "source": [
    "label_cat, label_path = random.choice(blobs)\n",
    "print(label_cat)\n",
    "print(label_path)"
   ]
  },
  {
   "cell_type": "code",
   "execution_count": 64,
   "metadata": {},
   "outputs": [],
   "source": [
    "CAT_DICT = {\n",
    "    1:\"Bordeaux Red Blends\",\n",
    "    2:\"Cabernet Sauvignon\",\n",
    "    3:\"Chardonnay\",\n",
    "    4:\"Merlot\",\n",
    "    5:\"Other Red Blends\",\n",
    "    6:\"Other White Blends\",\n",
    "    7:\"Pinot Gris/Grigio\",\n",
    "    8:\"Pinot Noir\",\n",
    "    9:\"Rhone Red Blends\",\n",
    "    10:\"Riesling\",\n",
    "    11:\"Rosé\",\n",
    "    12:\"Sangiovese\",\n",
    "    13:\"Sauvignon Blanc\",\n",
    "    14:\"Syrah/Shiraz\",\n",
    "    15:\"Zinfandel\"\n",
    "}"
   ]
  },
  {
   "cell_type": "code",
   "execution_count": 83,
   "metadata": {},
   "outputs": [
    {
     "data": {
      "text/plain": [
       "{'origin': 'Australia',\n",
       " 'name': 'Pallestinelley Creek Shiraz 2002',\n",
       " 'id': 'Mcn9FrkSrfrOYdKhBGzg',\n",
       " 'category_2': 'Syrah/Shiraz',\n",
       " 'category_1': 'Red Wine',\n",
       " 'description': 'Crimson red in colour with a purple rim. The nose shows vibrant aromas of rich ripe berry fruits with a touch of spice, tobacco leaf, leather and cedar. The palate is generous with launchers of blackcurrant and cherry flavours, with hints of liquorice, chocolate, mocha and pepper. The palate is medium to full bodied, soft and round, with fine, well-integrated tannins and well-integrated oak. The finish is long and persistent with excellent balance between fruit sweetness and oak. The overall impression is one of ripe, soft and supple, with a long, pleasant aftertaste.'}"
      ]
     },
     "execution_count": 83,
     "metadata": {},
     "output_type": "execute_result"
    }
   ],
   "source": [
    "store = firestore.client()\n",
    "FIRESTORE_COLLECTION = \"gpt2-xl-outputs\"\n",
    "\n",
    "random_key = store.collection(FIRESTORE_COLLECTION).document().id\n",
    "result = store.collection(FIRESTORE_COLLECTION)\\\n",
    "            .where('category_2', '==', CAT_DICT[label_cat])\\\n",
    "            .where('id', '>=', random_key)\\\n",
    "            .limit(1)\\\n",
    "            .get()[0]\n",
    "result.to_dict()"
   ]
  },
  {
   "cell_type": "code",
   "execution_count": 102,
   "metadata": {},
   "outputs": [
    {
     "ename": "ValueError",
     "evalue": "Only an equality filter (\"==\") can be used with None or NaN values",
     "output_type": "error",
     "traceback": [
      "\u001b[0;31m---------------------------------------------------------------------------\u001b[0m",
      "\u001b[0;31mValueError\u001b[0m                                Traceback (most recent call last)",
      "\u001b[0;32m<ipython-input-102-f0fa2a3d83e5>\u001b[0m in \u001b[0;36m<module>\u001b[0;34m\u001b[0m\n\u001b[0;32m----> 1\u001b[0;31m \u001b[0mresult\u001b[0m \u001b[0;34m=\u001b[0m \u001b[0mstore\u001b[0m\u001b[0;34m.\u001b[0m\u001b[0mcollection\u001b[0m\u001b[0;34m(\u001b[0m\u001b[0mFIRESTORE_COLLECTION\u001b[0m\u001b[0;34m)\u001b[0m\u001b[0;31m\\\u001b[0m\u001b[0;34m\u001b[0m\u001b[0;34m\u001b[0m\u001b[0m\n\u001b[0m\u001b[1;32m      2\u001b[0m             \u001b[0;34m.\u001b[0m\u001b[0mwhere\u001b[0m\u001b[0;34m(\u001b[0m\u001b[0;34m'description'\u001b[0m\u001b[0;34m,\u001b[0m \u001b[0;34m'!='\u001b[0m\u001b[0;34m,\u001b[0m \u001b[0;32mNone\u001b[0m\u001b[0;34m)\u001b[0m\u001b[0;31m\\\u001b[0m\u001b[0;34m\u001b[0m\u001b[0;34m\u001b[0m\u001b[0m\n\u001b[1;32m      3\u001b[0m             \u001b[0;34m.\u001b[0m\u001b[0mget\u001b[0m\u001b[0;34m(\u001b[0m\u001b[0;34m)\u001b[0m\u001b[0;34m\u001b[0m\u001b[0;34m\u001b[0m\u001b[0m\n\u001b[1;32m      4\u001b[0m \u001b[0mlen\u001b[0m\u001b[0;34m(\u001b[0m\u001b[0mresult\u001b[0m\u001b[0;34m)\u001b[0m\u001b[0;34m\u001b[0m\u001b[0;34m\u001b[0m\u001b[0m\n",
      "\u001b[0;32m~/miniconda3/envs/jupy/lib/python3.8/site-packages/google/cloud/firestore_v1/base_collection.py\u001b[0m in \u001b[0;36mwhere\u001b[0;34m(self, field_path, op_string, value)\u001b[0m\n\u001b[1;32m    241\u001b[0m         \"\"\"\n\u001b[1;32m    242\u001b[0m         \u001b[0mquery\u001b[0m \u001b[0;34m=\u001b[0m \u001b[0mself\u001b[0m\u001b[0;34m.\u001b[0m\u001b[0m_query\u001b[0m\u001b[0;34m(\u001b[0m\u001b[0;34m)\u001b[0m\u001b[0;34m\u001b[0m\u001b[0;34m\u001b[0m\u001b[0m\n\u001b[0;32m--> 243\u001b[0;31m         \u001b[0;32mreturn\u001b[0m \u001b[0mquery\u001b[0m\u001b[0;34m.\u001b[0m\u001b[0mwhere\u001b[0m\u001b[0;34m(\u001b[0m\u001b[0mfield_path\u001b[0m\u001b[0;34m,\u001b[0m \u001b[0mop_string\u001b[0m\u001b[0;34m,\u001b[0m \u001b[0mvalue\u001b[0m\u001b[0;34m)\u001b[0m\u001b[0;34m\u001b[0m\u001b[0;34m\u001b[0m\u001b[0m\n\u001b[0m\u001b[1;32m    244\u001b[0m \u001b[0;34m\u001b[0m\u001b[0m\n\u001b[1;32m    245\u001b[0m     \u001b[0;32mdef\u001b[0m \u001b[0morder_by\u001b[0m\u001b[0;34m(\u001b[0m\u001b[0mself\u001b[0m\u001b[0;34m,\u001b[0m \u001b[0mfield_path\u001b[0m\u001b[0;34m:\u001b[0m \u001b[0mstr\u001b[0m\u001b[0;34m,\u001b[0m \u001b[0;34m**\u001b[0m\u001b[0mkwargs\u001b[0m\u001b[0;34m)\u001b[0m \u001b[0;34m->\u001b[0m \u001b[0mBaseQuery\u001b[0m\u001b[0;34m:\u001b[0m\u001b[0;34m\u001b[0m\u001b[0;34m\u001b[0m\u001b[0m\n",
      "\u001b[0;32m~/miniconda3/envs/jupy/lib/python3.8/site-packages/google/cloud/firestore_v1/base_query.py\u001b[0m in \u001b[0;36mwhere\u001b[0;34m(self, field_path, op_string, value)\u001b[0m\n\u001b[1;32m    279\u001b[0m         \u001b[0;32mif\u001b[0m \u001b[0mvalue\u001b[0m \u001b[0;32mis\u001b[0m \u001b[0;32mNone\u001b[0m\u001b[0;34m:\u001b[0m\u001b[0;34m\u001b[0m\u001b[0;34m\u001b[0m\u001b[0m\n\u001b[1;32m    280\u001b[0m             \u001b[0;32mif\u001b[0m \u001b[0mop_string\u001b[0m \u001b[0;34m!=\u001b[0m \u001b[0m_EQ_OP\u001b[0m\u001b[0;34m:\u001b[0m\u001b[0;34m\u001b[0m\u001b[0;34m\u001b[0m\u001b[0m\n\u001b[0;32m--> 281\u001b[0;31m                 \u001b[0;32mraise\u001b[0m \u001b[0mValueError\u001b[0m\u001b[0;34m(\u001b[0m\u001b[0m_BAD_OP_NAN_NULL\u001b[0m\u001b[0;34m)\u001b[0m\u001b[0;34m\u001b[0m\u001b[0;34m\u001b[0m\u001b[0m\n\u001b[0m\u001b[1;32m    282\u001b[0m             filter_pb = query.StructuredQuery.UnaryFilter(\n\u001b[1;32m    283\u001b[0m                 \u001b[0mfield\u001b[0m\u001b[0;34m=\u001b[0m\u001b[0mquery\u001b[0m\u001b[0;34m.\u001b[0m\u001b[0mStructuredQuery\u001b[0m\u001b[0;34m.\u001b[0m\u001b[0mFieldReference\u001b[0m\u001b[0;34m(\u001b[0m\u001b[0mfield_path\u001b[0m\u001b[0;34m=\u001b[0m\u001b[0mfield_path\u001b[0m\u001b[0;34m)\u001b[0m\u001b[0;34m,\u001b[0m\u001b[0;34m\u001b[0m\u001b[0;34m\u001b[0m\u001b[0m\n",
      "\u001b[0;31mValueError\u001b[0m: Only an equality filter (\"==\") can be used with None or NaN values"
     ]
    }
   ],
   "source": [
    "result = store.collection(FIRESTORE_COLLECTION)\\\n",
    "            .where('description', '!=', None)\\\n",
    "            .get()\n",
    "len(result)"
   ]
  },
  {
   "cell_type": "code",
   "execution_count": 91,
   "metadata": {},
   "outputs": [],
   "source": [
    "#jobskill_query = db.collection('job_skills').where('job_id','==',post.job_id)\n",
    "bad_query = store.collection(FIRESTORE_COLLECTION).where('description', '==', None)\n"
   ]
  },
  {
   "cell_type": "code",
   "execution_count": 70,
   "metadata": {},
   "outputs": [
    {
     "data": {
      "text/plain": [
       "'labels_on_bottle_v2/bottle_cat_14_seed0237.png'"
      ]
     },
     "execution_count": 70,
     "metadata": {},
     "output_type": "execute_result"
    }
   ],
   "source": [
    "label_path"
   ]
  },
  {
   "cell_type": "code",
   "execution_count": 79,
   "metadata": {},
   "outputs": [
    {
     "name": "stdout",
     "output_type": "stream",
     "text": [
      "https://storage.googleapis.com/wine-flask/labels_on_bottle_v2/bottle_cat_14_seed0237.png\n"
     ]
    }
   ],
   "source": [
    "GCLOUD_BUCKET = 'wine-flask'\n",
    "LABELS_BLOB = \"labels_on_bottle_v2/bottle_cat\"\n",
    "DATASET_DIR = f\"https://storage.googleapis.com/{GCLOUD_BUCKET}/descriptions/\"\n",
    "IMAGE_DIR = f\"https://storage.googleapis.com/{GCLOUD_BUCKET}/\"\n",
    "\n",
    "image_path = IMAGE_DIR + label_path\n",
    "print(image_path)\n"
   ]
  },
  {
   "cell_type": "code",
   "execution_count": null,
   "metadata": {},
   "outputs": [],
   "source": []
  }
 ],
 "metadata": {
  "kernelspec": {
   "display_name": "Python 3",
   "language": "python",
   "name": "python3"
  },
  "language_info": {
   "codemirror_mode": {
    "name": "ipython",
    "version": 3
   },
   "file_extension": ".py",
   "mimetype": "text/x-python",
   "name": "python",
   "nbconvert_exporter": "python",
   "pygments_lexer": "ipython3",
   "version": "3.8.8"
  },
  "varInspector": {
   "cols": {
    "lenName": 16,
    "lenType": 16,
    "lenVar": 40
   },
   "kernels_config": {
    "python": {
     "delete_cmd_postfix": "",
     "delete_cmd_prefix": "del ",
     "library": "var_list.py",
     "varRefreshCmd": "print(var_dic_list())"
    },
    "r": {
     "delete_cmd_postfix": ") ",
     "delete_cmd_prefix": "rm(",
     "library": "var_list.r",
     "varRefreshCmd": "cat(var_dic_list()) "
    }
   },
   "types_to_exclude": [
    "module",
    "function",
    "builtin_function_or_method",
    "instance",
    "_Feature"
   ],
   "window_display": false
  }
 },
 "nbformat": 4,
 "nbformat_minor": 4
}
