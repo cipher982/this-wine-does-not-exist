{
 "cells": [
  {
   "cell_type": "markdown",
   "metadata": {},
   "source": [
    "# Write to firestore"
   ]
  },
  {
   "cell_type": "code",
   "execution_count": null,
   "metadata": {},
   "outputs": [],
   "source": [
    "import random\n",
    "import os\n",
    "\n",
    "# Sample a random wine bottle\n",
    "random_ix = random.sample(range(0,622), k=1)[0]\n",
    "random_filename = f\"wine_bottle_{random_ix:05d}.png\"\n",
    "\n",
    "# Combine with full path\n",
    "image_dir = \"https://storage.googleapis.com/wine-flask/labels_on_bottle/\"\n",
    "image_path = f\"{image_dir}{random_filename}\"\n",
    "print(image_path)"
   ]
  },
  {
   "cell_type": "code",
   "execution_count": null,
   "metadata": {
    "ExecuteTime": {
     "end_time": "2021-04-02T22:55:41.138148Z",
     "start_time": "2021-04-02T22:55:41.130148Z"
    }
   },
   "outputs": [],
   "source": [
    "import firebase_admin\n",
    "#import google.cloud\n",
    "from firebase_admin import credentials, firestore\n",
    "from google.cloud import firestore_v1\n",
    "\n",
    "cred = credentials.Certificate(\"./.keys/wine-flask-b615f90f43d6.json\")\n",
    "#app = firebase_admin.initialize_app(cred)\n",
    "store = firestore.client()\n",
    "\n",
    "file_path = \"./data/fake/cleaned_gpt_descriptions_2844.csv\"\n",
    "collection_name = \"gpt2-xl-outputs\""
   ]
  },
  {
   "cell_type": "code",
   "execution_count": null,
   "metadata": {
    "ExecuteTime": {
     "end_time": "2021-04-02T23:03:59.944573Z",
     "start_time": "2021-04-02T23:03:59.925571Z"
    }
   },
   "outputs": [],
   "source": [
    "firestore.firestore.FieldPath"
   ]
  },
  {
   "cell_type": "code",
   "execution_count": null,
   "metadata": {
    "ExecuteTime": {
     "end_time": "2021-04-02T22:55:58.855147Z",
     "start_time": "2021-04-02T22:55:58.846147Z"
    }
   },
   "outputs": [],
   "source": [
    "random_key = store.collection(collection_name).document().id"
   ]
  },
  {
   "cell_type": "code",
   "execution_count": null,
   "metadata": {
    "ExecuteTime": {
     "end_time": "2021-04-02T23:02:42.960061Z",
     "start_time": "2021-04-02T23:02:42.945063Z"
    }
   },
   "outputs": [],
   "source": [
    "firestore_v1.field_path.FieldPath.document_id()"
   ]
  },
  {
   "cell_type": "code",
   "execution_count": null,
   "metadata": {
    "ExecuteTime": {
     "end_time": "2021-04-02T23:02:49.825061Z",
     "start_time": "2021-04-02T23:02:49.639062Z"
    }
   },
   "outputs": [],
   "source": [
    "store.collection(collection_name).where(firestore_v1.field_path.FieldPath.document_id(), '==', 'Red Wine').get()"
   ]
  },
  {
   "cell_type": "code",
   "execution_count": null,
   "metadata": {
    "ExecuteTime": {
     "end_time": "2021-04-02T22:56:00.118148Z",
     "start_time": "2021-04-02T22:55:59.988148Z"
    }
   },
   "outputs": [],
   "source": [
    "store.collection(collection_name).where(firestore_v1.field_path.FieldPath.document_id(), '>=', random_key).get()"
   ]
  },
  {
   "cell_type": "code",
   "execution_count": null,
   "metadata": {
    "ExecuteTime": {
     "end_time": "2021-04-02T22:55:14.558149Z",
     "start_time": "2021-04-02T22:55:14.548147Z"
    }
   },
   "outputs": [],
   "source": [
    "firestore_v1.field_path.FieldPath.document_id()"
   ]
  },
  {
   "cell_type": "code",
   "execution_count": null,
   "metadata": {},
   "outputs": [],
   "source": [
    "# Create a reference to the cities collection\n",
    "cities_ref = db.collection(u'cities')\n",
    "\n",
    "# Create a query against the collection\n",
    "query_ref = cities_ref.where(u'state', u'==', u'CA')"
   ]
  },
  {
   "cell_type": "code",
   "execution_count": null,
   "metadata": {},
   "outputs": [],
   "source": [
    "import pandas as pd\n",
    "\n",
    "# Load the CSV\n",
    "df = pd.read_csv(file_path).reset_index().drop(['Unnamed: 0'], axis=1)\n",
    "print(df.shape)"
   ]
  },
  {
   "cell_type": "code",
   "execution_count": null,
   "metadata": {},
   "outputs": [],
   "source": [
    "def batch_data(iterable, n=1):\n",
    "    l = len(iterable)\n",
    "    for ndx in range(0, l, n):\n",
    "        yield iterable[ndx:min(ndx + n, l)]\n",
    "        \n",
    "for batched_data in batch_data(df, 499):\n",
    "    batch = store.batch()\n",
    "    for data_item in batched_data.iterrows():\n",
    "        doc_ref = store.collection(collection_name).document()\n",
    "        batch.set(doc_ref, data_item[1].to_dict())\n",
    "    batch.commit()"
   ]
  },
  {
   "cell_type": "code",
   "execution_count": null,
   "metadata": {},
   "outputs": [],
   "source": [
    "data_item[1].to_dict()"
   ]
  },
  {
   "cell_type": "markdown",
   "metadata": {},
   "source": [
    "-----------"
   ]
  },
  {
   "cell_type": "markdown",
   "metadata": {},
   "source": [
    "# Sample from firestore"
   ]
  },
  {
   "cell_type": "code",
   "execution_count": 1,
   "metadata": {},
   "outputs": [],
   "source": [
    "from firebase_admin import credentials, firestore, initialize_app\n",
    "from google.cloud import firestore_v1\n",
    "\n",
    "cred = credentials.Certificate(\"../.keys/wine-flask-b615f90f43d6.json\")\n",
    "app = initialize_app(cred)\n",
    "store = firestore.client()\n",
    "\n",
    "#file_path = \"./data/fake/cleaned_gpt_descriptions_2844.csv\"\n",
    "collection_name = \"gpt2-xl-outputs\""
   ]
  },
  {
   "cell_type": "code",
   "execution_count": 2,
   "metadata": {},
   "outputs": [
    {
     "data": {
      "text/plain": [
       "'eBbs6mm7x8CoBF0j9cn4'"
      ]
     },
     "execution_count": 2,
     "metadata": {},
     "output_type": "execute_result"
    }
   ],
   "source": [
    "random_key = store.collection(collection_name).document().id\n",
    "random_key"
   ]
  },
  {
   "cell_type": "code",
   "execution_count": 3,
   "metadata": {},
   "outputs": [
    {
     "name": "stdout",
     "output_type": "stream",
     "text": [
      "CPU times: user 41.4 ms, sys: 1.35 ms, total: 42.7 ms\n",
      "Wall time: 536 ms\n"
     ]
    },
    {
     "data": {
      "text/plain": [
       "{'id': 'eCGFGHRs0ft0Gh2GGDe7',\n",
       " 'name': 'Kins Bernacher Resard Chassornay Merlot 1996',\n",
       " 'category_1': 'Red Wine',\n",
       " 'origin': 'Burgundy, France',\n",
       " 'category_2': 'Merlot',\n",
       " 'description': 'The deep, ruby color of the wine is a prelude to the dense, rich flavors of black cherries, grade-grown strawberries and coffee.  The mouthfeel is soft and sweet, with good balance between sweetness and firm tannins.  The finish is long and pleasing.'}"
      ]
     },
     "execution_count": 3,
     "metadata": {},
     "output_type": "execute_result"
    }
   ],
   "source": [
    "%%time\n",
    "\n",
    "\n",
    "result = store.collection(collection_name).where('id', '>=', random_key).limit(1).get()[0]\n",
    "result.to_dict()"
   ]
  },
  {
   "cell_type": "code",
   "execution_count": null,
   "metadata": {},
   "outputs": [],
   "source": []
  },
  {
   "cell_type": "code",
   "execution_count": null,
   "metadata": {},
   "outputs": [],
   "source": []
  }
 ],
 "metadata": {
  "kernelspec": {
   "display_name": "Python 3",
   "language": "python",
   "name": "python3"
  },
  "language_info": {
   "codemirror_mode": {
    "name": "ipython",
    "version": 3
   },
   "file_extension": ".py",
   "mimetype": "text/x-python",
   "name": "python",
   "nbconvert_exporter": "python",
   "pygments_lexer": "ipython3",
   "version": "3.8.8"
  },
  "varInspector": {
   "cols": {
    "lenName": 16,
    "lenType": 16,
    "lenVar": 40
   },
   "kernels_config": {
    "python": {
     "delete_cmd_postfix": "",
     "delete_cmd_prefix": "del ",
     "library": "var_list.py",
     "varRefreshCmd": "print(var_dic_list())"
    },
    "r": {
     "delete_cmd_postfix": ") ",
     "delete_cmd_prefix": "rm(",
     "library": "var_list.r",
     "varRefreshCmd": "cat(var_dic_list()) "
    }
   },
   "types_to_exclude": [
    "module",
    "function",
    "builtin_function_or_method",
    "instance",
    "_Feature"
   ],
   "window_display": false
  }
 },
 "nbformat": 4,
 "nbformat_minor": 4
}
