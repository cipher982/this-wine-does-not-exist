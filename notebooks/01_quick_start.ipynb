{
 "cells": [
  {
   "cell_type": "markdown",
   "metadata": {},
   "source": [
    "# Wine AI Dataset - Quick Start Guide\n",
    "\n",
    "This notebook demonstrates how to use the Wine AI Dataset for machine learning projects."
   ]
  },
  {
   "cell_type": "markdown",
   "metadata": {},
   "source": [
    "## 1. Load the Dataset\n",
    "\n",
    "The easiest way to get started is using the `WineDataset.load_latest()` method:"
   ]
  },
  {
   "cell_type": "code",
   "execution_count": null,
   "metadata": {},
   "outputs": [],
   "source": [
    "from wine_ai.data.loaders import WineDataset, WineImageLoader\n",
    "\n",
    "# Load the dataset with train/validation/test splits\n",
    "dataset = WineDataset.load_latest()\n",
    "\n",
    "print(f\"Train set: {len(dataset.train)} samples\")\n",
    "print(f\"Validation set: {len(dataset.validation)} samples\")\n",
    "print(f\"Test set: {len(dataset.test)} samples\")"
   ]
  },
  {
   "cell_type": "markdown",
   "metadata": {},
   "source": [
    "## 2. Explore the Data"
   ]
  },
  {
   "cell_type": "code",
   "execution_count": null,
   "metadata": {},
   "outputs": [],
   "source": [
    "# Look at the first few samples\n",
    "print(\"Dataset columns:\", list(dataset.train.columns))\n",
    "print(\"\\nFirst sample:\")\n",
    "print(dataset.train.iloc[0])"
   ]
  },
  {
   "cell_type": "code",
   "execution_count": null,
   "metadata": {},
   "outputs": [],
   "source": [
    "# Check wine categories distribution\n",
    "print(\"Wine Category Distribution:\")\n",
    "print(dataset.train['wine_category'].value_counts())"
   ]
  },
  {
   "cell_type": "markdown",
   "metadata": {},
   "source": [
    "## 3. Work with Images"
   ]
  },
  {
   "cell_type": "code",
   "execution_count": null,
   "metadata": {},
   "outputs": [],
   "source": [
    "from PIL import Image\n",
    "import matplotlib.pyplot as plt\n",
    "\n",
    "# Create an image loader\n",
    "image_loader = WineImageLoader()\n",
    "\n",
    "# Find a sample with an existing image\n",
    "sample_with_image = dataset.train[dataset.train['image_filename'].apply(image_loader.exists)].iloc[0]\n",
    "print(f\"Wine: {sample_with_image['name']}\")\n",
    "print(f\"Category: {sample_with_image['wine_category']}\")\n",
    "print(f\"Price: ${sample_with_image['price']}\")\n",
    "\n",
    "# Load and display the image\n",
    "image_path = image_loader.path_for(sample_with_image['image_filename'])\n",
    "image = Image.open(image_path)\n",
    "\n",
    "plt.figure(figsize=(6, 8))\n",
    "plt.imshow(image)\n",
    "plt.axis('off')\n",
    "plt.title(sample_with_image['name'])\n",
    "plt.show()"
   ]
  },
  {
   "cell_type": "markdown",
   "metadata": {},
   "source": [
    "## 4. Generate Text Data for Training"
   ]
  },
  {
   "cell_type": "code",
   "execution_count": null,
   "metadata": {},
   "outputs": [],
   "source": [
    "# Use built-in iterators for common tasks\n",
    "print(\"Sample wine names for language modeling:\")\n",
    "for i, name in enumerate(dataset.iter_name_sequences()):\n",
    "    if i >= 5:  # Show first 5\n",
    "        break\n",
    "    print(f\"  {name}\")\n",
    "\n",
    "print(\"\\nSample name-description pairs for conditional generation:\")\n",
    "for i, (name, description) in enumerate(dataset.iter_description_pairs()):\n",
    "    if i >= 3:  # Show first 3\n",
    "        break\n",
    "    print(f\"  Name: {name}\")\n",
    "    print(f\"  Description: {description[:100]}...\")\n",
    "    print()"
   ]
  },
  {
   "cell_type": "markdown",
   "metadata": {},
   "source": [
    "## 5. Convert to Hugging Face Dataset"
   ]
  },
  {
   "cell_type": "code",
   "execution_count": null,
   "metadata": {},
   "outputs": [],
   "source": [
    "from wine_ai.data.loaders import to_hf_dataset\n",
    "\n",
    "# Convert training split to Hugging Face dataset\n",
    "hf_dataset = to_hf_dataset(dataset.train)\n",
    "print(f\"Hugging Face dataset: {hf_dataset}\")\n",
    "print(f\"Features: {hf_dataset.features}\")"
   ]
  },
  {
   "cell_type": "markdown",
   "metadata": {},
   "source": [
    "## Next Steps\n",
    "\n",
    "- Check `notebooks/00_data_exploration.ipynb` for detailed data analysis\n",
    "- Use `wine-train` CLI command to train models\n",
    "- Use `wine-validate` to check data quality\n",
    "- Explore the `src/wine_ai/` package for model implementations"
   ]
  }
 ],
 "metadata": {
  "kernelspec": {
   "display_name": "Python 3",
   "language": "python",
   "name": "python3"
  },
  "language_info": {
   "codemirror_mode": {
    "name": "ipython",
    "version": 3
   },
   "file_extension": ".py",
   "mimetype": "text/x-python",
   "name": "python",
   "nbconvert_exporter": "python",
   "pygments_lexer": "ipython3",
   "version": "3.11.0"
  }
 },
 "nbformat": 4,
 "nbformat_minor": 4
}