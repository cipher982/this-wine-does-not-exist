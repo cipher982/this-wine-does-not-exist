{
 "cells": [
  {
   "cell_type": "code",
   "execution_count": 60,
   "metadata": {},
   "outputs": [],
   "source": [
    "from PIL import Image, ImageChops, ImageFile\n",
    "import glob\n",
    "import numpy as np\n",
    "import matplotlib.pyplot as plt\n",
    "import pandas as pd\n",
    "from tqdm import tqdm_notebook as tqdm\n",
    "import os\n",
    "\n",
    "ImageFile.LOAD_TRUNCATED_IMAGES = True"
   ]
  },
  {
   "cell_type": "markdown",
   "metadata": {},
   "source": [
    "## Check for non-padded label names and fix to 5 0's"
   ]
  },
  {
   "cell_type": "code",
   "execution_count": 63,
   "metadata": {},
   "outputs": [
    {
     "name": "stdout",
     "output_type": "stream",
     "text": [
      "5\n"
     ]
    }
   ],
   "source": [
    "for filename in os.listdir(\"images/labels/\"):\n",
    "    src = \"images/labels/\" + filename\n",
    "    dst = filename.split('-')[-1].split('.')[0]\n",
    "    if len(dst) < 5:\n",
    "        dst = dst.zfill(5)\n",
    "        dst = \"images/labels/example-\" + dst + \".png\"\n",
    "        os.rename(src, dst)\n",
    "    \n"
   ]
  },
  {
   "cell_type": "markdown",
   "metadata": {},
   "source": [
    "## Read in labels and bottle image"
   ]
  },
  {
   "cell_type": "code",
   "execution_count": null,
   "metadata": {},
   "outputs": [],
   "source": [
    "labels_list = []\n",
    "for filename in glob.glob('images/labels/*.png'): \n",
    "    im=Image.open(filename)\n",
    "    labels_list.append(im)\n",
    "    \n",
    "bottle = Image.open('data/images/blank_bottle.jpg')"
   ]
  },
  {
   "cell_type": "markdown",
   "metadata": {},
   "source": [
    "## Identify sharp color gradients and crop horizontally"
   ]
  },
  {
   "cell_type": "code",
   "execution_count": null,
   "metadata": {},
   "outputs": [],
   "source": [
    "\n",
    "img_diffs = []\n",
    "maxs = []\n",
    "mins = []\n",
    "maxs_ix = []\n",
    "mins_ix = []\n",
    "means = []\n",
    "for label in labels_list:\n",
    "    label = np.asarray(label)\n",
    "    vertical_crop = label[:,:5,:]\n",
    "    vertical_means = np.mean(vertical_crop, axis=2).mean(axis=1)\n",
    "    diffs = []\n",
    "    for i,pixel in enumerate(vertical_means):\n",
    "        diff = vertical_means[i] - vertical_means[i-1]\n",
    "        diffs.append(diff)\n",
    "    img_diffs.append(diffs)\n",
    "    max_ix = vertical_means\n",
    "    #print(len(diffs)/2)\n",
    "    maxs.append(np.max(diffs[256:]))\n",
    "    mins.append(np.min(diffs[:256]))\n",
    "    maxs_ix.append(np.argmax(diffs[256:]))\n",
    "    mins_ix.append(np.argmin(diffs[:256]))\n",
    "    means.append(np.mean(diffs))\n",
    "    \n",
    "maxs = pd.Series(maxs)\n",
    "mins = pd.Series(mins)\n",
    "means = pd.Series(means)\n",
    "img_diffs = pd.Series(img_diffs)\n",
    "    \n",
    "means_good = [np.mean(diffs) for diffs in img_diffs_good]\n",
    "plt.figure(figsize=(40,5))\n",
    "plt.title(\"Average differences among labels\")\n",
    "plt.plot(means_good)\n",
    "plt.show()"
   ]
  },
  {
   "cell_type": "code",
   "execution_count": null,
   "metadata": {},
   "outputs": [],
   "source": [
    "for index in tqdm(img_diffs_good.index.values):\n",
    "    label = labels_list[index]\n",
    "    label = np.asarray(label)\n",
    "    label_cropped = label[mins_ix[index]:256+maxs_ix[index],:,:]\n",
    "    #print(\"dim:\",np.shape(label_cropped))\n",
    "    label_cropped = Image.fromarray(label_cropped, 'RGB')\n",
    "    label_cropped.save(\"images/labels_cropped/cropped_\" + str(index).zfill(5) + \".png\", \"png\")\n",
    "    "
   ]
  },
  {
   "cell_type": "markdown",
   "metadata": {},
   "source": [
    "## Trim any remaining true whitespace"
   ]
  },
  {
   "cell_type": "code",
   "execution_count": 61,
   "metadata": {},
   "outputs": [
    {
     "data": {
      "application/vnd.jupyter.widget-view+json": {
       "model_id": "4736b55399504e959feabe583fb195c4",
       "version_major": 2,
       "version_minor": 0
      },
      "text/plain": [
       "HBox(children=(IntProgress(value=0, max=673), HTML(value='')))"
      ]
     },
     "metadata": {},
     "output_type": "display_data"
    }
   ],
   "source": [
    "def trim(im):\n",
    "    bg = Image.new(im.mode, im.size, im.getpixel((0,0)))\n",
    "    diff = ImageChops.difference(im, bg)\n",
    "    diff = ImageChops.add(diff, diff, 2.0, -100)\n",
    "    bbox = diff.getbbox()\n",
    "    if bbox:\n",
    "        return im.crop(bbox)\n",
    "\n",
    "for filename in tqdm(glob.glob('images/labels_cropped/*.png')):\n",
    "    im = Image.open(filename, 'r')\n",
    "    im_cropped = trim(im)\n",
    "    filename = filename.split('\\\\')[-1]\n",
    "    im_cropped.save(\"images/labels_cropped_2/\" + filename)"
   ]
  },
  {
   "cell_type": "markdown",
   "metadata": {},
   "source": [
    "## Perform final quality checks"
   ]
  },
  {
   "cell_type": "code",
   "execution_count": 73,
   "metadata": {},
   "outputs": [],
   "source": [
    "for path in glob.glob('images/labels_cropped_2/*.png'): \n",
    "    filename = path.split('\\\\')[-1].split('.')[0]\n",
    "    im=Image.open(path)\n",
    "    height = np.shape(im)[0]\n",
    "    width = np.shape(im)[1]\n",
    "    if 0.3 < (height/width) < 1.2:\n",
    "        im.save(\"images/labels_final/\" + filename + \".png\")\n",
    "    \n",
    "    "
   ]
  },
  {
   "cell_type": "markdown",
   "metadata": {},
   "source": [
    "# Place finished labels onto the bottle"
   ]
  },
  {
   "cell_type": "code",
   "execution_count": null,
   "metadata": {},
   "outputs": [],
   "source": [
    "from PIL import ImageDraw\n",
    "from tqdm import tqdm\n",
    "\n",
    "SIZE = int(512*.58),int(512*.58)\n",
    "\n",
    "\n",
    "labels_list = []\n",
    "for filename in glob.glob('images/labels_final/*.png'): \n",
    "    im=Image.open(filename)\n",
    "    labels_list.append(im)\n",
    "    \n",
    "i = 0\n",
    "for current_label in tqdm(labels_list):\n",
    "    # Open images\n",
    "    label = current_label.copy()\n",
    "    bottle = Image.open('data/images/blank_bottle.jpg')\n",
    "\n",
    "    # Convert and resize as needed\n",
    "    label = label.convert('RGBA').resize(SIZE, Image.ANTIALIAS)\n",
    "    bottle = bottle.convert('RGBA')\n",
    "\n",
    "    # Create transparency mask\n",
    "    #mask=Image.new('L', label.size, color=255)\n",
    "    #draw=ImageDraw.Draw(mask) \n",
    "    #label.putalpha(mask)\n",
    "\n",
    "    bottle.paste(label, (252, 410), label)\n",
    "    #bottle.show()\n",
    "    #break\n",
    "    bottle.save(\"images/labels_on_bottle/wine_bottle_\" + str(i).zfill(5) + \".png\", \"png\")\n",
    "    i += 1\n"
   ]
  },
  {
   "cell_type": "code",
   "execution_count": null,
   "metadata": {},
   "outputs": [],
   "source": []
  }
 ],
 "metadata": {
  "kernelspec": {
   "display_name": "Python 3",
   "language": "python",
   "name": "python3"
  },
  "language_info": {
   "codemirror_mode": {
    "name": "ipython",
    "version": 3
   },
   "file_extension": ".py",
   "mimetype": "text/x-python",
   "name": "python",
   "nbconvert_exporter": "python",
   "pygments_lexer": "ipython3",
   "version": "3.6.7"
  }
 },
 "nbformat": 4,
 "nbformat_minor": 2
}
